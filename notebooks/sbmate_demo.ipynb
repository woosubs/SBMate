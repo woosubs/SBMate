{
 "cells": [
  {
   "cell_type": "code",
   "execution_count": 1,
   "id": "f11cd2ba",
   "metadata": {},
   "outputs": [],
   "source": [
    "# SBMate demo\n",
    "import libsbml\n",
    "import numpy as np\n",
    "import os\n",
    "import sys\n",
    "sys.path.append(os.path.join(os.getcwd(), '../'))\n",
    "from SBMate import sbmate\n",
    "BIOMD_12 = 'BIOMD0000000012.xml'\n",
    "BIOMD_13 = 'BIOMD0000000013.xml'\n",
    "BIOMD_15 = 'BIOMD0000000015.xml'"
   ]
  },
  {
   "cell_type": "code",
   "execution_count": 2,
   "id": "0f9d62d5",
   "metadata": {},
   "outputs": [
    {
     "name": "stdout",
     "output_type": "stream",
     "text": [
      "Model 'BIOMD0000000012.xml' has total 20 annotatable entities.\n",
      "20 entities are annotated.\n",
      "19 entities are consistent.\n",
      "...\n",
      "Coverage is: 1.00\n",
      "Consistency is: 0.95\n",
      "Specificity is: 0.88\n",
      "\n",
      "Model 'BIOMD0000000013.xml' has total 51 annotatable entities.\n",
      "51 entities are annotated.\n",
      "51 entities are consistent.\n",
      "...\n",
      "Coverage is: 1.00\n",
      "Consistency is: 1.00\n",
      "Specificity is: 0.99\n",
      "\n"
     ]
    }
   ],
   "source": [
    "BIOMD_12 = 'BIOMD0000000012.xml'\n",
    "BIOMD_13 = 'BIOMD0000000013.xml'\n",
    "#report = sbmate.getMetrics(BIOMD_12)\n",
    "report = sbmate.getMetrics([BIOMD_12, BIOMD_13])\n",
    "print(report)"
   ]
  },
  {
   "cell_type": "code",
   "execution_count": 3,
   "id": "25f90624",
   "metadata": {},
   "outputs": [],
   "source": [
    "table = sbmate.getMetrics([BIOMD_12, BIOMD_13], output='table')"
   ]
  },
  {
   "cell_type": "code",
   "execution_count": 4,
   "id": "d1a9f0e0",
   "metadata": {},
   "outputs": [
    {
     "data": {
      "text/html": [
       "<div>\n",
       "<style scoped>\n",
       "    .dataframe tbody tr th:only-of-type {\n",
       "        vertical-align: middle;\n",
       "    }\n",
       "\n",
       "    .dataframe tbody tr th {\n",
       "        vertical-align: top;\n",
       "    }\n",
       "\n",
       "    .dataframe thead th {\n",
       "        text-align: right;\n",
       "    }\n",
       "</style>\n",
       "<table border=\"1\" class=\"dataframe\">\n",
       "  <thead>\n",
       "    <tr style=\"text-align: right;\">\n",
       "      <th></th>\n",
       "      <th>num_annotatable_entities</th>\n",
       "      <th>num_annotated_entities</th>\n",
       "      <th>num_consistent_entities</th>\n",
       "      <th>coverage</th>\n",
       "      <th>consistency</th>\n",
       "      <th>specificity</th>\n",
       "    </tr>\n",
       "  </thead>\n",
       "  <tbody>\n",
       "    <tr>\n",
       "      <th>BIOMD0000000012.xml</th>\n",
       "      <td>20</td>\n",
       "      <td>20</td>\n",
       "      <td>19</td>\n",
       "      <td>1.00</td>\n",
       "      <td>0.95</td>\n",
       "      <td>0.88</td>\n",
       "    </tr>\n",
       "    <tr>\n",
       "      <th>BIOMD0000000013.xml</th>\n",
       "      <td>51</td>\n",
       "      <td>51</td>\n",
       "      <td>51</td>\n",
       "      <td>1.00</td>\n",
       "      <td>1.00</td>\n",
       "      <td>0.99</td>\n",
       "    </tr>\n",
       "  </tbody>\n",
       "</table>\n",
       "</div>"
      ],
      "text/plain": [
       "                     num_annotatable_entities  num_annotated_entities  \\\n",
       "BIOMD0000000012.xml                        20                      20   \n",
       "BIOMD0000000013.xml                        51                      51   \n",
       "\n",
       "                     num_consistent_entities coverage consistency specificity  \n",
       "BIOMD0000000012.xml                       19     1.00        0.95        0.88  \n",
       "BIOMD0000000013.xml                       51     1.00        1.00        0.99  "
      ]
     },
     "execution_count": 4,
     "metadata": {},
     "output_type": "execute_result"
    }
   ],
   "source": [
    "table"
   ]
  },
  {
   "cell_type": "code",
   "execution_count": 5,
   "id": "bfc23e1f",
   "metadata": {},
   "outputs": [
    {
     "data": {
      "text/plain": [
       "<bound method NDFrame.to_csv of                      num_annotatable_entities  num_annotated_entities  \\\n",
       "BIOMD0000000012.xml                        20                      20   \n",
       "\n",
       "                     num_consistent_entities coverage consistency specificity  \n",
       "BIOMD0000000012.xml                       19     1.00        0.95        0.88  >"
      ]
     },
     "execution_count": 5,
     "metadata": {},
     "output_type": "execute_result"
    }
   ],
   "source": [
    "# need to be able to analyze a list of files\n",
    "result_df = sbmate.getMetrics(BIOMD_12, 'table')\n",
    "result_df.to_csv"
   ]
  },
  {
   "cell_type": "code",
   "execution_count": 6,
   "id": "95e9b3f0",
   "metadata": {},
   "outputs": [],
   "source": [
    "one_sbmate = sbmate.AnnotationMetrics(BIOMD_12)"
   ]
  },
  {
   "cell_type": "code",
   "execution_count": 7,
   "id": "30e780ef",
   "metadata": {},
   "outputs": [
    {
     "data": {
      "text/plain": [
       "dict_keys(['BIOMD0000000012', 'cell', 'PX', 'PY', 'PZ', 'X', 'Y', 'Z', 'Reaction1', 'Reaction2', 'Reaction3', 'Reaction4', 'Reaction5', 'Reaction6', 'Reaction7', 'Reaction8', 'Reaction9', 'Reaction10', 'Reaction11', 'Reaction12'])"
      ]
     },
     "execution_count": 7,
     "metadata": {},
     "output_type": "execute_result"
    }
   ],
   "source": [
    "one_sbmate.annotations.annotations.keys()"
   ]
  },
  {
   "cell_type": "code",
   "execution_count": 8,
   "id": "d097111a",
   "metadata": {},
   "outputs": [
    {
     "data": {
      "text/plain": [
       "1.0"
      ]
     },
     "execution_count": 8,
     "metadata": {},
     "output_type": "execute_result"
    }
   ],
   "source": [
    "one_sbmate.coverage"
   ]
  },
  {
   "cell_type": "code",
   "execution_count": 9,
   "id": "e7288862",
   "metadata": {},
   "outputs": [
    {
     "data": {
      "text/plain": [
       "0.95"
      ]
     },
     "execution_count": 9,
     "metadata": {},
     "output_type": "execute_result"
    }
   ],
   "source": [
    "consistent_entities, consistency = one_sbmate.getConsistency(one_sbmate.annotated_entities)\n",
    "consistency"
   ]
  },
  {
   "cell_type": "code",
   "execution_count": 10,
   "id": "42cac138",
   "metadata": {},
   "outputs": [
    {
     "data": {
      "text/plain": [
       "0.88"
      ]
     },
     "execution_count": 10,
     "metadata": {},
     "output_type": "execute_result"
    }
   ],
   "source": [
    "one_sbmate.getSpecificity(consistent_entities)"
   ]
  },
  {
   "cell_type": "code",
   "execution_count": null,
   "id": "48ca14fb",
   "metadata": {},
   "outputs": [],
   "source": []
  }
 ],
 "metadata": {
  "kernelspec": {
   "display_name": "pyo",
   "language": "python",
   "name": "pyo"
  },
  "language_info": {
   "codemirror_mode": {
    "name": "ipython",
    "version": 3
   },
   "file_extension": ".py",
   "mimetype": "text/x-python",
   "name": "python",
   "nbconvert_exporter": "python",
   "pygments_lexer": "ipython3",
   "version": "3.8.8"
  }
 },
 "nbformat": 4,
 "nbformat_minor": 5
}
