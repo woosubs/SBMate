{
 "cells": [
  {
   "cell_type": "code",
   "execution_count": 30,
   "id": "7031d51f",
   "metadata": {},
   "outputs": [],
   "source": [
    "# SBMate demo\n",
    "import libsbml\n",
    "import numpy as np\n",
    "import pandas as pd\n",
    "import os\n",
    "import sys\n",
    "sys.path.append(os.path.join(os.getcwd(), '../'))\n",
    "#from SBMate import sbmate\n",
    "from SBMate import sbmate_1 as sbmate\n",
    "from SBMate import metric_calculator as mc\n",
    "from SBMate import sbml_annotation as sa\n",
    "BIOMD_12 = 'BIOMD0000000012.xml'\n",
    "BIOMD_13 = 'BIOMD0000000013.xml'\n",
    "BIOMD_15 = 'BIOMD0000000015.xml'\n",
    "BIOMD_970 = 'BIOMD0000000970.xml'"
   ]
  },
  {
   "cell_type": "code",
   "execution_count": 3,
   "id": "2d8adaa6",
   "metadata": {},
   "outputs": [],
   "source": [
    "NOTEBOOK_DIR = os.getcwd()\n",
    "DATA_DIR = os.path.join(NOTEBOOK_DIR, \"../../DATA\")\n",
    "BIOMODEL_DIR = os.path.join(DATA_DIR, \"biomodels/curated_biomodels_31mar2021\")\n",
    "files = [f for f in os.listdir(BIOMODEL_DIR) if f[-4:] == \".xml\"]\n",
    "len(files)\n",
    "biomd_files = [os.path.join(BIOMODEL_DIR, one_file) for one_file in files]"
   ]
  },
  {
   "cell_type": "code",
   "execution_count": 41,
   "id": "79fdeafb",
   "metadata": {},
   "outputs": [
    {
     "data": {
      "text/plain": [
       "'Summary of Metrics (BIOMD0000000012.xml)\\n----------------------\\nannotatable_entities: 20\\nannotated_entities: 20\\ncoverage: 1.0\\nconsistent_entities: 19\\nconsistency: 0.95\\nspecificity: 0.88\\n----------------------\\n'"
      ]
     },
     "execution_count": 41,
     "metadata": {},
     "output_type": "execute_result"
    }
   ],
   "source": [
    "rep = sbmate.getMetrics(BIOMD_12, output='report')\n",
    "rep"
   ]
  },
  {
   "cell_type": "code",
   "execution_count": 3,
   "id": "89ebc56f",
   "metadata": {},
   "outputs": [
    {
     "data": {
      "text/html": [
       "<div>\n",
       "<style scoped>\n",
       "    .dataframe tbody tr th:only-of-type {\n",
       "        vertical-align: middle;\n",
       "    }\n",
       "\n",
       "    .dataframe tbody tr th {\n",
       "        vertical-align: top;\n",
       "    }\n",
       "\n",
       "    .dataframe thead th {\n",
       "        text-align: right;\n",
       "    }\n",
       "</style>\n",
       "<table border=\"1\" class=\"dataframe\">\n",
       "  <thead>\n",
       "    <tr style=\"text-align: right;\">\n",
       "      <th></th>\n",
       "      <th>annotatable_entities</th>\n",
       "      <th>annotated_entities</th>\n",
       "      <th>coverage</th>\n",
       "      <th>consistent_entities</th>\n",
       "      <th>consistency</th>\n",
       "      <th>specificity</th>\n",
       "    </tr>\n",
       "  </thead>\n",
       "  <tbody>\n",
       "    <tr>\n",
       "      <th>BIOMD0000000634.xml</th>\n",
       "      <td>183</td>\n",
       "      <td>20</td>\n",
       "      <td>0.11</td>\n",
       "      <td>19</td>\n",
       "      <td>0.95</td>\n",
       "      <td>0.97</td>\n",
       "    </tr>\n",
       "  </tbody>\n",
       "</table>\n",
       "</div>"
      ],
      "text/plain": [
       "                     annotatable_entities  annotated_entities  coverage  \\\n",
       "BIOMD0000000634.xml                   183                  20      0.11   \n",
       "\n",
       "                     consistent_entities  consistency  specificity  \n",
       "BIOMD0000000634.xml                   19         0.95         0.97  "
      ]
     },
     "execution_count": 3,
     "metadata": {},
     "output_type": "execute_result"
    }
   ],
   "source": [
    "df = sbmate.getMetrics('BIOMD0000000634.xml', output='table')\n",
    "df"
   ]
  },
  {
   "cell_type": "code",
   "execution_count": 4,
   "id": "d828880b",
   "metadata": {},
   "outputs": [
    {
     "name": "stdout",
     "output_type": "stream",
     "text": [
      "We are at 0\n",
      "We are at 50\n",
      "We are at 100\n",
      "We are at 150\n",
      "We are at 200\n",
      "We are at 250\n",
      "We are at 300\n",
      "We are at 350\n",
      "We are at 400\n",
      "We are at 450\n",
      "We are at 500\n",
      "We are at 550\n",
      "We are at 600\n",
      "We are at 650\n",
      "We are at 700\n",
      "We are at 750\n",
      "We are at 800\n",
      "We are at 850\n",
      "We are at 900\n",
      "We are at 950\n"
     ]
    }
   ],
   "source": [
    "error_models = []\n",
    "table = None\n",
    "for idx, one_file in enumerate(biomd_files):\n",
    "  if idx % 50 == 0:\n",
    "    print(\"We are at %d\" % idx)\n",
    "  try:\n",
    "    one_table = sbmate.getMetrics(one_file, output='table')\n",
    "    if table is None:\n",
    "      table = one_table\n",
    "    else:\n",
    "      table = pd.concat([table, one_table])\n",
    "  except:\n",
    "    error_models.append(one_file)"
   ]
  },
  {
   "cell_type": "code",
   "execution_count": null,
   "id": "cc09d9e7",
   "metadata": {},
   "outputs": [],
   "source": [
    "orig_table = table\n",
    "orig_table.to_csv(\"orig_table.csv\")"
   ]
  },
  {
   "cell_type": "code",
   "execution_count": 5,
   "id": "999743bb",
   "metadata": {},
   "outputs": [
    {
     "data": {
      "text/plain": [
       "1"
      ]
     },
     "execution_count": 5,
     "metadata": {},
     "output_type": "execute_result"
    }
   ],
   "source": [
    "len(error_models)"
   ]
  },
  {
   "cell_type": "code",
   "execution_count": 6,
   "id": "d3935306",
   "metadata": {},
   "outputs": [
    {
     "data": {
      "text/plain": [
       "(999, 6)"
      ]
     },
     "execution_count": 6,
     "metadata": {},
     "output_type": "execute_result"
    }
   ],
   "source": [
    "table.shape"
   ]
  },
  {
   "cell_type": "code",
   "execution_count": 8,
   "id": "b0dad29b",
   "metadata": {},
   "outputs": [
    {
     "data": {
      "text/html": [
       "<div>\n",
       "<style scoped>\n",
       "    .dataframe tbody tr th:only-of-type {\n",
       "        vertical-align: middle;\n",
       "    }\n",
       "\n",
       "    .dataframe tbody tr th {\n",
       "        vertical-align: top;\n",
       "    }\n",
       "\n",
       "    .dataframe thead th {\n",
       "        text-align: right;\n",
       "    }\n",
       "</style>\n",
       "<table border=\"1\" class=\"dataframe\">\n",
       "  <thead>\n",
       "    <tr style=\"text-align: right;\">\n",
       "      <th></th>\n",
       "      <th>annotatable_entities</th>\n",
       "      <th>annotated_entities</th>\n",
       "      <th>coverage</th>\n",
       "      <th>consistent_entities</th>\n",
       "      <th>consistency</th>\n",
       "      <th>specificity</th>\n",
       "    </tr>\n",
       "  </thead>\n",
       "  <tbody>\n",
       "    <tr>\n",
       "      <th>BIOMD0000000471.xml</th>\n",
       "      <td>942</td>\n",
       "      <td>942</td>\n",
       "      <td>1.0</td>\n",
       "      <td>939</td>\n",
       "      <td>1.0</td>\n",
       "      <td>0.82</td>\n",
       "    </tr>\n",
       "  </tbody>\n",
       "</table>\n",
       "</div>"
      ],
      "text/plain": [
       "                     annotatable_entities  annotated_entities  coverage  \\\n",
       "BIOMD0000000471.xml                   942                 942       1.0   \n",
       "\n",
       "                     consistent_entities  consistency  specificity  \n",
       "BIOMD0000000471.xml                  939          1.0         0.82  "
      ]
     },
     "execution_count": 8,
     "metadata": {},
     "output_type": "execute_result"
    }
   ],
   "source": [
    "# need to run for 'error_models'\n",
    "error_tables = sbmate.getMetrics(error_models, output='table')\n",
    "error_tables"
   ]
  },
  {
   "cell_type": "code",
   "execution_count": 9,
   "id": "747f5034",
   "metadata": {},
   "outputs": [],
   "source": [
    "comb_tables = pd.concat([table, error_tables])"
   ]
  },
  {
   "cell_type": "code",
   "execution_count": 11,
   "id": "91848c90",
   "metadata": {},
   "outputs": [
    {
     "data": {
      "text/plain": [
       "(1000, 6)"
      ]
     },
     "execution_count": 11,
     "metadata": {},
     "output_type": "execute_result"
    }
   ],
   "source": [
    "comb_tables.shape"
   ]
  },
  {
   "cell_type": "code",
   "execution_count": 18,
   "id": "247bdc93",
   "metadata": {},
   "outputs": [],
   "source": [
    "comb_tables.to_csv('comb_table.csv')"
   ]
  },
  {
   "cell_type": "code",
   "execution_count": 17,
   "id": "d781dfec",
   "metadata": {},
   "outputs": [
    {
     "data": {
      "text/html": [
       "<div>\n",
       "<style scoped>\n",
       "    .dataframe tbody tr th:only-of-type {\n",
       "        vertical-align: middle;\n",
       "    }\n",
       "\n",
       "    .dataframe tbody tr th {\n",
       "        vertical-align: top;\n",
       "    }\n",
       "\n",
       "    .dataframe thead th {\n",
       "        text-align: right;\n",
       "    }\n",
       "</style>\n",
       "<table border=\"1\" class=\"dataframe\">\n",
       "  <thead>\n",
       "    <tr style=\"text-align: right;\">\n",
       "      <th></th>\n",
       "      <th>annotatable_entities</th>\n",
       "      <th>annotated_entities</th>\n",
       "      <th>coverage</th>\n",
       "      <th>consistent_entities</th>\n",
       "      <th>consistency</th>\n",
       "      <th>specificity</th>\n",
       "    </tr>\n",
       "  </thead>\n",
       "  <tbody>\n",
       "    <tr>\n",
       "      <th>BIOMD0000000634.xml</th>\n",
       "      <td>183</td>\n",
       "      <td>20</td>\n",
       "      <td>0.11</td>\n",
       "      <td>19</td>\n",
       "      <td>0.95</td>\n",
       "      <td>0.97</td>\n",
       "    </tr>\n",
       "    <tr>\n",
       "      <th>BIOMD0000000152.xml</th>\n",
       "      <td>186</td>\n",
       "      <td>92</td>\n",
       "      <td>0.49</td>\n",
       "      <td>92</td>\n",
       "      <td>1.00</td>\n",
       "      <td>0.85</td>\n",
       "    </tr>\n",
       "    <tr>\n",
       "      <th>BIOMD0000000146.xml</th>\n",
       "      <td>72</td>\n",
       "      <td>43</td>\n",
       "      <td>0.60</td>\n",
       "      <td>42</td>\n",
       "      <td>0.98</td>\n",
       "      <td>0.63</td>\n",
       "    </tr>\n",
       "    <tr>\n",
       "      <th>BIOMD0000000620.xml</th>\n",
       "      <td>57</td>\n",
       "      <td>9</td>\n",
       "      <td>0.16</td>\n",
       "      <td>8</td>\n",
       "      <td>0.89</td>\n",
       "      <td>0.97</td>\n",
       "    </tr>\n",
       "    <tr>\n",
       "      <th>BIOMD0000000608.xml</th>\n",
       "      <td>194</td>\n",
       "      <td>1</td>\n",
       "      <td>0.01</td>\n",
       "      <td>1</td>\n",
       "      <td>1.00</td>\n",
       "      <td>0.51</td>\n",
       "    </tr>\n",
       "  </tbody>\n",
       "</table>\n",
       "</div>"
      ],
      "text/plain": [
       "                     annotatable_entities annotated_entities  coverage  \\\n",
       "BIOMD0000000634.xml                   183                 20      0.11   \n",
       "BIOMD0000000152.xml                   186                 92      0.49   \n",
       "BIOMD0000000146.xml                    72                 43      0.60   \n",
       "BIOMD0000000620.xml                    57                  9      0.16   \n",
       "BIOMD0000000608.xml                   194                  1      0.01   \n",
       "\n",
       "                    consistent_entities  consistency  specificity  \n",
       "BIOMD0000000634.xml                  19         0.95         0.97  \n",
       "BIOMD0000000152.xml                  92         1.00         0.85  \n",
       "BIOMD0000000146.xml                  42         0.98         0.63  \n",
       "BIOMD0000000620.xml                   8         0.89         0.97  \n",
       "BIOMD0000000608.xml                   1         1.00         0.51  "
      ]
     },
     "execution_count": 17,
     "metadata": {},
     "output_type": "execute_result"
    }
   ],
   "source": [
    "comb_tables.head()"
   ]
  },
  {
   "cell_type": "code",
   "execution_count": null,
   "id": "5856d881",
   "metadata": {},
   "outputs": [],
   "source": [
    "one_res = sbmate."
   ]
  },
  {
   "cell_type": "code",
   "execution_count": 5,
   "id": "d4c52663",
   "metadata": {},
   "outputs": [],
   "source": [
    "one_sbmate = sa.SortedSBMLAnnotation(BIOMD_12)"
   ]
  },
  {
   "cell_type": "code",
   "execution_count": 8,
   "id": "0f720ff7",
   "metadata": {},
   "outputs": [
    {
     "data": {
      "text/plain": [
       "SBMate.sbml_annotation.SortedSBMLAnnotation"
      ]
     },
     "execution_count": 8,
     "metadata": {},
     "output_type": "execute_result"
    }
   ],
   "source": [
    "type(one_sbmate)"
   ]
  },
  {
   "cell_type": "code",
   "execution_count": 31,
   "id": "a8b9826d",
   "metadata": {},
   "outputs": [],
   "source": [
    "one_sbmate = sa.SortedSBMLAnnotation(BIOMD_970)\n",
    "s = mc.MetricCalculator(annotations=one_sbmate, file='abc')"
   ]
  },
  {
   "cell_type": "code",
   "execution_count": 32,
   "id": "c4d2f37e",
   "metadata": {},
   "outputs": [
    {
     "data": {
      "text/html": [
       "<div>\n",
       "<style scoped>\n",
       "    .dataframe tbody tr th:only-of-type {\n",
       "        vertical-align: middle;\n",
       "    }\n",
       "\n",
       "    .dataframe tbody tr th {\n",
       "        vertical-align: top;\n",
       "    }\n",
       "\n",
       "    .dataframe thead th {\n",
       "        text-align: right;\n",
       "    }\n",
       "</style>\n",
       "<table border=\"1\" class=\"dataframe\">\n",
       "  <thead>\n",
       "    <tr style=\"text-align: right;\">\n",
       "      <th></th>\n",
       "      <th>annotatable_entities</th>\n",
       "      <th>annotated_entities</th>\n",
       "      <th>coverage</th>\n",
       "      <th>consistent_entities</th>\n",
       "      <th>consistency</th>\n",
       "      <th>specificity</th>\n",
       "    </tr>\n",
       "  </thead>\n",
       "  <tbody>\n",
       "    <tr>\n",
       "      <th>abc</th>\n",
       "      <td>10</td>\n",
       "      <td>None</td>\n",
       "      <td>0.0</td>\n",
       "      <td>None</td>\n",
       "      <td>None</td>\n",
       "      <td>None</td>\n",
       "    </tr>\n",
       "  </tbody>\n",
       "</table>\n",
       "</div>"
      ],
      "text/plain": [
       "     annotatable_entities annotated_entities  coverage consistent_entities  \\\n",
       "abc                    10               None       0.0                None   \n",
       "\n",
       "    consistency specificity  \n",
       "abc        None        None  "
      ]
     },
     "execution_count": 32,
     "metadata": {},
     "output_type": "execute_result"
    }
   ],
   "source": [
    "calc_df = s.calculate()\n",
    "calc_df"
   ]
  },
  {
   "cell_type": "code",
   "execution_count": 36,
   "id": "c2537001",
   "metadata": {},
   "outputs": [
    {
     "data": {
      "text/plain": [
       "True"
      ]
     },
     "execution_count": 36,
     "metadata": {},
     "output_type": "execute_result"
    }
   ],
   "source": [
    "calc_df['annotated_entities'][0] == None"
   ]
  },
  {
   "cell_type": "code",
   "execution_count": 37,
   "id": "b138dee4",
   "metadata": {},
   "outputs": [],
   "source": [
    "annotated_entities, coverage = s._getCoverage()\n",
    "consistent_entities, consistency = s._getConsistency(annotated_entities)"
   ]
  },
  {
   "cell_type": "code",
   "execution_count": 40,
   "id": "12c804c4",
   "metadata": {},
   "outputs": [],
   "source": [
    "consistency"
   ]
  },
  {
   "cell_type": "code",
   "execution_count": 29,
   "id": "5db5d74e",
   "metadata": {},
   "outputs": [
    {
     "data": {
      "text/plain": [
       "{'cell'}"
      ]
     },
     "execution_count": 29,
     "metadata": {},
     "output_type": "execute_result"
    }
   ],
   "source": [
    "set(annotated_entities)  - set(consistent_entities)"
   ]
  },
  {
   "cell_type": "code",
   "execution_count": 24,
   "id": "2fff565c",
   "metadata": {},
   "outputs": [
    {
     "data": {
      "text/plain": [
       "['annotatable_entities',\n",
       " 'annotated_entities',\n",
       " 'coverage',\n",
       " 'consistent_entities',\n",
       " 'consistency',\n",
       " 'specificity']"
      ]
     },
     "execution_count": 24,
     "metadata": {},
     "output_type": "execute_result"
    }
   ],
   "source": [
    "list(calc_df.loc['abc':])"
   ]
  },
  {
   "cell_type": "code",
   "execution_count": 20,
   "id": "55b360dd",
   "metadata": {},
   "outputs": [
    {
     "name": "stdout",
     "output_type": "stream",
     "text": [
      "annotated_entities: 20\n",
      "coverage: 1.0\n",
      "consistent_entities: 19\n",
      "consistency: 0.95\n",
      "specificity: 0.88\n",
      "\n"
     ]
    }
   ],
   "source": [
    "rep_list = [\"%s: %s\\n\" % (col, df[col][0]) for col in df]\n",
    "print(('').join(rep_list))"
   ]
  },
  {
   "cell_type": "code",
   "execution_count": 17,
   "id": "1696446d",
   "metadata": {},
   "outputs": [
    {
     "name": "stdout",
     "output_type": "stream",
     "text": [
      "annotated_entities\n",
      "20\n",
      "coverage\n",
      "1.0\n",
      "consistent_entities\n",
      "19\n",
      "consistency\n",
      "0.95\n",
      "specificity\n",
      "0.88\n"
     ]
    }
   ],
   "source": [
    "for col in df:\n",
    "  print(col)\n",
    "  print(df[col][0])"
   ]
  },
  {
   "cell_type": "code",
   "execution_count": 8,
   "id": "a60387a2",
   "metadata": {},
   "outputs": [
    {
     "data": {
      "text/plain": [
       "1.0"
      ]
     },
     "execution_count": 8,
     "metadata": {},
     "output_type": "execute_result"
    }
   ],
   "source": [
    "one_sbmate.coverage"
   ]
  },
  {
   "cell_type": "code",
   "execution_count": 9,
   "id": "08ad7c63",
   "metadata": {},
   "outputs": [
    {
     "data": {
      "text/plain": [
       "0.95"
      ]
     },
     "execution_count": 9,
     "metadata": {},
     "output_type": "execute_result"
    }
   ],
   "source": [
    "consistent_entities, consistency = one_sbmate.getConsistency(one_sbmate.annotated_entities)\n",
    "consistency"
   ]
  },
  {
   "cell_type": "code",
   "execution_count": 10,
   "id": "36eb43dc",
   "metadata": {},
   "outputs": [
    {
     "data": {
      "text/plain": [
       "0.88"
      ]
     },
     "execution_count": 10,
     "metadata": {},
     "output_type": "execute_result"
    }
   ],
   "source": [
    "one_sbmate.getSpecificity(consistent_entities)"
   ]
  },
  {
   "cell_type": "code",
   "execution_count": 11,
   "id": "427cd2e4",
   "metadata": {},
   "outputs": [
    {
     "data": {
      "text/plain": [
       "'/Users/woosubs/Desktop/AutomateAnnotation/SBMate/notebooks'"
      ]
     },
     "execution_count": 11,
     "metadata": {},
     "output_type": "execute_result"
    }
   ],
   "source": [
    "os.getcwd()"
   ]
  },
  {
   "cell_type": "code",
   "execution_count": 25,
   "id": "41bfcf72",
   "metadata": {},
   "outputs": [],
   "source": [
    "import pickle5 as pickle"
   ]
  },
  {
   "cell_type": "code",
   "execution_count": 27,
   "id": "db77c520",
   "metadata": {},
   "outputs": [],
   "source": [
    "from SBMate import dag_analyzer as da\n",
    "from SBMate import constants as cn"
   ]
  },
  {
   "cell_type": "code",
   "execution_count": 22,
   "id": "b1c6f8fc",
   "metadata": {},
   "outputs": [
    {
     "data": {
      "text/plain": [
       "<networkx.classes.digraph.DiGraph at 0x7fde598c2820>"
      ]
     },
     "execution_count": 22,
     "metadata": {},
     "output_type": "execute_result"
    }
   ],
   "source": [
    "dag_analyzer.SBO_G"
   ]
  },
  {
   "cell_type": "code",
   "execution_count": 34,
   "id": "d93bd274",
   "metadata": {},
   "outputs": [],
   "source": [
    "pickle.dump(da.SBO_G, open('sbo_g.pickle', 'wb'), protocol=pickle.HIGHEST_PROTOCOL)\n",
    "# pickle.dump(dag_analyzer.SBO_G, \"sbo_g.pickle\", pickle.HIGHEST_PROTOCO"
   ]
  },
  {
   "cell_type": "code",
   "execution_count": 36,
   "id": "e8c3fd8e",
   "metadata": {},
   "outputs": [],
   "source": [
    "dg = pickle.load(open(\"sbo_g.pickle\", 'rb'))"
   ]
  },
  {
   "cell_type": "code",
   "execution_count": 39,
   "id": "9563be06",
   "metadata": {},
   "outputs": [],
   "source": [
    "dg = pickle.load(open(os.path.join(cn.RESOURCE_DIR, \"sbo_graph.gpickle\"), 'rb'))"
   ]
  },
  {
   "cell_type": "code",
   "execution_count": 41,
   "id": "082cb33d",
   "metadata": {},
   "outputs": [
    {
     "data": {
      "text/plain": [
       "OutEdgeView([('SBO:0000001', 'SBO:0000064'), ('SBO:0000064', 'SBO:0000000'), ('SBO:0000002', 'SBO:0000545'), ('SBO:0000545', 'SBO:0000000'), ('SBO:0000003', 'SBO:0000000'), ('SBO:0000004', 'SBO:0000000'), ('SBO:0000005', 'SBO:0000064'), ('SBO:0000006', 'SBO:0000002'), ('SBO:0000007', 'SBO:0000235'), ('SBO:0000235', 'SBO:0000000'), ('SBO:0000008', 'SBO:0000004'), ('SBO:0000009', 'SBO:0000002'), ('SBO:0000010', 'SBO:0000003'), ('SBO:0000011', 'SBO:0000003'), ('SBO:0000012', 'SBO:0000001'), ('SBO:0000013', 'SBO:0000459'), ('SBO:0000459', 'SBO:0000019'), ('SBO:0000014', 'SBO:0000241'), ('SBO:0000241', 'SBO:0000236'), ('SBO:0000015', 'SBO:0000010'), ('SBO:0000016', 'SBO:0000009'), ('SBO:0000017', 'SBO:0000009'), ('SBO:0000018', 'SBO:0000009'), ('SBO:0000019', 'SBO:0000003'), ('SBO:0000020', 'SBO:0000019'), ('SBO:0000021', 'SBO:0000459'), ('SBO:0000022', 'SBO:0000016'), ('SBO:0000022', 'SBO:0000153'), ('SBO:0000153', 'SBO:0000009'), ('SBO:0000023', 'SBO:0000017'), ('SBO:0000023', 'SBO:0000153'), ('SBO:0000024', 'SBO:0000018'), ('SBO:0000024', 'SBO:0000153'), ('SBO:0000025', 'SBO:0000035'), ('SBO:0000035', 'SBO:0000022'), ('SBO:0000035', 'SBO:0000154'), ('SBO:0000026', 'SBO:0000006'), ('SBO:0000027', 'SBO:0000193'), ('SBO:0000193', 'SBO:0000308'), ('SBO:0000028', 'SBO:0000150'), ('SBO:0000028', 'SBO:0000326'), ('SBO:0000150', 'SBO:0000268'), ('SBO:0000326', 'SBO:0000269'), ('SBO:0000029', 'SBO:0000028'), ('SBO:0000030', 'SBO:0000028'), ('SBO:0000031', 'SBO:0000028'), ('SBO:0000032', 'SBO:0000016'), ('SBO:0000032', 'SBO:0000156'), ('SBO:0000156', 'SBO:0000009'), ('SBO:0000033', 'SBO:0000017'), ('SBO:0000033', 'SBO:0000156'), ('SBO:0000034', 'SBO:0000018'), ('SBO:0000034', 'SBO:0000156'), ('SBO:0000154', 'SBO:0000153'), ('SBO:0000036', 'SBO:0000023'), ('SBO:0000036', 'SBO:0000154'), ('SBO:0000037', 'SBO:0000024'), ('SBO:0000037', 'SBO:0000154'), ('SBO:0000038', 'SBO:0000032'), ('SBO:0000039', 'SBO:0000033'), ('SBO:0000040', 'SBO:0000034'), ('SBO:0000041', 'SBO:0000012'), ('SBO:0000042', 'SBO:0000012'), ('SBO:0000043', 'SBO:0000041'), ('SBO:0000044', 'SBO:0000041'), ('SBO:0000045', 'SBO:0000041'), ('SBO:0000046', 'SBO:0000009'), ('SBO:0000047', 'SBO:0000043'), ('SBO:0000047', 'SBO:0000163'), ('SBO:0000163', 'SBO:0000041'), ('SBO:0000048', 'SBO:0000154'), ('SBO:0000048', 'SBO:0000162'), ('SBO:0000162', 'SBO:0000046'), ('SBO:0000162', 'SBO:0000153'), ('SBO:0000049', 'SBO:0000044'), ('SBO:0000049', 'SBO:0000163'), ('SBO:0000050', 'SBO:0000045'), ('SBO:0000051', 'SBO:0000005'), ('SBO:0000052', 'SBO:0000050'), ('SBO:0000052', 'SBO:0000163'), ('SBO:0000053', 'SBO:0000045'), ('SBO:0000054', 'SBO:0000053'), ('SBO:0000054', 'SBO:0000163'), ('SBO:0000055', 'SBO:0000041'), ('SBO:0000056', 'SBO:0000055'), ('SBO:0000057', 'SBO:0000056'), ('SBO:0000057', 'SBO:0000163'), ('SBO:0000058', 'SBO:0000055'), ('SBO:0000059', 'SBO:0000058'), ('SBO:0000059', 'SBO:0000163'), ('SBO:0000060', 'SBO:0000055'), ('SBO:0000061', 'SBO:0000060'), ('SBO:0000061', 'SBO:0000163'), ('SBO:0000062', 'SBO:0000004'), ('SBO:0000063', 'SBO:0000004'), ('SBO:0000065', 'SBO:0000155'), ('SBO:0000065', 'SBO:0000162'), ('SBO:0000155', 'SBO:0000153'), ('SBO:0000066', 'SBO:0000022'), ('SBO:0000066', 'SBO:0000155'), ('SBO:0000067', 'SBO:0000023'), ('SBO:0000067', 'SBO:0000155'), ('SBO:0000068', 'SBO:0000024'), ('SBO:0000068', 'SBO:0000155'), ('SBO:0000069', 'SBO:0000042'), ('SBO:0000070', 'SBO:0000069'), ('SBO:0000071', 'SBO:0000069'), ('SBO:0000072', 'SBO:0000071'), ('SBO:0000073', 'SBO:0000071'), ('SBO:0000074', 'SBO:0000069'), ('SBO:0000075', 'SBO:0000074'), ('SBO:0000076', 'SBO:0000074'), ('SBO:0000077', 'SBO:0000074'), ('SBO:0000078', 'SBO:0000042'), ('SBO:0000079', 'SBO:0000078'), ('SBO:0000080', 'SBO:0000078'), ('SBO:0000081', 'SBO:0000078'), ('SBO:0000082', 'SBO:0000081'), ('SBO:0000083', 'SBO:0000081'), ('SBO:0000084', 'SBO:0000078'), ('SBO:0000085', 'SBO:0000084'), ('SBO:0000086', 'SBO:0000084'), ('SBO:0000087', 'SBO:0000084'), ('SBO:0000088', 'SBO:0000042'), ('SBO:0000089', 'SBO:0000088'), ('SBO:0000090', 'SBO:0000089'), ('SBO:0000091', 'SBO:0000089'), ('SBO:0000092', 'SBO:0000089'), ('SBO:0000093', 'SBO:0000092'), ('SBO:0000094', 'SBO:0000092'), ('SBO:0000095', 'SBO:0000089'), ('SBO:0000096', 'SBO:0000095'), ('SBO:0000097', 'SBO:0000095'), ('SBO:0000098', 'SBO:0000095'), ('SBO:0000099', 'SBO:0000088'), ('SBO:0000100', 'SBO:0000099'), ('SBO:0000101', 'SBO:0000099'), ('SBO:0000102', 'SBO:0000099'), ('SBO:0000103', 'SBO:0000102'), ('SBO:0000104', 'SBO:0000102'), ('SBO:0000105', 'SBO:0000099'), ('SBO:0000106', 'SBO:0000105'), ('SBO:0000107', 'SBO:0000105'), ('SBO:0000108', 'SBO:0000105'), ('SBO:0000109', 'SBO:0000042'), ('SBO:0000110', 'SBO:0000109'), ('SBO:0000111', 'SBO:0000110'), ('SBO:0000112', 'SBO:0000110'), ('SBO:0000113', 'SBO:0000110'), ('SBO:0000114', 'SBO:0000113'), ('SBO:0000115', 'SBO:0000113'), ('SBO:0000116', 'SBO:0000110'), ('SBO:0000117', 'SBO:0000116'), ('SBO:0000118', 'SBO:0000116'), ('SBO:0000119', 'SBO:0000116'), ('SBO:0000120', 'SBO:0000109'), ('SBO:0000121', 'SBO:0000120'), ('SBO:0000122', 'SBO:0000120'), ('SBO:0000123', 'SBO:0000120'), ('SBO:0000124', 'SBO:0000123'), ('SBO:0000125', 'SBO:0000123'), ('SBO:0000126', 'SBO:0000120'), ('SBO:0000127', 'SBO:0000126'), ('SBO:0000128', 'SBO:0000126'), ('SBO:0000129', 'SBO:0000126'), ('SBO:0000130', 'SBO:0000109'), ('SBO:0000131', 'SBO:0000130'), ('SBO:0000132', 'SBO:0000130'), ('SBO:0000133', 'SBO:0000130'), ('SBO:0000134', 'SBO:0000133'), ('SBO:0000135', 'SBO:0000133'), ('SBO:0000136', 'SBO:0000130'), ('SBO:0000137', 'SBO:0000136'), ('SBO:0000138', 'SBO:0000136'), ('SBO:0000139', 'SBO:0000136'), ('SBO:0000140', 'SBO:0000043'), ('SBO:0000140', 'SBO:0000166'), ('SBO:0000166', 'SBO:0000041'), ('SBO:0000141', 'SBO:0000044'), ('SBO:0000141', 'SBO:0000166'), ('SBO:0000142', 'SBO:0000050'), ('SBO:0000142', 'SBO:0000166'), ('SBO:0000143', 'SBO:0000053'), ('SBO:0000143', 'SBO:0000166'), ('SBO:0000144', 'SBO:0000056'), ('SBO:0000144', 'SBO:0000166'), ('SBO:0000145', 'SBO:0000058'), ('SBO:0000145', 'SBO:0000166'), ('SBO:0000146', 'SBO:0000060'), ('SBO:0000146', 'SBO:0000166'), ('SBO:0000147', 'SBO:0000002'), ('SBO:0000148', 'SBO:0000002'), ('SBO:0000149', 'SBO:0000157'), ('SBO:0000157', 'SBO:0000188'), ('SBO:0000268', 'SBO:0000001'), ('SBO:0000151', 'SBO:0000150'), ('SBO:0000152', 'SBO:0000150'), ('SBO:0000188', 'SBO:0000002'), ('SBO:0000158', 'SBO:0000382'), ('SBO:0000382', 'SBO:0000380'), ('SBO:0000159', 'SBO:0000009'), ('SBO:0000160', 'SBO:0000153'), ('SBO:0000160', 'SBO:0000159'), ('SBO:0000161', 'SBO:0000156'), ('SBO:0000161', 'SBO:0000159'), ('SBO:0000164', 'SBO:0000005'), ('SBO:0000165', 'SBO:0000005'), ('SBO:0000167', 'SBO:0000375'), ('SBO:0000375', 'SBO:0000231'), ('SBO:0000168', 'SBO:0000374'), ('SBO:0000374', 'SBO:0000231'), ('SBO:0000169', 'SBO:0000168'), ('SBO:0000170', 'SBO:0000168'), ('SBO:0000171', 'SBO:0000170'), ('SBO:0000172', 'SBO:0000170'), ('SBO:0000173', 'SBO:0000237'), ('SBO:0000237', 'SBO:0000374'), ('SBO:0000174', 'SBO:0000237'), ('SBO:0000175', 'SBO:0000237'), ('SBO:0000176', 'SBO:0000167'), ('SBO:0000177', 'SBO:0000176'), ('SBO:0000178', 'SBO:0000182'), ('SBO:0000182', 'SBO:0000176'), ('SBO:0000179', 'SBO:0000176'), ('SBO:0000180', 'SBO:0000176'), ('SBO:0000181', 'SBO:0000176'), ('SBO:0000183', 'SBO:0000205'), ('SBO:0000205', 'SBO:0000375'), ('SBO:0000184', 'SBO:0000205'), ('SBO:0000185', 'SBO:0000167'), ('SBO:0000186', 'SBO:0000046'), ('SBO:0000187', 'SBO:0000005'), ('SBO:0000189', 'SBO:0000188'), ('SBO:0000190', 'SBO:0000382'), ('SBO:0000191', 'SBO:0000193'), ('SBO:0000192', 'SBO:0000001'), ('SBO:0000308', 'SBO:0000002'), ('SBO:0000194', 'SBO:0000193'), ('SBO:0000195', 'SBO:0000192'), ('SBO:0000196', 'SBO:0000226'), ('SBO:0000226', 'SBO:0000360'), ('SBO:0000197', 'SBO:0000196'), ('SBO:0000198', 'SBO:0000192'), ('SBO:0000199', 'SBO:0000028'), ('SBO:0000200', 'SBO:0000176'), ('SBO:0000201', 'SBO:0000200'), ('SBO:0000202', 'SBO:0000200'), ('SBO:0000203', 'SBO:0000232'), ('SBO:0000232', 'SBO:0000231'), ('SBO:0000204', 'SBO:0000205'), ('SBO:0000206', 'SBO:0000020'), ('SBO:0000207', 'SBO:0000020'), ('SBO:0000208', 'SBO:0000176'), ('SBO:0000209', 'SBO:0000176'), ('SBO:0000210', 'SBO:0000182'), ('SBO:0000211', 'SBO:0000182'), ('SBO:0000212', 'SBO:0000208'), ('SBO:0000212', 'SBO:0000210'), ('SBO:0000213', 'SBO:0000208'), ('SBO:0000213', 'SBO:0000211'), ('SBO:0000214', 'SBO:0000210'), ('SBO:0000215', 'SBO:0000210'), ('SBO:0000216', 'SBO:0000210'), ('SBO:0000217', 'SBO:0000210'), ('SBO:0000218', 'SBO:0000210'), ('SBO:0000219', 'SBO:0000210'), ('SBO:0000220', 'SBO:0000210'), ('SBO:0000221', 'SBO:0000210'), ('SBO:0000222', 'SBO:0000221'), ('SBO:0000223', 'SBO:0000221'), ('SBO:0000224', 'SBO:0000210'), ('SBO:0000225', 'SBO:0000346'), ('SBO:0000346', 'SBO:0000002'), ('SBO:0000360', 'SBO:0000002'), ('SBO:0000227', 'SBO:0000226'), ('SBO:0000228', 'SBO:0000227'), ('SBO:0000229', 'SBO:0000227'), ('SBO:0000230', 'SBO:0000227'), ('SBO:0000231', 'SBO:0000000'), ('SBO:0000233', 'SBO:0000210'), ('SBO:0000234', 'SBO:0000004'), ('SBO:0000236', 'SBO:0000000'), ('SBO:0000238', 'SBO:0000237'), ('SBO:0000239', 'SBO:0000168'), ('SBO:0000240', 'SBO:0000236'), ('SBO:0000242', 'SBO:0000241'), ('SBO:0000243', 'SBO:0000240'), ('SBO:0000243', 'SBO:0000404'), ('SBO:0000404', 'SBO:0000241'), ('SBO:0000244', 'SBO:0000241'), ('SBO:0000245', 'SBO:0000240'), ('SBO:0000246', 'SBO:0000245'), ('SBO:0000247', 'SBO:0000240'), ('SBO:0000248', 'SBO:0000245'), ('SBO:0000249', 'SBO:0000248'), ('SBO:0000250', 'SBO:0000246'), ('SBO:0000251', 'SBO:0000246'), ('SBO:0000252', 'SBO:0000246'), ('SBO:0000253', 'SBO:0000240'), ('SBO:0000254', 'SBO:0000002'), ('SBO:0000255', 'SBO:0000002'), ('SBO:0000256', 'SBO:0000002'), ('SBO:0000257', 'SBO:0000002'), ('SBO:0000258', 'SBO:0000002'), ('SBO:0000259', 'SBO:0000002'), ('SBO:0000260', 'SBO:0000267'), ('SBO:0000260', 'SBO:0000270'), ('SBO:0000267', 'SBO:0000273'), ('SBO:0000270', 'SBO:0000430'), ('SBO:0000261', 'SBO:0000282'), ('SBO:0000282', 'SBO:0000281'), ('SBO:0000282', 'SBO:0000309'), ('SBO:0000262', 'SBO:0000458'), ('SBO:0000458', 'SBO:0000430'), ('SBO:0000263', 'SBO:0000308'), ('SBO:0000264', 'SBO:0000263'), ('SBO:0000265', 'SBO:0000275'), ('SBO:0000275', 'SBO:0000430'), ('SBO:0000266', 'SBO:0000442'), ('SBO:0000442', 'SBO:0000265'), ('SBO:0000273', 'SBO:0000430'), ('SBO:0000269', 'SBO:0000268'), ('SBO:0000430', 'SBO:0000269'), ('SBO:0000271', 'SBO:0000270'), ('SBO:0000272', 'SBO:0000188'), ('SBO:0000274', 'SBO:0000273'), ('SBO:0000274', 'SBO:0000379'), ('SBO:0000379', 'SBO:0000430'), ('SBO:0000276', 'SBO:0000275'), ('SBO:0000277', 'SBO:0000276'), ('SBO:0000278', 'SBO:0000404'), ('SBO:0000279', 'SBO:0000002'), ('SBO:0000280', 'SBO:0000241'), ('SBO:0000281', 'SBO:0000193'), ('SBO:0000309', 'SBO:0000308'), ('SBO:0000283', 'SBO:0000282'), ('SBO:0000283', 'SBO:0000310'), ('SBO:0000310', 'SBO:0000309'), ('SBO:0000284', 'SBO:0000241'), ('SBO:0000285', 'SBO:0000240'), ('SBO:0000286', 'SBO:0000253'), ('SBO:0000287', 'SBO:0000193'), ('SBO:0000288', 'SBO:0000193'), ('SBO:0000289', 'SBO:0000003'), ('SBO:0000290', 'SBO:0000240'), ('SBO:0000291', 'SBO:0000240'), ('SBO:0000292', 'SBO:0000062'), ('SBO:0000293', 'SBO:0000062'), ('SBO:0000294', 'SBO:0000063'), ('SBO:0000295', 'SBO:0000063'), ('SBO:0000296', 'SBO:0000253'), ('SBO:0000297', 'SBO:0000296'), ('SBO:0000298', 'SBO:0000241'), ('SBO:0000299', 'SBO:0000241'), ('SBO:0000300', 'SBO:0000006'), ('SBO:0000301', 'SBO:0000035'), ('SBO:0000302', 'SBO:0000036'), ('SBO:0000303', 'SBO:0000308'), ('SBO:0000304', 'SBO:0000303'), ('SBO:0000305', 'SBO:0000303'), ('SBO:0000306', 'SBO:0000303'), ('SBO:0000306', 'SBO:0000309'), ('SBO:0000307', 'SBO:0000306'), ('SBO:0000307', 'SBO:0000310'), ('SBO:0000311', 'SBO:0000278'), ('SBO:0000312', 'SBO:0000278'), ('SBO:0000313', 'SBO:0000334'), ('SBO:0000334', 'SBO:0000404'), ('SBO:0000314', 'SBO:0000334'), ('SBO:0000315', 'SBO:0000241'), ('SBO:0000316', 'SBO:0000334'), ('SBO:0000317', 'SBO:0000241'), ('SBO:0000318', 'SBO:0000334'), ('SBO:0000319', 'SBO:0000334'), ('SBO:0000320', 'SBO:0000025'), ('SBO:0000321', 'SBO:0000025'), ('SBO:0000322', 'SBO:0000027'), ('SBO:0000323', 'SBO:0000027'), ('SBO:0000324', 'SBO:0000186'), ('SBO:0000324', 'SBO:0000350'), ('SBO:0000350', 'SBO:0000048'), ('SBO:0000325', 'SBO:0000186'), ('SBO:0000325', 'SBO:0000353'), ('SBO:0000353', 'SBO:0000352'), ('SBO:0000327', 'SBO:0000247'), ('SBO:0000328', 'SBO:0000247'), ('SBO:0000329', 'SBO:0000404'), ('SBO:0000330', 'SBO:0000211'), ('SBO:0000331', 'SBO:0000009'), ('SBO:0000331', 'SBO:0000346'), ('SBO:0000332', 'SBO:0000331'), ('SBO:0000333', 'SBO:0000049'), ('SBO:0000335', 'SBO:0000354'), ('SBO:0000354', 'SBO:0000240'), ('SBO:0000336', 'SBO:0000010'), ('SBO:0000337', 'SBO:0000281'), ('SBO:0000338', 'SBO:0000035'), ('SBO:0000338', 'SBO:0000038'), ('SBO:0000339', 'SBO:0000036'), ('SBO:0000339', 'SBO:0000341'), ('SBO:0000341', 'SBO:0000154'), ('SBO:0000340', 'SBO:0000037'), ('SBO:0000340', 'SBO:0000341'), ('SBO:0000342', 'SBO:0000375'), ('SBO:0000343', 'SBO:0000342'), ('SBO:0000344', 'SBO:0000342'), ('SBO:0000345', 'SBO:0000255'), ('SBO:0000347', 'SBO:0000346'), ('SBO:0000348', 'SBO:0000009'), ('SBO:0000348', 'SBO:0000346'), ('SBO:0000349', 'SBO:0000035'), ('SBO:0000352', 'SBO:0000046'), ('SBO:0000352', 'SBO:0000156'), ('SBO:0000355', 'SBO:0000064'), ('SBO:0000356', 'SBO:0000035'), ('SBO:0000357', 'SBO:0000375'), ('SBO:0000358', 'SBO:0000375'), ('SBO:0000359', 'SBO:0000355'), ('SBO:0000361', 'SBO:0000360'), ('SBO:0000362', 'SBO:0000359'), ('SBO:0000363', 'SBO:0000282'), ('SBO:0000364', 'SBO:0000188'), ('SBO:0000365', 'SBO:0000154'), ('SBO:0000365', 'SBO:0000160'), ('SBO:0000366', 'SBO:0000155'), ('SBO:0000366', 'SBO:0000160'), ('SBO:0000367', 'SBO:0000161'), ('SBO:0000368', 'SBO:0000161'), ('SBO:0000369', 'SBO:0000354'), ('SBO:0000370', 'SBO:0000027'), ('SBO:0000371', 'SBO:0000370'), ('SBO:0000372', 'SBO:0000370'), ('SBO:0000373', 'SBO:0000027'), ('SBO:0000376', 'SBO:0000178'), ('SBO:0000377', 'SBO:0000176'), ('SBO:0000378', 'SBO:0000270'), ('SBO:0000380', 'SBO:0000002'), ('SBO:0000381', 'SBO:0000380'), ('SBO:0000383', 'SBO:0000381'), ('SBO:0000384', 'SBO:0000381'), ('SBO:0000385', 'SBO:0000381'), ('SBO:0000386', 'SBO:0000378'), ('SBO:0000387', 'SBO:0000270'), ('SBO:0000388', 'SBO:0000378'), ('SBO:0000389', 'SBO:0000002'), ('SBO:0000390', 'SBO:0000389'), ('SBO:0000391', 'SBO:0000064'), ('SBO:0000392', 'SBO:0000374'), ('SBO:0000393', 'SBO:0000168'), ('SBO:0000394', 'SBO:0000168'), ('SBO:0000395', 'SBO:0000375'), ('SBO:0000396', 'SBO:0000375'), ('SBO:0000397', 'SBO:0000375'), ('SBO:0000398', 'SBO:0000374'), ('SBO:0000399', 'SBO:0000211'), ('SBO:0000400', 'SBO:0000211'), ('SBO:0000401', 'SBO:0000211'), ('SBO:0000402', 'SBO:0000182'), ('SBO:0000403', 'SBO:0000402'), ('SBO:0000405', 'SBO:0000240'), ('SBO:0000406', 'SBO:0000240'), ('SBO:0000407', 'SBO:0000169'), ('SBO:0000408', 'SBO:0000003'), ('SBO:0000409', 'SBO:0000236'), ('SBO:0000410', 'SBO:0000290'), ('SBO:0000411', 'SBO:0000170'), ('SBO:0000412', 'SBO:0000231'), ('SBO:0000413', 'SBO:0000374'), ('SBO:0000414', 'SBO:0000413'), ('SBO:0000415', 'SBO:0000413'), ('SBO:0000416', 'SBO:0000390'), ('SBO:0000417', 'SBO:0000390'), ('SBO:0000418', 'SBO:0000286'), ('SBO:0000419', 'SBO:0000286'), ('SBO:0000420', 'SBO:0000286'), ('SBO:0000420', 'SBO:0000296'), ('SBO:0000421', 'SBO:0000286'), ('SBO:0000422', 'SBO:0000261'), ('SBO:0000423', 'SBO:0000194'), ('SBO:0000424', 'SBO:0000194'), ('SBO:0000425', 'SBO:0000268'), ('SBO:0000426', 'SBO:0000425'), ('SBO:0000427', 'SBO:0000426'), ('SBO:0000428', 'SBO:0000426'), ('SBO:0000429', 'SBO:0000268'), ('SBO:0000431', 'SBO:0000425'), ('SBO:0000432', 'SBO:0000429'), ('SBO:0000433', 'SBO:0000429'), ('SBO:0000434', 'SBO:0000429'), ('SBO:0000435', 'SBO:0000429'), ('SBO:0000436', 'SBO:0000429'), ('SBO:0000437', 'SBO:0000326'), ('SBO:0000438', 'SBO:0000326'), ('SBO:0000439', 'SBO:0000326'), ('SBO:0000440', 'SBO:0000430'), ('SBO:0000441', 'SBO:0000275'), ('SBO:0000443', 'SBO:0000430'), ('SBO:0000444', 'SBO:0000443'), ('SBO:0000445', 'SBO:0000444'), ('SBO:0000446', 'SBO:0000444'), ('SBO:0000447', 'SBO:0000444'), ('SBO:0000448', 'SBO:0000444'), ('SBO:0000449', 'SBO:0000447'), ('SBO:0000450', 'SBO:0000448'), ('SBO:0000451', 'SBO:0000430'), ('SBO:0000452', 'SBO:0000451'), ('SBO:0000453', 'SBO:0000451'), ('SBO:0000454', 'SBO:0000430'), ('SBO:0000455', 'SBO:0000454'), ('SBO:0000456', 'SBO:0000430'), ('SBO:0000457', 'SBO:0000456'), ('SBO:0000460', 'SBO:0000013'), ('SBO:0000461', 'SBO:0000459'), ('SBO:0000462', 'SBO:0000459'), ('SBO:0000463', 'SBO:0000303'), ('SBO:0000464', 'SBO:0000375'), ('SBO:0000465', 'SBO:0000002'), ('SBO:0000466', 'SBO:0000465'), ('SBO:0000467', 'SBO:0000465'), ('SBO:0000468', 'SBO:0000465'), ('SBO:0000469', 'SBO:0000413'), ('SBO:0000470', 'SBO:0000540'), ('SBO:0000540', 'SBO:0000360'), ('SBO:0000471', 'SBO:0000196'), ('SBO:0000472', 'SBO:0000196'), ('SBO:0000473', 'SBO:0000552'), ('SBO:0000552', 'SBO:0000550'), ('SBO:0000474', 'SBO:0000064'), ('SBO:0000475', 'SBO:0000474'), ('SBO:0000476', 'SBO:0000347'), ('SBO:0000477', 'SBO:0000346'), ('SBO:0000478', 'SBO:0000193'), ('SBO:0000479', 'SBO:0000478'), ('SBO:0000480', 'SBO:0000478'), ('SBO:0000481', 'SBO:0000380'), ('SBO:0000482', 'SBO:0000009'), ('SBO:0000483', 'SBO:0000482'), ('SBO:0000484', 'SBO:0000482'), ('SBO:0000485', 'SBO:0000046'), ('SBO:0000486', 'SBO:0000381'), ('SBO:0000487', 'SBO:0000474'), ('SBO:0000488', 'SBO:0000487'), ('SBO:0000489', 'SBO:0000487'), ('SBO:0000490', 'SBO:0000188'), ('SBO:0000491', 'SBO:0000009'), ('SBO:0000492', 'SBO:0000002'), ('SBO:0000493', 'SBO:0000241'), ('SBO:0000494', 'SBO:0000493'), ('SBO:0000495', 'SBO:0000493'), ('SBO:0000496', 'SBO:0000493'), ('SBO:0000497', 'SBO:0000389'), ('SBO:0000498', 'SBO:0000381'), ('SBO:0000499', 'SBO:0000231'), ('SBO:0000500', 'SBO:0000343'), ('SBO:0000501', 'SBO:0000343'), ('SBO:0000502', 'SBO:0000343'), ('SBO:0000503', 'SBO:0000361'), ('SBO:0000504', 'SBO:0000361'), ('SBO:0000505', 'SBO:0000518'), ('SBO:0000518', 'SBO:0000196'), ('SBO:0000506', 'SBO:0000504'), ('SBO:0000507', 'SBO:0000517'), ('SBO:0000517', 'SBO:0000503'), ('SBO:0000508', 'SBO:0000503'), ('SBO:0000509', 'SBO:0000196'), ('SBO:0000510', 'SBO:0000504'), ('SBO:0000511', 'SBO:0000503'), ('SBO:0000512', 'SBO:0000196'), ('SBO:0000513', 'SBO:0000504'), ('SBO:0000514', 'SBO:0000508'), ('SBO:0000515', 'SBO:0000509'), ('SBO:0000516', 'SBO:0000510'), ('SBO:0000519', 'SBO:0000504'), ('SBO:0000520', 'SBO:0000517'), ('SBO:0000521', 'SBO:0000518'), ('SBO:0000522', 'SBO:0000519'), ('SBO:0000523', 'SBO:0000517'), ('SBO:0000524', 'SBO:0000518'), ('SBO:0000525', 'SBO:0000519'), ('SBO:0000526', 'SBO:0000344'), ('SBO:0000527', 'SBO:0000001'), ('SBO:0000528', 'SBO:0000527'), ('SBO:0000529', 'SBO:0000527'), ('SBO:0000530', 'SBO:0000527'), ('SBO:0000531', 'SBO:0000527'), ('SBO:0000532', 'SBO:0000527'), ('SBO:0000533', 'SBO:0000461'), ('SBO:0000534', 'SBO:0000461'), ('SBO:0000535', 'SBO:0000461'), ('SBO:0000536', 'SBO:0000207'), ('SBO:0000537', 'SBO:0000207'), ('SBO:0000538', 'SBO:0000002'), ('SBO:0000539', 'SBO:0000002'), ('SBO:0000541', 'SBO:0000540'), ('SBO:0000542', 'SBO:0000002'), ('SBO:0000543', 'SBO:0000296'), ('SBO:0000544', 'SBO:0000000'), ('SBO:0000546', 'SBO:0000545'), ('SBO:0000547', 'SBO:0000234'), ('SBO:0000548', 'SBO:0000547'), ('SBO:0000549', 'SBO:0000547'), ('SBO:0000550', 'SBO:0000544'), ('SBO:0000551', 'SBO:0000555'), ('SBO:0000555', 'SBO:0000557'), ('SBO:0000553', 'SBO:0000552'), ('SBO:0000554', 'SBO:0000552'), ('SBO:0000557', 'SBO:0000550'), ('SBO:0000556', 'SBO:0000557'), ('SBO:0000558', 'SBO:0000002'), ('SBO:0000559', 'SBO:0000002'), ('SBO:0000560', 'SBO:0000163'), ('SBO:0000561', 'SBO:0000166'), ('SBO:0000562', 'SBO:0000045'), ('SBO:0000563', 'SBO:0000562'), ('SBO:0000564', 'SBO:0000562'), ('SBO:0000565', 'SBO:0000545'), ('SBO:0000566', 'SBO:0000538'), ('SBO:0000567', 'SBO:0000565'), ('SBO:0000568', 'SBO:0000565'), ('SBO:0000569', 'SBO:0000391'), ('SBO:0000570', 'SBO:0000569'), ('SBO:0000571', 'SBO:0000002'), ('SBO:0000572', 'SBO:0000571'), ('SBO:0000573', 'SBO:0000572'), ('SBO:0000574', 'SBO:0000573'), ('SBO:0000575', 'SBO:0000573'), ('SBO:0000576', 'SBO:0000571'), ('SBO:0000577', 'SBO:0000576'), ('SBO:0000578', 'SBO:0000577'), ('SBO:0000579', 'SBO:0000577'), ('SBO:0000580', 'SBO:0000571'), ('SBO:0000581', 'SBO:0000580'), ('SBO:0000582', 'SBO:0000581'), ('SBO:0000583', 'SBO:0000581'), ('SBO:0000584', 'SBO:0000346'), ('SBO:0000585', 'SBO:0000347'), ('SBO:0000586', 'SBO:0000346'), ('SBO:0000587', 'SBO:0000185'), ('SBO:0000588', 'SBO:0000185'), ('SBO:0000589', 'SBO:0000205'), ('SBO:0000590', 'SBO:0000369'), ('SBO:0000591', 'SBO:0000464'), ('SBO:0000592', 'SBO:0000361'), ('SBO:0000593', 'SBO:0000592'), ('SBO:0000594', 'SBO:0000003'), ('SBO:0000595', 'SBO:0000019'), ('SBO:0000596', 'SBO:0000019'), ('SBO:0000597', 'SBO:0000020'), ('SBO:0000599', 'SBO:0000473'), ('SBO:0000600', 'SBO:0000599'), ('SBO:0000601', 'SBO:0000599'), ('SBO:0000602', 'SBO:0000546'), ('SBO:0000603', 'SBO:0000011'), ('SBO:0000604', 'SBO:0000015'), ('SBO:0000605', 'SBO:0000244'), ('SBO:0000606', 'SBO:0000244'), ('SBO:0000607', 'SBO:0000296'), ('SBO:0000608', 'SBO:0000607'), ('SBO:0000609', 'SBO:0000607'), ('SBO:0000610', 'SBO:0000002'), ('SBO:0000611', 'SBO:0000009'), ('SBO:0000612', 'SBO:0000613'), ('SBO:0000613', 'SBO:0000002'), ('SBO:0000614', 'SBO:0000612'), ('SBO:0000615', 'SBO:0000612'), ('SBO:0000616', 'SBO:0000613'), ('SBO:0000617', 'SBO:0000581'), ('SBO:0000618', 'SBO:0000581'), ('SBO:0000619', 'SBO:0000580'), ('SBO:0000620', 'SBO:0000619'), ('SBO:0000621', 'SBO:0000619'), ('SBO:0000622', 'SBO:0000619'), ('SBO:0000623', 'SBO:0000002'), ('SBO:0000624', 'SBO:0000004'), ('SBO:0000625', 'SBO:0000613'), ('SBO:0000626', 'SBO:0000625'), ('SBO:0000627', 'SBO:0000631'), ('SBO:0000631', 'SBO:0000375'), ('SBO:0000628', 'SBO:0000631'), ('SBO:0000629', 'SBO:0000395'), ('SBO:0000630', 'SBO:0000395'), ('SBO:0000632', 'SBO:0000631'), ('SBO:0000633', 'SBO:0000473'), ('SBO:0000634', 'SBO:0000354'), ('SBO:0000635', 'SBO:0000354'), ('SBO:0000636', 'SBO:0000021'), ('SBO:0000637', 'SBO:0000021'), ('SBO:0000638', 'SBO:0000020'), ('SBO:0000639', 'SBO:0000020'), ('SBO:0000640', 'SBO:0000020'), ('SBO:0000641', 'SBO:0000303'), ('SBO:0000642', 'SBO:0000644'), ('SBO:0000644', 'SBO:0000003'), ('SBO:0000643', 'SBO:0000644'), ('SBO:0000645', 'SBO:0000003'), ('SBO:0000646', 'SBO:0000042'), ('SBO:0000647', 'SBO:0000002'), ('SBO:0000648', 'SBO:0000647'), ('SBO:0000649', 'SBO:0000241'), ('SBO:0000650', 'SBO:0000375'), ('SBO:0000651', 'SBO:0000375'), ('SBO:0000652', 'SBO:0000182'), ('SBO:0000653', 'SBO:0000182'), ('SBO:0000654', 'SBO:0000655'), ('SBO:0000655', 'SBO:0000167'), ('SBO:0000656', 'SBO:0000182'), ('SBO:0000657', 'SBO:0000655'), ('SBO:0000658', 'SBO:0000655'), ('SBO:0000659', 'SBO:0000654'), ('SBO:0000660', 'SBO:0000654'), ('SBO:0000661', 'SBO:0000002'), ('SBO:0000662', 'SBO:0000002'), ('SBO:0000663', 'SBO:0000545'), ('SBO:0000664', 'SBO:0000003'), ('SBO:0000665', 'SBO:0000182'), ('SBO:0000666', 'SBO:0000002'), ('SBO:0000667', 'SBO:0000666'), ('SBO:0000668', 'SBO:0000241'), ('SBO:0000669', 'SBO:0000668'), ('SBO:0000670', 'SBO:0000668'), ('SBO:0000671', 'SBO:0000013'), ('SBO:0000672', 'SBO:0000176'), ('SBO:0000673', 'SBO:0000611'), ('SBO:0000674', 'SBO:0000611')])"
      ]
     },
     "execution_count": 41,
     "metadata": {},
     "output_type": "execute_result"
    }
   ],
   "source": [
    "dg.edges"
   ]
  },
  {
   "cell_type": "code",
   "execution_count": null,
   "id": "cdd3f4f0",
   "metadata": {},
   "outputs": [],
   "source": []
  }
 ],
 "metadata": {
  "kernelspec": {
   "display_name": "pyo",
   "language": "python",
   "name": "pyo"
  },
  "language_info": {
   "codemirror_mode": {
    "name": "ipython",
    "version": 3
   },
   "file_extension": ".py",
   "mimetype": "text/x-python",
   "name": "python",
   "nbconvert_exporter": "python",
   "pygments_lexer": "ipython3",
   "version": "3.8.8"
  }
 },
 "nbformat": 4,
 "nbformat_minor": 5
}
