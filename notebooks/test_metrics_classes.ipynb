{
 "cells": [
  {
   "cell_type": "code",
   "execution_count": 1,
   "id": "4a735ae0",
   "metadata": {},
   "outputs": [],
   "source": [
    "import libsbml\n",
    "import os\n",
    "import sys\n",
    "sys.path.append(os.path.join(os.getcwd(), '../'))\n",
    "BIOMD_12 = 'BIOMD0000000012.xml'"
   ]
  },
  {
   "cell_type": "code",
   "execution_count": 2,
   "id": "6e67edc0",
   "metadata": {},
   "outputs": [
    {
     "data": {
      "text/plain": [
       "'/Users/woosubs/Desktop/AutomateAnnotation/SBMate/notebooks'"
      ]
     },
     "execution_count": 2,
     "metadata": {},
     "output_type": "execute_result"
    }
   ],
   "source": [
    "os.getcwd()"
   ]
  },
  {
   "cell_type": "code",
   "execution_count": 3,
   "id": "eb5eeea0",
   "metadata": {},
   "outputs": [
    {
     "data": {
      "text/plain": [
       "['/Users/woosubs/Desktop/AutomateAnnotation/SBMate/notebooks',\n",
       " '/Users/woosubs/anaconda3/envs/pyo/lib/python38.zip',\n",
       " '/Users/woosubs/anaconda3/envs/pyo/lib/python3.8',\n",
       " '/Users/woosubs/anaconda3/envs/pyo/lib/python3.8/lib-dynload',\n",
       " '',\n",
       " '/Users/woosubs/anaconda3/envs/pyo/lib/python3.8/site-packages',\n",
       " '/Users/woosubs/anaconda3/envs/pyo/lib/python3.8/site-packages/IPython/extensions',\n",
       " '/Users/woosubs/.ipython',\n",
       " '/Users/woosubs/anaconda3/envs/pyo/lib/python3.8/site-packages/libsbml',\n",
       " '/Users/woosubs/Desktop/AutomateAnnotation/SBMate/notebooks/../']"
      ]
     },
     "execution_count": 3,
     "metadata": {},
     "output_type": "execute_result"
    }
   ],
   "source": [
    "sys.path"
   ]
  },
  {
   "cell_type": "code",
   "execution_count": 12,
   "id": "8d18bb3d",
   "metadata": {},
   "outputs": [],
   "source": [
    "from SBMate import sbmate\n",
    "from SBMate import sbml_annotation as sa\n",
    "from SBMate import consistency_score as cs\n",
    "from SBMate import constants as cn"
   ]
  },
  {
   "cell_type": "code",
   "execution_count": 5,
   "id": "482f91d1",
   "metadata": {},
   "outputs": [
    {
     "data": {
      "text/plain": [
       "'/Users/woosubs/Desktop/AutomateAnnotation/SBMate'"
      ]
     },
     "execution_count": 5,
     "metadata": {},
     "output_type": "execute_result"
    }
   ],
   "source": [
    "cn.PROJECT_DIR"
   ]
  },
  {
   "cell_type": "code",
   "execution_count": 6,
   "id": "0409a63b",
   "metadata": {},
   "outputs": [],
   "source": [
    "raw_sbml_annotation = sa.RawSBMLAnnotation(input_file=BIOMD_12)"
   ]
  },
  {
   "cell_type": "code",
   "execution_count": 7,
   "id": "67c4f389",
   "metadata": {},
   "outputs": [
    {
     "data": {
      "text/plain": [
       "'GO:0003674'"
      ]
     },
     "execution_count": 7,
     "metadata": {},
     "output_type": "execute_result"
    }
   ],
   "source": [
    "cs.findGORoot('GO:0004708')"
   ]
  },
  {
   "cell_type": "code",
   "execution_count": 8,
   "id": "a8c58de1",
   "metadata": {},
   "outputs": [],
   "source": [
    "reader = libsbml.SBMLReader()\n",
    "document = reader.readSBML(BIOMD_12)\n",
    "model = document.getModel()"
   ]
  },
  {
   "cell_type": "code",
   "execution_count": 9,
   "id": "47cfd5ba",
   "metadata": {},
   "outputs": [
    {
     "data": {
      "text/plain": [
       "ObjectAnnotation(id='Reaction1', object_type=<class 'libsbml.Reaction'>, annotation='SBO:0000179')"
      ]
     },
     "execution_count": 9,
     "metadata": {},
     "output_type": "execute_result"
    }
   ],
   "source": [
    "raw_sbml_annotation.getSBOAnnotation(model.getReaction('Reaction1'))"
   ]
  },
  {
   "cell_type": "code",
   "execution_count": 14,
   "id": "66fd660c",
   "metadata": {},
   "outputs": [
    {
     "data": {
      "text/plain": [
       "'Model has total 20 annotatable entities.\\n20 entities are annotated.\\n19 entities are consistent.\\n...\\nCoverage is: 1.00\\nConsistency is: 0.95\\nSpecificity is: 0.88\\n'"
      ]
     },
     "execution_count": 14,
     "metadata": {},
     "output_type": "execute_result"
    }
   ],
   "source": [
    "sbmate.getMetrics(BIOMD_12)"
   ]
  },
  {
   "cell_type": "code",
   "execution_count": 15,
   "id": "36cee900",
   "metadata": {},
   "outputs": [],
   "source": [
    "raw_sbml_annotation = sa.RawSBMLAnnotation(input_file=BIOMD_12)"
   ]
  },
  {
   "cell_type": "code",
   "execution_count": 18,
   "id": "89eea795",
   "metadata": {},
   "outputs": [
    {
     "data": {
      "text/plain": [
       "'BIOMD0000000012'"
      ]
     },
     "execution_count": 18,
     "metadata": {},
     "output_type": "execute_result"
    }
   ],
   "source": [
    "raw_sbml_annotation.sbo[0].id"
   ]
  },
  {
   "cell_type": "code",
   "execution_count": null,
   "id": "3b947f80",
   "metadata": {},
   "outputs": [],
   "source": []
  }
 ],
 "metadata": {
  "kernelspec": {
   "display_name": "pyo",
   "language": "python",
   "name": "pyo"
  },
  "language_info": {
   "codemirror_mode": {
    "name": "ipython",
    "version": 3
   },
   "file_extension": ".py",
   "mimetype": "text/x-python",
   "name": "python",
   "nbconvert_exporter": "python",
   "pygments_lexer": "ipython3",
   "version": "3.8.8"
  }
 },
 "nbformat": 4,
 "nbformat_minor": 5
}
