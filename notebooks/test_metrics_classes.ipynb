{
 "cells": [
  {
   "cell_type": "code",
   "execution_count": 1,
   "id": "ce172fb5",
   "metadata": {},
   "outputs": [],
   "source": [
    "import libsbml\n",
    "import os\n",
    "import sys\n",
    "sys.path.append(os.path.join(os.getcwd(), '../'))\n",
    "BIOMD_12 = 'BIOMD0000000012.xml'"
   ]
  },
  {
   "cell_type": "code",
   "execution_count": 2,
   "id": "de3b01c1",
   "metadata": {},
   "outputs": [
    {
     "data": {
      "text/plain": [
       "'/Users/woosubs/Desktop/AutomateAnnotation/SBMate/notebooks'"
      ]
     },
     "execution_count": 2,
     "metadata": {},
     "output_type": "execute_result"
    }
   ],
   "source": [
    "os.getcwd()"
   ]
  },
  {
   "cell_type": "code",
   "execution_count": 3,
   "id": "f4527be0",
   "metadata": {},
   "outputs": [
    {
     "data": {
      "text/plain": [
       "['/Users/woosubs/Desktop/AutomateAnnotation/SBMate/notebooks',\n",
       " '/Users/woosubs/anaconda3/envs/pyo/lib/python38.zip',\n",
       " '/Users/woosubs/anaconda3/envs/pyo/lib/python3.8',\n",
       " '/Users/woosubs/anaconda3/envs/pyo/lib/python3.8/lib-dynload',\n",
       " '',\n",
       " '/Users/woosubs/anaconda3/envs/pyo/lib/python3.8/site-packages',\n",
       " '/Users/woosubs/anaconda3/envs/pyo/lib/python3.8/site-packages/IPython/extensions',\n",
       " '/Users/woosubs/.ipython',\n",
       " '/Users/woosubs/anaconda3/envs/pyo/lib/python3.8/site-packages/libsbml',\n",
       " '/Users/woosubs/Desktop/AutomateAnnotation/SBMate/notebooks/../']"
      ]
     },
     "execution_count": 3,
     "metadata": {},
     "output_type": "execute_result"
    }
   ],
   "source": [
    "sys.path"
   ]
  },
  {
   "cell_type": "code",
   "execution_count": 12,
   "id": "bd5b398f",
   "metadata": {},
   "outputs": [],
   "source": [
    "from SBMate import sbml_annotation as sa\n",
    "from SBMate import consistency_score as cs"
   ]
  },
  {
   "cell_type": "code",
   "execution_count": 5,
   "id": "97753700",
   "metadata": {},
   "outputs": [],
   "source": [
    "raw_sbml_annotation = sa.RawSBMLAnnotation(input_file=BIOMD_12)"
   ]
  },
  {
   "cell_type": "code",
   "execution_count": 13,
   "id": "41ff55ab",
   "metadata": {},
   "outputs": [
    {
     "data": {
      "text/plain": [
       "'GO:0003674'"
      ]
     },
     "execution_count": 13,
     "metadata": {},
     "output_type": "execute_result"
    }
   ],
   "source": [
    "cs.findGORoot('GO:0004708')"
   ]
  },
  {
   "cell_type": "code",
   "execution_count": 10,
   "id": "f58649dc",
   "metadata": {},
   "outputs": [],
   "source": [
    "reader = libsbml.SBMLReader()\n",
    "document = reader.readSBML(BIOMD_12)\n",
    "model = document.getModel()"
   ]
  },
  {
   "cell_type": "code",
   "execution_count": 11,
   "id": "b7ce37e2",
   "metadata": {},
   "outputs": [
    {
     "data": {
      "text/plain": [
       "ObjectAnnotation(id='Reaction1', object_type=<class 'libsbml.Reaction'>, annotation='SBO:0000179')"
      ]
     },
     "execution_count": 11,
     "metadata": {},
     "output_type": "execute_result"
    }
   ],
   "source": [
    "raw_sbml_annotation.getSBOAnnotation(model.getReaction('Reaction1'))"
   ]
  },
  {
   "cell_type": "code",
   "execution_count": null,
   "id": "509ad40d",
   "metadata": {},
   "outputs": [],
   "source": []
  }
 ],
 "metadata": {
  "kernelspec": {
   "display_name": "pyo",
   "language": "python",
   "name": "pyo"
  },
  "language_info": {
   "codemirror_mode": {
    "name": "ipython",
    "version": 3
   },
   "file_extension": ".py",
   "mimetype": "text/x-python",
   "name": "python",
   "nbconvert_exporter": "python",
   "pygments_lexer": "ipython3",
   "version": "3.8.8"
  }
 },
 "nbformat": 4,
 "nbformat_minor": 5
}
