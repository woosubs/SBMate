{
 "cells": [
  {
   "cell_type": "code",
   "execution_count": 1,
   "id": "7665fd97",
   "metadata": {},
   "outputs": [],
   "source": [
    "import libsbml\n",
    "import numpy as np\n",
    "import os\n",
    "import sys\n",
    "sys.path.append(os.path.join(os.getcwd(), '../'))\n",
    "BIOMD_12 = 'BIOMD0000000012.xml'\n",
    "BIOMD_13 = 'BIOMD0000000013.xml'\n",
    "BIOMD_15 = 'BIOMD0000000015.xml'"
   ]
  },
  {
   "cell_type": "code",
   "execution_count": 2,
   "id": "8864b86b",
   "metadata": {},
   "outputs": [
    {
     "name": "stdout",
     "output_type": "stream",
     "text": [
      "Model has total 20 annotatable entities.\n",
      "20 entities are annotated.\n",
      "19 entities are consistent.\n",
      "...\n",
      "Coverage is: 1.00\n",
      "Consistency is: 0.95\n",
      "Specificity is: 0.88\n",
      "\n"
     ]
    }
   ],
   "source": [
    "from SBMate import sbmate\n",
    "\n",
    "BIOMD_12 = 'BIOMD0000000012.xml'\n",
    "report = sbmate.getMetrics(BIOMD_12)\n",
    "print(report)"
   ]
  },
  {
   "cell_type": "code",
   "execution_count": 3,
   "id": "6968e606",
   "metadata": {},
   "outputs": [
    {
     "data": {
      "text/html": [
       "<div>\n",
       "<style scoped>\n",
       "    .dataframe tbody tr th:only-of-type {\n",
       "        vertical-align: middle;\n",
       "    }\n",
       "\n",
       "    .dataframe tbody tr th {\n",
       "        vertical-align: top;\n",
       "    }\n",
       "\n",
       "    .dataframe thead th {\n",
       "        text-align: right;\n",
       "    }\n",
       "</style>\n",
       "<table border=\"1\" class=\"dataframe\">\n",
       "  <thead>\n",
       "    <tr style=\"text-align: right;\">\n",
       "      <th></th>\n",
       "      <th>num_annotatable_entities</th>\n",
       "      <th>num_annotated_entities</th>\n",
       "      <th>num_consistent_entities</th>\n",
       "      <th>coverage</th>\n",
       "      <th>consistency</th>\n",
       "      <th>specificity</th>\n",
       "    </tr>\n",
       "  </thead>\n",
       "  <tbody>\n",
       "    <tr>\n",
       "      <th>0</th>\n",
       "      <td>20</td>\n",
       "      <td>20</td>\n",
       "      <td>19</td>\n",
       "      <td>1.00</td>\n",
       "      <td>0.95</td>\n",
       "      <td>0.88</td>\n",
       "    </tr>\n",
       "  </tbody>\n",
       "</table>\n",
       "</div>"
      ],
      "text/plain": [
       "   num_annotatable_entities  num_annotated_entities  num_consistent_entities  \\\n",
       "0                        20                      20                       19   \n",
       "\n",
       "  coverage consistency specificity  \n",
       "0     1.00        0.95        0.88  "
      ]
     },
     "execution_count": 3,
     "metadata": {},
     "output_type": "execute_result"
    }
   ],
   "source": [
    "result_df = sbmate.getMetrics(BIOMD_12, 'table')\n",
    "result_df"
   ]
  },
  {
   "cell_type": "code",
   "execution_count": null,
   "id": "85dfab3f",
   "metadata": {},
   "outputs": [],
   "source": []
  }
 ],
 "metadata": {
  "kernelspec": {
   "display_name": "pyo",
   "language": "python",
   "name": "pyo"
  },
  "language_info": {
   "codemirror_mode": {
    "name": "ipython",
    "version": 3
   },
   "file_extension": ".py",
   "mimetype": "text/x-python",
   "name": "python",
   "nbconvert_exporter": "python",
   "pygments_lexer": "ipython3",
   "version": "3.8.8"
  }
 },
 "nbformat": 4,
 "nbformat_minor": 5
}
