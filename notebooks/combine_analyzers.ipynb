{
 "cells": [
  {
   "cell_type": "code",
   "execution_count": 27,
   "id": "4161e782",
   "metadata": {},
   "outputs": [],
   "source": [
    "import libsbml\n",
    "import numpy as np\n",
    "import os\n",
    "import sys\n",
    "sys.path.append(os.path.join(os.getcwd(), '../'))\n",
    "BIOMD_12 = 'BIOMD0000000012.xml'\n",
    "BIOMD_13 = 'BIOMD0000000013.xml'\n",
    "BIOMD_15 = 'BIOMD0000000015.xml'"
   ]
  },
  {
   "cell_type": "code",
   "execution_count": 2,
   "id": "2d7de738",
   "metadata": {},
   "outputs": [],
   "source": [
    "from SBMate import sbmate\n",
    "from SBMate import sbml_annotation as sa\n",
    "from SBMate import consistency_score as cs\n",
    "from SBMate import constants as cn\n",
    "\n",
    "from SBMate import dag_analyzer as da\n",
    "from SBMate import uniprot_kegg_analyzer as uka"
   ]
  },
  {
   "cell_type": "code",
   "execution_count": 3,
   "id": "33244586",
   "metadata": {},
   "outputs": [],
   "source": [
    "k = sbmate.AnnotationMetrics(BIOMD_12)"
   ]
  },
  {
   "cell_type": "code",
   "execution_count": 8,
   "id": "be6244cd",
   "metadata": {},
   "outputs": [
    {
     "data": {
      "text/plain": [
       "0.88"
      ]
     },
     "execution_count": 8,
     "metadata": {},
     "output_type": "execute_result"
    }
   ],
   "source": [
    "k.calculateSpecificity(k.consistent_entities)"
   ]
  },
  {
   "cell_type": "code",
   "execution_count": 12,
   "id": "51d642e2",
   "metadata": {},
   "outputs": [
    {
     "data": {
      "text/plain": [
       "19"
      ]
     },
     "execution_count": 12,
     "metadata": {},
     "output_type": "execute_result"
    }
   ],
   "source": [
    "len(k.specificity_by_analyzer[0].keys())"
   ]
  },
  {
   "cell_type": "code",
   "execution_count": 14,
   "id": "62b2a6bc",
   "metadata": {},
   "outputs": [
    {
     "data": {
      "text/plain": [
       "dict_keys(['BIOMD0000000012', 'PX', 'PY', 'PZ', 'X', 'Y', 'Z', 'Reaction1', 'Reaction2', 'Reaction3', 'Reaction4', 'Reaction5', 'Reaction6', 'Reaction7', 'Reaction8', 'Reaction9', 'Reaction10', 'Reaction11', 'Reaction12'])"
      ]
     },
     "execution_count": 14,
     "metadata": {},
     "output_type": "execute_result"
    }
   ],
   "source": [
    "k.consistent_entities.keys()"
   ]
  },
  {
   "cell_type": "code",
   "execution_count": 5,
   "id": "bc97d1eb",
   "metadata": {},
   "outputs": [],
   "source": [
    "ANALYZER_DICT = {'go': da.DAGAnalyzer,\n",
    "                 'sbo': da.DAGAnalyzer,\n",
    "                 'chebi': da.DAGAnalyzer,\n",
    "                 'kegg_species': uka.NonDAGAnalyzer,\n",
    "                 'kegg_process': uka.NonDAGAnalyzer,\n",
    "                 'uniprot': uka.NonDAGAnalyzer,\n",
    "                }"
   ]
  },
  {
   "cell_type": "code",
   "execution_count": 9,
   "id": "b5e93864",
   "metadata": {},
   "outputs": [
    {
     "name": "stdout",
     "output_type": "stream",
     "text": [
      "True\n"
     ]
    }
   ],
   "source": [
    "one_anot = k.annotations['BIOMD0000000012']\n",
    "for key in ANALYZER_DICT:\n",
    "  if one_anot[key]:\n",
    "    analyzer = ANALYZER_DICT[key](term_id=one_anot[key],\n",
    "                             ontology=key,\n",
    "                             object_type=one_anot['object_type'])\n",
    "    print(analyzer.consistent)"
   ]
  },
  {
   "cell_type": "code",
   "execution_count": 54,
   "id": "cdb3b86e",
   "metadata": {},
   "outputs": [
    {
     "name": "stdout",
     "output_type": "stream",
     "text": [
      "Consistency: 0.950000\n",
      "Specificity: 0.880000\n"
     ]
    }
   ],
   "source": [
    "res_const = []\n",
    "consistent_objects = []\n",
    "consistent_dicts = dict()\n",
    "res_speci = []\n",
    "# below, k.annotations key should be replaced with annotated object names\n",
    "annotated_objects = [key for key in k.annotations.keys()]\n",
    "for anot_key in k.annotations:\n",
    "  one_anot = k.annotations[anot_key]\n",
    "  consist_onts = [ANALYZER_DICT[key](term_id=one_anot[key],\n",
    "                                     ontology=key,\n",
    "                                     object_type=one_anot['object_type']) \\\n",
    "                  for key in ANALYZER_DICT if one_anot[key]]\n",
    "  # if consistent, update consistent lists and calculate specificity\n",
    "  if all([r.consistent for r in consist_onts]):\n",
    "    consistent_objects.append(anot_key)\n",
    "    consistent_dicts[anot_key] = consist_onts\n",
    "    specificity_onts = [one_analyzer.getSpecificity(one_analyzer.term_id) for\\\n",
    "                       one_analyzer in consist_onts]\n",
    "    res_speci.append(np.mean(specificity_onts))\n",
    "\n",
    "# summarize results\n",
    "print(\"Consistency: %f\" % np.round(len(consistent_objects)/len(annotated_objects), 2))\n",
    "print(\"Specificity: %f\" % np.round(np.mean(res_speci), 2))"
   ]
  },
  {
   "cell_type": "code",
   "execution_count": 28,
   "id": "e4ebd4ae",
   "metadata": {},
   "outputs": [],
   "source": [
    "consistent_dicts = k.consistent_entities"
   ]
  },
  {
   "cell_type": "code",
   "execution_count": 30,
   "id": "0b8bdc00",
   "metadata": {},
   "outputs": [
    {
     "data": {
      "text/plain": [
       "['GO:0008150', 'GO:0003674', 'GO:0005575']"
      ]
     },
     "execution_count": 30,
     "metadata": {},
     "output_type": "execute_result"
    }
   ],
   "source": [
    "cn.GO_ROOTS"
   ]
  },
  {
   "cell_type": "code",
   "execution_count": null,
   "id": "5a1f5fb4",
   "metadata": {},
   "outputs": [],
   "source": []
  },
  {
   "cell_type": "code",
   "execution_count": 19,
   "id": "bceaa703",
   "metadata": {},
   "outputs": [
    {
     "name": "stdout",
     "output_type": "stream",
     "text": [
      "0.8777398789222185\n"
     ]
    }
   ],
   "source": [
    "# calculating specificity\n",
    "one_key = list(consistent_dicts.keys())[0]\n",
    "res_spec = []\n",
    "for one_key in consistent_dicts.keys():\n",
    "  one_spec = [anal.getSpecificity(anal.term_id) for anal in consistent_dicts[one_key]]\n",
    "  res_spec.append(np.mean(one_spec))\n",
    "print(np.mean(res_spec))"
   ]
  },
  {
   "cell_type": "code",
   "execution_count": 20,
   "id": "4759bfc5",
   "metadata": {},
   "outputs": [
    {
     "data": {
      "text/plain": [
       "0.8777398789222185"
      ]
     },
     "execution_count": 20,
     "metadata": {},
     "output_type": "execute_result"
    }
   ],
   "source": [
    "np.mean([np.mean([anal.getSpecificity(anal.term_id) for anal in consistent_dicts[one_key]]) \\\n",
    " for one_key in consistent_dicts.keys()])"
   ]
  },
  {
   "cell_type": "code",
   "execution_count": 25,
   "id": "6693c465",
   "metadata": {},
   "outputs": [
    {
     "data": {
      "text/plain": [
       "[0.6924120961550214,\n",
       " 1.0,\n",
       " 1.0,\n",
       " 1.0,\n",
       " 0.9609967247939132,\n",
       " 0.9609967247939132,\n",
       " 0.9609967247939132,\n",
       " 0.835407575038785,\n",
       " 0.835407575038785,\n",
       " 0.835407575038785,\n",
       " 0.8993706370128658,\n",
       " 0.8993706370128658,\n",
       " 0.8993706370128658,\n",
       " 0.8097291504151105,\n",
       " 0.8097291504151105,\n",
       " 0.8097291504151105,\n",
       " 0.822711113861702,\n",
       " 0.822711113861702,\n",
       " 0.822711113861702]"
      ]
     },
     "execution_count": 25,
     "metadata": {},
     "output_type": "execute_result"
    }
   ],
   "source": [
    "[np.mean([anal.getSpecificity(anal.term_id) for anal in k.consistent_entities[one_key]]) \\\n",
    " for one_key in k.consistent_entities.keys()]"
   ]
  },
  {
   "cell_type": "code",
   "execution_count": 34,
   "id": "ed8cd0a0",
   "metadata": {},
   "outputs": [
    {
     "data": {
      "text/plain": [
       "[['GO:0006351'], ['SBO:0000183']]"
      ]
     },
     "execution_count": 34,
     "metadata": {},
     "output_type": "execute_result"
    }
   ],
   "source": [
    "[anal.term_id for anal in consist_onts]"
   ]
  },
  {
   "cell_type": "code",
   "execution_count": 40,
   "id": "f67ee4d1",
   "metadata": {},
   "outputs": [
    {
     "name": "stdout",
     "output_type": "stream",
     "text": [
      "Consistency: 0.950000\n"
     ]
    }
   ],
   "source": [
    "print(\"Consistency: %f\" % (len(consistent_objects)/len(annotated_objects)))"
   ]
  },
  {
   "cell_type": "code",
   "execution_count": 49,
   "id": "b6a8f810",
   "metadata": {},
   "outputs": [
    {
     "data": {
      "text/plain": [
       "0.88"
      ]
     },
     "execution_count": 49,
     "metadata": {},
     "output_type": "execute_result"
    }
   ],
   "source": [
    "np.round(np.mean(res_speci), 2)"
   ]
  },
  {
   "cell_type": "code",
   "execution_count": 50,
   "id": "83fe6d38",
   "metadata": {},
   "outputs": [
    {
     "name": "stdout",
     "output_type": "stream",
     "text": [
      "Specificity: 0.880000\n"
     ]
    }
   ],
   "source": [
    "print(\"Specificity: %f\" % np.round(np.mean(res_speci), 2))"
   ]
  },
  {
   "cell_type": "code",
   "execution_count": 52,
   "id": "d8622b25",
   "metadata": {},
   "outputs": [
    {
     "data": {
      "text/plain": [
       "['BIOMD0000000012',\n",
       " 'PX',\n",
       " 'PY',\n",
       " 'PZ',\n",
       " 'X',\n",
       " 'Y',\n",
       " 'Z',\n",
       " 'Reaction1',\n",
       " 'Reaction2',\n",
       " 'Reaction3',\n",
       " 'Reaction4',\n",
       " 'Reaction5',\n",
       " 'Reaction6',\n",
       " 'Reaction7',\n",
       " 'Reaction8',\n",
       " 'Reaction9',\n",
       " 'Reaction10',\n",
       " 'Reaction11',\n",
       " 'Reaction12']"
      ]
     },
     "execution_count": 52,
     "metadata": {},
     "output_type": "execute_result"
    }
   ],
   "source": [
    "consistent_objects"
   ]
  },
  {
   "cell_type": "code",
   "execution_count": 21,
   "id": "3d050bd9",
   "metadata": {},
   "outputs": [
    {
     "data": {
      "text/plain": [
       "[0.6454222277234042, 1.0]"
      ]
     },
     "execution_count": 21,
     "metadata": {},
     "output_type": "execute_result"
    }
   ],
   "source": [
    "spec = [r.getSpecificity(r.term_id) for r in res]\n",
    "spec"
   ]
  },
  {
   "cell_type": "code",
   "execution_count": 23,
   "id": "2facb4fc",
   "metadata": {},
   "outputs": [
    {
     "data": {
      "text/plain": [
       "[<SBMate.dag_analyzer.DAGAnalyzer at 0x7fd98732b550>,\n",
       " <SBMate.dag_analyzer.DAGAnalyzer at 0x7fd9ae21c1f0>]"
      ]
     },
     "execution_count": 23,
     "metadata": {},
     "output_type": "execute_result"
    }
   ],
   "source": [
    "res"
   ]
  },
  {
   "cell_type": "code",
   "execution_count": 16,
   "id": "4e812f42",
   "metadata": {},
   "outputs": [],
   "source": [
    "res_const = [r.consistent for r in res]"
   ]
  },
  {
   "cell_type": "code",
   "execution_count": 17,
   "id": "3f516697",
   "metadata": {},
   "outputs": [
    {
     "data": {
      "text/plain": [
       "[True]"
      ]
     },
     "execution_count": 17,
     "metadata": {},
     "output_type": "execute_result"
    }
   ],
   "source": [
    "# summary consistency for objects\n",
    "res_const"
   ]
  },
  {
   "cell_type": "code",
   "execution_count": null,
   "id": "df612ed1",
   "metadata": {},
   "outputs": [],
   "source": []
  },
  {
   "cell_type": "code",
   "execution_count": null,
   "id": "2d99720b",
   "metadata": {},
   "outputs": [],
   "source": []
  },
  {
   "cell_type": "code",
   "execution_count": 4,
   "id": "7340183a",
   "metadata": {},
   "outputs": [
    {
     "data": {
      "text/plain": [
       "{'BIOMD0000000012': {'go': ['GO:0040029'],\n",
       "  'sbo': None,\n",
       "  'chebi': None,\n",
       "  'kegg_species': None,\n",
       "  'kegg_process': None,\n",
       "  'uniprot': None,\n",
       "  'object_id': 'BIOMD0000000012',\n",
       "  'object_type': libsbml.Model},\n",
       " 'cell': {'go': ['GO:0005623'],\n",
       "  'sbo': ['SBO:0000290'],\n",
       "  'chebi': None,\n",
       "  'kegg_species': None,\n",
       "  'kegg_process': None,\n",
       "  'uniprot': None,\n",
       "  'object_id': 'cell',\n",
       "  'object_type': libsbml.Compartment},\n",
       " 'PX': {'go': None,\n",
       "  'sbo': ['SBO:0000252'],\n",
       "  'chebi': None,\n",
       "  'kegg_species': None,\n",
       "  'kegg_process': None,\n",
       "  'uniprot': ['P03023'],\n",
       "  'object_id': 'PX',\n",
       "  'object_type': libsbml.Species},\n",
       " 'PY': {'go': None,\n",
       "  'sbo': ['SBO:0000252'],\n",
       "  'chebi': None,\n",
       "  'kegg_species': None,\n",
       "  'kegg_process': None,\n",
       "  'uniprot': ['P04483'],\n",
       "  'object_id': 'PY',\n",
       "  'object_type': libsbml.Species},\n",
       " 'PZ': {'go': None,\n",
       "  'sbo': ['SBO:0000252'],\n",
       "  'chebi': None,\n",
       "  'kegg_species': None,\n",
       "  'kegg_process': None,\n",
       "  'uniprot': ['P03034'],\n",
       "  'object_id': 'PZ',\n",
       "  'object_type': libsbml.Species},\n",
       " 'X': {'go': None,\n",
       "  'sbo': ['SBO:0000250'],\n",
       "  'chebi': ['CHEBI:33699'],\n",
       "  'kegg_species': ['C00046'],\n",
       "  'kegg_process': None,\n",
       "  'uniprot': None,\n",
       "  'object_id': 'X',\n",
       "  'object_type': libsbml.Species},\n",
       " 'Y': {'go': None,\n",
       "  'sbo': ['SBO:0000250'],\n",
       "  'chebi': ['CHEBI:33699'],\n",
       "  'kegg_species': ['C00046'],\n",
       "  'kegg_process': None,\n",
       "  'uniprot': None,\n",
       "  'object_id': 'Y',\n",
       "  'object_type': libsbml.Species},\n",
       " 'Z': {'go': None,\n",
       "  'sbo': ['SBO:0000250'],\n",
       "  'chebi': ['CHEBI:33699'],\n",
       "  'kegg_species': ['C00046'],\n",
       "  'kegg_process': None,\n",
       "  'uniprot': None,\n",
       "  'object_id': 'Z',\n",
       "  'object_type': libsbml.Species},\n",
       " 'Reaction1': {'go': ['GO:0006402'],\n",
       "  'sbo': ['SBO:0000179'],\n",
       "  'chebi': None,\n",
       "  'kegg_species': None,\n",
       "  'kegg_process': None,\n",
       "  'uniprot': None,\n",
       "  'object_id': 'Reaction1',\n",
       "  'object_type': libsbml.Reaction},\n",
       " 'Reaction2': {'go': ['GO:0006402'],\n",
       "  'sbo': ['SBO:0000179'],\n",
       "  'chebi': None,\n",
       "  'kegg_species': None,\n",
       "  'kegg_process': None,\n",
       "  'uniprot': None,\n",
       "  'object_id': 'Reaction2',\n",
       "  'object_type': libsbml.Reaction},\n",
       " 'Reaction3': {'go': ['GO:0006402'],\n",
       "  'sbo': ['SBO:0000179'],\n",
       "  'chebi': None,\n",
       "  'kegg_species': None,\n",
       "  'kegg_process': None,\n",
       "  'uniprot': None,\n",
       "  'object_id': 'Reaction3',\n",
       "  'object_type': libsbml.Reaction},\n",
       " 'Reaction4': {'go': ['GO:0006412'],\n",
       "  'sbo': ['SBO:0000184'],\n",
       "  'chebi': None,\n",
       "  'kegg_species': None,\n",
       "  'kegg_process': None,\n",
       "  'uniprot': None,\n",
       "  'object_id': 'Reaction4',\n",
       "  'object_type': libsbml.Reaction},\n",
       " 'Reaction5': {'go': ['GO:0006412'],\n",
       "  'sbo': ['SBO:0000184'],\n",
       "  'chebi': None,\n",
       "  'kegg_species': None,\n",
       "  'kegg_process': None,\n",
       "  'uniprot': None,\n",
       "  'object_id': 'Reaction5',\n",
       "  'object_type': libsbml.Reaction},\n",
       " 'Reaction6': {'go': ['GO:0006412'],\n",
       "  'sbo': ['SBO:0000184'],\n",
       "  'chebi': None,\n",
       "  'kegg_species': None,\n",
       "  'kegg_process': None,\n",
       "  'uniprot': None,\n",
       "  'object_id': 'Reaction6',\n",
       "  'object_type': libsbml.Reaction},\n",
       " 'Reaction7': {'go': ['GO:0030163'],\n",
       "  'sbo': ['SBO:0000179'],\n",
       "  'chebi': None,\n",
       "  'kegg_species': None,\n",
       "  'kegg_process': None,\n",
       "  'uniprot': None,\n",
       "  'object_id': 'Reaction7',\n",
       "  'object_type': libsbml.Reaction},\n",
       " 'Reaction8': {'go': ['GO:0030163'],\n",
       "  'sbo': ['SBO:0000179'],\n",
       "  'chebi': None,\n",
       "  'kegg_species': None,\n",
       "  'kegg_process': None,\n",
       "  'uniprot': None,\n",
       "  'object_id': 'Reaction8',\n",
       "  'object_type': libsbml.Reaction},\n",
       " 'Reaction9': {'go': ['GO:0030163'],\n",
       "  'sbo': ['SBO:0000179'],\n",
       "  'chebi': None,\n",
       "  'kegg_species': None,\n",
       "  'kegg_process': None,\n",
       "  'uniprot': None,\n",
       "  'object_id': 'Reaction9',\n",
       "  'object_type': libsbml.Reaction},\n",
       " 'Reaction10': {'go': ['GO:0006351'],\n",
       "  'sbo': ['SBO:0000183'],\n",
       "  'chebi': None,\n",
       "  'kegg_species': None,\n",
       "  'kegg_process': None,\n",
       "  'uniprot': None,\n",
       "  'object_id': 'Reaction10',\n",
       "  'object_type': libsbml.Reaction},\n",
       " 'Reaction11': {'go': ['GO:0006351'],\n",
       "  'sbo': ['SBO:0000183'],\n",
       "  'chebi': None,\n",
       "  'kegg_species': None,\n",
       "  'kegg_process': None,\n",
       "  'uniprot': None,\n",
       "  'object_id': 'Reaction11',\n",
       "  'object_type': libsbml.Reaction},\n",
       " 'Reaction12': {'go': ['GO:0006351'],\n",
       "  'sbo': ['SBO:0000183'],\n",
       "  'chebi': None,\n",
       "  'kegg_species': None,\n",
       "  'kegg_process': None,\n",
       "  'uniprot': None,\n",
       "  'object_id': 'Reaction12',\n",
       "  'object_type': libsbml.Reaction}}"
      ]
     },
     "execution_count": 4,
     "metadata": {},
     "output_type": "execute_result"
    }
   ],
   "source": [
    "k.annotations"
   ]
  },
  {
   "cell_type": "code",
   "execution_count": null,
   "id": "3ed28ad2",
   "metadata": {},
   "outputs": [],
   "source": []
  }
 ],
 "metadata": {
  "kernelspec": {
   "display_name": "pyo",
   "language": "python",
   "name": "pyo"
  },
  "language_info": {
   "codemirror_mode": {
    "name": "ipython",
    "version": 3
   },
   "file_extension": ".py",
   "mimetype": "text/x-python",
   "name": "python",
   "nbconvert_exporter": "python",
   "pygments_lexer": "ipython3",
   "version": "3.8.8"
  }
 },
 "nbformat": 4,
 "nbformat_minor": 5
}
