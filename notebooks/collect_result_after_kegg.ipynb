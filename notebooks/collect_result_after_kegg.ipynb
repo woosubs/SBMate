{
 "cells": [
  {
   "cell_type": "code",
   "execution_count": 1,
   "id": "42a2b1f6",
   "metadata": {},
   "outputs": [],
   "source": [
    "# collect new results after kegg orthology update\n",
    "# SBMate demo\n",
    "import libsbml\n",
    "import numpy as np\n",
    "import pandas as pd\n",
    "import os\n",
    "import re\n",
    "import matplotlib.pyplot as plt\n",
    "import sys\n",
    "sys.path.append(os.path.join(os.getcwd(),\"\" '..'))\n",
    "from SBMate import constants as cn\n",
    "from SBMate import sbmate\n",
    "from SBMate import sbml_annotation as sa\n",
    "BIOMD_12 = 'BIOMD0000000012.xml'\n",
    "BIOMD_13 = 'BIOMD0000000013.xml'\n",
    "BIOMD_15 = 'BIOMD0000000015.xml'"
   ]
  },
  {
   "cell_type": "code",
   "execution_count": 2,
   "id": "c1a01d93",
   "metadata": {},
   "outputs": [
    {
     "name": "stdout",
     "output_type": "stream",
     "text": [
      "1000\n"
     ]
    }
   ],
   "source": [
    "NOTEBOOK_DIR = os.getcwd()\n",
    "DATA_DIR = os.path.join(NOTEBOOK_DIR, \"../../DATA\")\n",
    "BIOMODEL_DIR = os.path.join(DATA_DIR, \"biomodels/curated_biomodels_31mar2021\")\n",
    "biomd_files = [f for f in os.listdir(BIOMODEL_DIR) if f[-4:] == \".xml\"]\n",
    "print(len(biomd_files))\n",
    "biomd_fpaths = [os.path.join(BIOMODEL_DIR, one_file) for one_file in biomd_files]"
   ]
  },
  {
   "cell_type": "code",
   "execution_count": 3,
   "id": "f0350680",
   "metadata": {},
   "outputs": [],
   "source": [
    "one_sbmate = sbmate.AnnotationMetrics(model_file=biomd_fpaths[0])"
   ]
  },
  {
   "cell_type": "code",
   "execution_count": 4,
   "id": "e0863449",
   "metadata": {},
   "outputs": [
    {
     "data": {
      "text/html": [
       "<div>\n",
       "<style scoped>\n",
       "    .dataframe tbody tr th:only-of-type {\n",
       "        vertical-align: middle;\n",
       "    }\n",
       "\n",
       "    .dataframe tbody tr th {\n",
       "        vertical-align: top;\n",
       "    }\n",
       "\n",
       "    .dataframe thead th {\n",
       "        text-align: right;\n",
       "    }\n",
       "</style>\n",
       "<table border=\"1\" class=\"dataframe\">\n",
       "  <thead>\n",
       "    <tr style=\"text-align: right;\">\n",
       "      <th></th>\n",
       "      <th>annotatable_entities</th>\n",
       "      <th>annotated_entities</th>\n",
       "      <th>coverage</th>\n",
       "      <th>consistent_entities</th>\n",
       "      <th>consistency</th>\n",
       "      <th>specificity</th>\n",
       "    </tr>\n",
       "  </thead>\n",
       "  <tbody>\n",
       "    <tr>\n",
       "      <th>BIOMD0000000634.xml</th>\n",
       "      <td>183</td>\n",
       "      <td>20</td>\n",
       "      <td>0.11</td>\n",
       "      <td>19</td>\n",
       "      <td>0.95</td>\n",
       "      <td>0.97</td>\n",
       "    </tr>\n",
       "  </tbody>\n",
       "</table>\n",
       "</div>"
      ],
      "text/plain": [
       "                     annotatable_entities  annotated_entities  coverage  \\\n",
       "BIOMD0000000634.xml                   183                  20      0.11   \n",
       "\n",
       "                     consistent_entities  consistency  specificity  \n",
       "BIOMD0000000634.xml                   19         0.95         0.97  "
      ]
     },
     "execution_count": 4,
     "metadata": {},
     "output_type": "execute_result"
    }
   ],
   "source": [
    "one_sbmate.metrics_df"
   ]
  },
  {
   "cell_type": "code",
   "execution_count": 10,
   "id": "487155a7",
   "metadata": {},
   "outputs": [
    {
     "data": {
      "text/html": [
       "<div>\n",
       "<style scoped>\n",
       "    .dataframe tbody tr th:only-of-type {\n",
       "        vertical-align: middle;\n",
       "    }\n",
       "\n",
       "    .dataframe tbody tr th {\n",
       "        vertical-align: top;\n",
       "    }\n",
       "\n",
       "    .dataframe thead th {\n",
       "        text-align: right;\n",
       "    }\n",
       "</style>\n",
       "<table border=\"1\" class=\"dataframe\">\n",
       "  <thead>\n",
       "    <tr style=\"text-align: right;\">\n",
       "      <th></th>\n",
       "      <th>annotatable_entities</th>\n",
       "      <th>annotated_entities</th>\n",
       "      <th>coverage</th>\n",
       "      <th>consistent_entities</th>\n",
       "      <th>consistency</th>\n",
       "      <th>specificity</th>\n",
       "    </tr>\n",
       "  </thead>\n",
       "  <tbody>\n",
       "    <tr>\n",
       "      <th>BIOMD0000000271.xml</th>\n",
       "      <td>18</td>\n",
       "      <td>18</td>\n",
       "      <td>1.0</td>\n",
       "      <td>16</td>\n",
       "      <td>0.89</td>\n",
       "      <td>0.89</td>\n",
       "    </tr>\n",
       "  </tbody>\n",
       "</table>\n",
       "</div>"
      ],
      "text/plain": [
       "                     annotatable_entities  annotated_entities  coverage  \\\n",
       "BIOMD0000000271.xml                    18                  18       1.0   \n",
       "\n",
       "                     consistent_entities  consistency  specificity  \n",
       "BIOMD0000000271.xml                   16         0.89         0.89  "
      ]
     },
     "execution_count": 10,
     "metadata": {},
     "output_type": "execute_result"
    }
   ],
   "source": [
    "one_sbmate = sbmate.AnnotationMetrics(model_file=os.path.join(BIOMODEL_DIR, 'BIOMD0000000271.xml'))\n",
    "one_sbmate.metrics_df"
   ]
  },
  {
   "cell_type": "code",
   "execution_count": 11,
   "id": "ea493b5e",
   "metadata": {},
   "outputs": [
    {
     "data": {
      "text/plain": [
       "annotatable_entities    18.00\n",
       "annotated_entities      18.00\n",
       "coverage                 1.00\n",
       "consistent_entities     14.00\n",
       "consistency              0.78\n",
       "specificity              0.88\n",
       "Name: BIOMD0000000271.xml, dtype: float64"
      ]
     },
     "execution_count": 11,
     "metadata": {},
     "output_type": "execute_result"
    }
   ],
   "source": [
    "old_df = pd.read_csv('comb_table.csv', index_col=0)\n",
    "old_df.loc['BIOMD0000000271.xml', :]"
   ]
  },
  {
   "cell_type": "code",
   "execution_count": 14,
   "id": "bfa1336e",
   "metadata": {},
   "outputs": [
    {
     "name": "stdout",
     "output_type": "stream",
     "text": [
      "We are at 0\n",
      "We are at 100\n",
      "We are at 200\n",
      "We are at 300\n",
      "We are at 400\n",
      "We are at 500\n",
      "We are at 600\n",
      "We are at 700\n",
      "We are at 800\n",
      "We are at 900\n"
     ]
    }
   ],
   "source": [
    "new_res = []\n",
    "for idx, one_file in enumerate(biomd_fpaths):\n",
    "  if idx % 100 == 0:\n",
    "    print(\"We are at %d\" % idx)\n",
    "  one_sbmate = sbmate.AnnotationMetrics(model_file=one_file)\n",
    "  new_res.append(one_sbmate.metrics_df)"
   ]
  },
  {
   "cell_type": "code",
   "execution_count": 15,
   "id": "9e9befa4",
   "metadata": {},
   "outputs": [],
   "source": [
    "res_df = pd.concat(new_res)"
   ]
  },
  {
   "cell_type": "code",
   "execution_count": 25,
   "id": "6989759c",
   "metadata": {},
   "outputs": [],
   "source": [
    "res_df.to_csv('updated_comb_table.csv')"
   ]
  },
  {
   "cell_type": "code",
   "execution_count": 23,
   "id": "5bfdcb3c",
   "metadata": {},
   "outputs": [
    {
     "data": {
      "text/plain": [
       "annotatable_entities     421\n",
       "annotated_entities       193\n",
       "coverage                0.46\n",
       "consistent_entities      178\n",
       "consistency             0.92\n",
       "specificity             0.97\n",
       "Name: BIOMD0000000579.xml, dtype: object"
      ]
     },
     "execution_count": 23,
     "metadata": {},
     "output_type": "execute_result"
    }
   ],
   "source": [
    "res_df.loc['BIOMD0000000579.xml']"
   ]
  },
  {
   "cell_type": "code",
   "execution_count": 24,
   "id": "0751f1e1",
   "metadata": {},
   "outputs": [
    {
     "data": {
      "text/plain": [
       "annotatable_entities    421.00\n",
       "annotated_entities      193.00\n",
       "coverage                  0.46\n",
       "consistent_entities     142.00\n",
       "consistency               0.74\n",
       "specificity               0.96\n",
       "Name: BIOMD0000000579.xml, dtype: float64"
      ]
     },
     "execution_count": 24,
     "metadata": {},
     "output_type": "execute_result"
    }
   ],
   "source": [
    "old_df.loc['BIOMD0000000579.xml']"
   ]
  },
  {
   "cell_type": "code",
   "execution_count": null,
   "id": "a9b1c98a",
   "metadata": {},
   "outputs": [],
   "source": []
  }
 ],
 "metadata": {
  "kernelspec": {
   "display_name": "pyo",
   "language": "python",
   "name": "pyo"
  },
  "language_info": {
   "codemirror_mode": {
    "name": "ipython",
    "version": 3
   },
   "file_extension": ".py",
   "mimetype": "text/x-python",
   "name": "python",
   "nbconvert_exporter": "python",
   "pygments_lexer": "ipython3",
   "version": "3.8.8"
  }
 },
 "nbformat": 4,
 "nbformat_minor": 5
}
