{
 "cells": [
  {
   "cell_type": "code",
   "execution_count": 1,
   "id": "51f1537c",
   "metadata": {},
   "outputs": [],
   "source": [
    "import libsbml\n",
    "import os\n",
    "import sys\n",
    "sys.path.append(os.path.join(os.getcwd(), '../'))\n",
    "BIOMD_12 = 'BIOMD0000000012.xml'\n",
    "\n",
    "from SBMate import sbmate\n",
    "from SBMate import sbml_annotation as sa\n",
    "from SBMate import consistency_score as cs\n",
    "from SBMate import constants as cn"
   ]
  },
  {
   "cell_type": "code",
   "execution_count": 2,
   "id": "a79550cb",
   "metadata": {},
   "outputs": [
    {
     "data": {
      "text/plain": [
       "['GO:0008150', 'GO:0003674', 'GO:0005575']"
      ]
     },
     "execution_count": 2,
     "metadata": {},
     "output_type": "execute_result"
    }
   ],
   "source": [
    "cn.GO_ROOTS"
   ]
  },
  {
   "cell_type": "code",
   "execution_count": 3,
   "id": "7bd63d8d",
   "metadata": {},
   "outputs": [
    {
     "data": {
      "text/plain": [
       "{libsbml.Model: {'biological_process', 'molecular_function'},\n",
       " libsbml.Reaction: {'biological_process', 'molecular_function'},\n",
       " libsbml.Species: {'cellular_component'},\n",
       " libsbml.Compartment: {'cellular_component'}}"
      ]
     },
     "execution_count": 3,
     "metadata": {},
     "output_type": "execute_result"
    }
   ],
   "source": [
    "cn.OBJECT_GO_MAP"
   ]
  },
  {
   "cell_type": "code",
   "execution_count": 4,
   "id": "a2afca18",
   "metadata": {},
   "outputs": [],
   "source": [
    "from SBMate import analyzer"
   ]
  },
  {
   "cell_type": "code",
   "execution_count": 5,
   "id": "53bb93f8",
   "metadata": {},
   "outputs": [
    {
     "name": "stdout",
     "output_type": "stream",
     "text": [
      "GO:0008150\n",
      "False\n"
     ]
    },
    {
     "data": {
      "text/plain": [
       "True"
      ]
     },
     "execution_count": 5,
     "metadata": {},
     "output_type": "execute_result"
    }
   ],
   "source": [
    "# GO\n",
    "go_k = analyzer.DAGAnalyzer(term_id=\"GO:0000187\", ontology=\"go\",\n",
    "                         object_type=libsbml.Reaction)\n",
    "print(go_k.findRoot(inp_term=\"GO:0000187\"))\n",
    "print(go_k.getConsistency(\"SBO:0000187\"))\n",
    "go_k.getConsistency(\"GO:0000187\")"
   ]
  },
  {
   "cell_type": "code",
   "execution_count": 6,
   "id": "7317133b",
   "metadata": {},
   "outputs": [
    {
     "name": "stdout",
     "output_type": "stream",
     "text": [
      "SBO:0000231\n",
      "True\n",
      "False\n"
     ]
    }
   ],
   "source": [
    "# SBO\n",
    "sbo_k = analyzer.DAGAnalyzer(term_id=\"SBO:0000179\", ontology=\"sbo\",\n",
    "                         object_type=libsbml.Reaction)\n",
    "print(sbo_k.findRoot(inp_term=\"SBO:0000179\"))\n",
    "print(sbo_k.getConsistency(\"SBO:0000179\"))\n",
    "print(sbo_k.getConsistency(\"GO:00002112\"))"
   ]
  },
  {
   "cell_type": "code",
   "execution_count": 7,
   "id": "93ac24ac",
   "metadata": {},
   "outputs": [
    {
     "name": "stdout",
     "output_type": "stream",
     "text": [
      "CHEBI:24431\n",
      "True\n",
      "False\n"
     ]
    }
   ],
   "source": [
    "# CHEBI\n",
    "chebi_k = analyzer.DAGAnalyzer(term_id=\"CHEBI:17234\", ontology=\"chebi\",\n",
    "                         object_type=libsbml.Species)\n",
    "print(chebi_k.findRoot(inp_term=\"CHEBI:17234\"))\n",
    "print(chebi_k.getConsistency(\"CHEBI:30769\"))\n",
    "print(chebi_k.getConsistency(\"GO:17234\"))"
   ]
  },
  {
   "cell_type": "code",
   "execution_count": 13,
   "id": "1f307baf",
   "metadata": {},
   "outputs": [
    {
     "data": {
      "text/plain": [
       "0.8936708221292899"
      ]
     },
     "execution_count": 13,
     "metadata": {},
     "output_type": "execute_result"
    }
   ],
   "source": [
    "go_k.getSpecificity(\"GO:0000187\")"
   ]
  },
  {
   "cell_type": "code",
   "execution_count": 14,
   "id": "6e71f6e8",
   "metadata": {},
   "outputs": [
    {
     "data": {
      "text/plain": [
       "1.0"
      ]
     },
     "execution_count": 14,
     "metadata": {},
     "output_type": "execute_result"
    }
   ],
   "source": [
    "sbo_k.getSpecificity(\"SBO:0000179\")"
   ]
  },
  {
   "cell_type": "code",
   "execution_count": 15,
   "id": "3203703e",
   "metadata": {},
   "outputs": [
    {
     "name": "stdout",
     "output_type": "stream",
     "text": [
      "Calculate consistency first!\n"
     ]
    }
   ],
   "source": [
    "chebi_k.getSpecificity(\"CHEBI:17234\")"
   ]
  },
  {
   "cell_type": "code",
   "execution_count": 16,
   "id": "7a6a7c51",
   "metadata": {},
   "outputs": [
    {
     "data": {
      "text/plain": [
       "0.8695506709866734"
      ]
     },
     "execution_count": 16,
     "metadata": {},
     "output_type": "execute_result"
    }
   ],
   "source": [
    "chebis = [\"CHEBI:17234\", \"CHEBI:30769\"]\n",
    "chebi_k.getConsistency(chebis)\n",
    "chebi_k.getSpecificity([\"CHEBI:17234\", \"CHEBI:30769\"])"
   ]
  },
  {
   "cell_type": "code",
   "execution_count": 12,
   "id": "c8c8462a",
   "metadata": {},
   "outputs": [
    {
     "data": {
      "text/plain": [
       "{'CHEBI:17234': 'CHEBI:24431', 'CHEBI:30769': 'CHEBI:24431'}"
      ]
     },
     "execution_count": 12,
     "metadata": {},
     "output_type": "execute_result"
    }
   ],
   "source": [
    "chebi_k.term_to_root"
   ]
  },
  {
   "cell_type": "code",
   "execution_count": 15,
   "id": "482cdd58",
   "metadata": {},
   "outputs": [
    {
     "data": {
      "text/plain": [
       "True"
      ]
     },
     "execution_count": 15,
     "metadata": {},
     "output_type": "execute_result"
    }
   ],
   "source": [
    "set(chebis) <= chebi_k.term_to_root.keys()"
   ]
  },
  {
   "cell_type": "code",
   "execution_count": 11,
   "id": "932bbb2f",
   "metadata": {},
   "outputs": [],
   "source": [
    "chebi_k.getOneTermSpecificity(\"GO:17234\")"
   ]
  },
  {
   "cell_type": "code",
   "execution_count": 12,
   "id": "c8612532",
   "metadata": {},
   "outputs": [
    {
     "data": {
      "text/plain": [
       "{'CHEBI:17234': 'CHEBI:24431'}"
      ]
     },
     "execution_count": 12,
     "metadata": {},
     "output_type": "execute_result"
    }
   ],
   "source": [
    "chebi_k.term_to_root"
   ]
  },
  {
   "cell_type": "code",
   "execution_count": 16,
   "id": "22187393",
   "metadata": {},
   "outputs": [
    {
     "name": "stdout",
     "output_type": "stream",
     "text": [
      "non\n"
     ]
    }
   ],
   "source": [
    "k = None\n",
    "if not k:\n",
    "  print(\"non\")"
   ]
  },
  {
   "cell_type": "code",
   "execution_count": 9,
   "id": "ea538621",
   "metadata": {},
   "outputs": [
    {
     "data": {
      "text/plain": [
       "{'GO:0008150': 'biological_process',\n",
       " 'GO:0003674': 'molecular_function',\n",
       " 'GO:0005575': 'cellular_component',\n",
       " None: 'None'}"
      ]
     },
     "execution_count": 9,
     "metadata": {},
     "output_type": "execute_result"
    }
   ],
   "source": [
    "{cn.GO_BIO_PROC: cn.BIOL_PROC,\n",
    "                     cn.GO_MOL_FUNC: cn.MOLE_FUNC,\n",
    "                     cn.GO_CELL_COMP: cn.CELL_COMP,\n",
    "                     None: \"None\"\n",
    "                    }"
   ]
  },
  {
   "cell_type": "code",
   "execution_count": 11,
   "id": "c98d597f",
   "metadata": {},
   "outputs": [
    {
     "data": {
      "text/plain": [
       "{'SBO:0000064': 'mathematical expression',\n",
       " 'SBO:0000544': 'metadata representation',\n",
       " 'SBO:0000004': 'modelling framework',\n",
       " 'SBO:0000231': 'occurring entity representation',\n",
       " 'SBO:0000003': 'participant role',\n",
       " 'SBO:0000236': 'physical entity representation',\n",
       " 'SBO:0000545': 'systems description parameter'}"
      ]
     },
     "execution_count": 11,
     "metadata": {},
     "output_type": "execute_result"
    }
   ],
   "source": [
    "cn.SBO_ROOT_DICT"
   ]
  },
  {
   "cell_type": "code",
   "execution_count": 12,
   "id": "33ce99f1",
   "metadata": {},
   "outputs": [
    {
     "data": {
      "text/plain": [
       "{'GO:0008150': 'biological_process',\n",
       " 'GO:0003674': 'molecular_function',\n",
       " 'GO:0005575': 'cellular_component',\n",
       " None: 'None',\n",
       " 'SBO:0000064': 'mathematical expression',\n",
       " 'SBO:0000544': 'metadata representation',\n",
       " 'SBO:0000004': 'modelling framework',\n",
       " 'SBO:0000231': 'occurring entity representation',\n",
       " 'SBO:0000003': 'participant role',\n",
       " 'SBO:0000236': 'physical entity representation',\n",
       " 'SBO:0000545': 'systems description parameter',\n",
       " 'CHEBI:24431': 'chemical entity'}"
      ]
     },
     "execution_count": 12,
     "metadata": {},
     "output_type": "execute_result"
    }
   ],
   "source": [
    "cn.DAG_ROOT_DICT"
   ]
  },
  {
   "cell_type": "code",
   "execution_count": null,
   "id": "7afdbafa",
   "metadata": {},
   "outputs": [],
   "source": []
  }
 ],
 "metadata": {
  "kernelspec": {
   "display_name": "pyo",
   "language": "python",
   "name": "pyo"
  },
  "language_info": {
   "codemirror_mode": {
    "name": "ipython",
    "version": 3
   },
   "file_extension": ".py",
   "mimetype": "text/x-python",
   "name": "python",
   "nbconvert_exporter": "python",
   "pygments_lexer": "ipython3",
   "version": "3.8.8"
  }
 },
 "nbformat": 4,
 "nbformat_minor": 5
}
