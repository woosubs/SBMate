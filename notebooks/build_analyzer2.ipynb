{
 "cells": [
  {
   "cell_type": "code",
   "execution_count": 1,
   "id": "9da89ec7",
   "metadata": {},
   "outputs": [
    {
     "data": {
      "text/plain": [
       "1000"
      ]
     },
     "execution_count": 1,
     "metadata": {},
     "output_type": "execute_result"
    }
   ],
   "source": [
    "import itertools\n",
    "import libsbml\n",
    "import numpy as np\n",
    "import os\n",
    "import pandas as pd\n",
    "import re\n",
    "import requests\n",
    "import sys\n",
    "import SBMLLint\n",
    "import sys\n",
    "\n",
    "sys.path.append('/Users/woosubs/Desktop/AutomateAnnotation/SBMate/')\n",
    "from SBMate import sbmate\n",
    "from SBMate import constants as cn\n",
    "from SBMate import sbml_annotation as sa\n",
    "from SBMate import dag_analyzer as da\n",
    "from SBMate import uniprot_kegg_analyzer as uka\n",
    "\n",
    "from SBMLLint.common import simple_sbml\n",
    "from SBMLLint.tools import sbmllint\n",
    "\n",
    "from urllib.request import urlopen\n",
    "from bs4 import BeautifulSoup\n",
    "\n",
    "import matplotlib.pyplot as plt\n",
    "%matplotlib inline  \n",
    "\n",
    "import networkx as nx\n",
    "\n",
    "NOTEBOOK_DIR = os.getcwd()\n",
    "DATA_DIR = os.path.join(NOTEBOOK_DIR, \"../../DATA\")\n",
    "BIOMODEL_DIR = os.path.join(DATA_DIR, \"biomodels/curated_biomodels_31mar2021\")\n",
    "files = [f for f in os.listdir(BIOMODEL_DIR) if f[-4:] == \".xml\"]\n",
    "len(files)"
   ]
  },
  {
   "cell_type": "code",
   "execution_count": 2,
   "id": "35ce1a75",
   "metadata": {},
   "outputs": [
    {
     "data": {
      "text/plain": [
       "{libsbml.Model: {'biological_process',\n",
       "  'kegg_process',\n",
       "  'molecular_function',\n",
       "  'occurring entity representation'},\n",
       " libsbml.Reaction: {'biological_process',\n",
       "  'kegg_process',\n",
       "  'molecular_function',\n",
       "  'occurring entity representation'},\n",
       " libsbml.Species: {'cellular_component',\n",
       "  'chemical entity',\n",
       "  'kegg_species',\n",
       "  'physical entity representation',\n",
       "  'uniprot'},\n",
       " libsbml.Compartment: {'cellular_component', 'physical entity representation'}}"
      ]
     },
     "execution_count": 2,
     "metadata": {},
     "output_type": "execute_result"
    }
   ],
   "source": [
    "cn.OBJECT_ONT_MAP_FILT"
   ]
  },
  {
   "cell_type": "code",
   "execution_count": 3,
   "id": "d2a08d65",
   "metadata": {},
   "outputs": [],
   "source": [
    "one_file = 'BIOMD0000000012.xml'\n",
    "k = sa.SortedSBMLAnnotation(os.path.join(os.getcwd(), one_file))"
   ]
  },
  {
   "cell_type": "code",
   "execution_count": 4,
   "id": "3d192f4e",
   "metadata": {},
   "outputs": [
    {
     "name": "stdout",
     "output_type": "stream",
     "text": [
      "dict_keys(['BIOMD0000000012', 'cell', 'PX', 'PY', 'PZ', 'X', 'Y', 'Z', 'Reaction1', 'Reaction2', 'Reaction3', 'Reaction4', 'Reaction5', 'Reaction6', 'Reaction7', 'Reaction8', 'Reaction9', 'Reaction10', 'Reaction11', 'Reaction12'])\n",
      "{'go': None, 'sbo': ['SBO:0000252'], 'chebi': None, 'kegg_species': None, 'kegg_process': None, 'uniprot': ['P03023'], 'object_id': 'PX', 'object_type': <class 'libsbml.Species'>}\n",
      "{'go': None, 'sbo': ['SBO:0000252'], 'chebi': None, 'kegg_species': None, 'kegg_process': None, 'uniprot': ['P04483'], 'object_id': 'PY', 'object_type': <class 'libsbml.Species'>}\n",
      "{'go': None, 'sbo': ['SBO:0000252'], 'chebi': None, 'kegg_species': None, 'kegg_process': None, 'uniprot': ['P03034'], 'object_id': 'PZ', 'object_type': <class 'libsbml.Species'>}\n"
     ]
    }
   ],
   "source": [
    "print(k.annotations.keys())\n",
    "for one_k in k.annotations.keys():\n",
    "  one_anot = k.annotations[one_k]['uniprot']\n",
    "  if one_anot:\n",
    "    print(k.annotations[one_k])"
   ]
  },
  {
   "cell_type": "code",
   "execution_count": 10,
   "id": "1e0a9fcc",
   "metadata": {},
   "outputs": [
    {
     "data": {
      "text/plain": [
       "{'go': ['GO:0006402'],\n",
       " 'sbo': ['SBO:0000179'],\n",
       " 'chebi': None,\n",
       " 'kegg_species': None,\n",
       " 'kegg_process': None,\n",
       " 'uniprot': None,\n",
       " 'object_id': 'Reaction1',\n",
       " 'object_type': libsbml.Reaction}"
      ]
     },
     "execution_count": 10,
     "metadata": {},
     "output_type": "execute_result"
    }
   ],
   "source": [
    "one_anot = k.annotations['Reaction1']\n",
    "one_anot"
   ]
  },
  {
   "cell_type": "code",
   "execution_count": 6,
   "id": "10bed352",
   "metadata": {},
   "outputs": [],
   "source": [
    "s = uka.NonDAGAnalyzer(term_id=one_anot['uniprot'], ontology='uniprot',\n",
    "               object_type=one_anot['object_type'])"
   ]
  },
  {
   "cell_type": "code",
   "execution_count": 8,
   "id": "c7ed980d",
   "metadata": {},
   "outputs": [
    {
     "data": {
      "text/plain": [
       "False"
      ]
     },
     "execution_count": 8,
     "metadata": {},
     "output_type": "execute_result"
    }
   ],
   "source": [
    "s.getConsistency(['P03023', 'ABCDE'])"
   ]
  },
  {
   "cell_type": "code",
   "execution_count": 9,
   "id": "266b9bba",
   "metadata": {},
   "outputs": [
    {
     "data": {
      "text/plain": [
       "1.0"
      ]
     },
     "execution_count": 9,
     "metadata": {},
     "output_type": "execute_result"
    }
   ],
   "source": [
    "float(1)"
   ]
  },
  {
   "cell_type": "code",
   "execution_count": null,
   "id": "461995d1",
   "metadata": {},
   "outputs": [],
   "source": []
  }
 ],
 "metadata": {
  "kernelspec": {
   "display_name": "pyo",
   "language": "python",
   "name": "pyo"
  },
  "language_info": {
   "codemirror_mode": {
    "name": "ipython",
    "version": 3
   },
   "file_extension": ".py",
   "mimetype": "text/x-python",
   "name": "python",
   "nbconvert_exporter": "python",
   "pygments_lexer": "ipython3",
   "version": "3.8.8"
  }
 },
 "nbformat": 4,
 "nbformat_minor": 5
}
