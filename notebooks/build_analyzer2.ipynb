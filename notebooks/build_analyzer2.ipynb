{
 "cells": [
  {
   "cell_type": "code",
   "execution_count": 1,
   "id": "2dad9dbf",
   "metadata": {},
   "outputs": [],
   "source": [
    "import itertools\n",
    "import libsbml\n",
    "import numpy as np\n",
    "import os\n",
    "import pandas as pd\n",
    "import re\n",
    "import requests\n",
    "import sys\n",
    "import SBMLLint\n",
    "import sys\n",
    "\n",
    "sys.path.append('/Users/woosubs/Desktop/AutomateAnnotation/SBMate/')\n",
    "from SBMate import sbmate\n",
    "from SBMate import constants as cn\n",
    "from SBMate import sbml_annotation as sa\n",
    "from SBMate import dag_analyzer as da\n",
    "from SBMate import uniprot_kegg_analyzer as uka\n",
    "\n",
    "from SBMLLint.common import simple_sbml\n",
    "from SBMLLint.tools import sbmllint\n",
    "\n",
    "from urllib.request import urlopen\n",
    "from bs4 import BeautifulSoup\n",
    "\n",
    "import matplotlib.pyplot as plt\n",
    "%matplotlib inline  \n",
    "\n",
    "import networkx as nx\n",
    "\n",
    "NOTEBOOK_DIR = os.getcwd()\n",
    "DATA_DIR = os.path.join(NOTEBOOK_DIR, \"../../DATA\")\n",
    "BIOMODEL_DIR = os.path.join(DATA_DIR, \"biomodels/curated_biomodels_31mar2021\")\n",
    "files = [f for f in os.listdir(BIOMODEL_DIR) if f[-4:] == \".xml\"]\n",
    "len(files)"
   ]
  },
  {
   "cell_type": "code",
   "execution_count": 2,
   "id": "6161a261",
   "metadata": {},
   "outputs": [
    {
     "data": {
      "text/plain": [
       "{libsbml.Model: {'biological_process',\n",
       "  'kegg_process',\n",
       "  'molecular_function',\n",
       "  'occurring entity representation'},\n",
       " libsbml.Reaction: {'biological_process',\n",
       "  'kegg_process',\n",
       "  'molecular_function',\n",
       "  'occurring entity representation'},\n",
       " libsbml.Species: {'cellular_component',\n",
       "  'chemical entity',\n",
       "  'kegg_species',\n",
       "  'physical entity representation',\n",
       "  'uniprot'},\n",
       " libsbml.Compartment: {'cellular_component', 'physical entity representation'}}"
      ]
     },
     "execution_count": 2,
     "metadata": {},
     "output_type": "execute_result"
    }
   ],
   "source": [
    "cn.OBJECT_ONT_MAP_FILT"
   ]
  },
  {
   "cell_type": "code",
   "execution_count": 3,
   "id": "31a7228c",
   "metadata": {},
   "outputs": [],
   "source": [
    "one_file = 'BIOMD0000000012.xml'\n",
    "k = sa.SortedSBMLAnnotation(os.path.join(BIOMODEL_DIR, one_file))\n",
    "m = sa.RawSBMLAnnotation(os.path.join(BIOMODEL_DIR, one_file))"
   ]
  },
  {
   "cell_type": "code",
   "execution_count": 4,
   "id": "e232f35b",
   "metadata": {},
   "outputs": [
    {
     "data": {
      "text/plain": [
       "{'BIOMD0000000012': {'go': ['GO:0040029'],\n",
       "  'sbo': None,\n",
       "  'chebi': None,\n",
       "  'kegg_species': None,\n",
       "  'kegg_process': None,\n",
       "  'uniprot': None,\n",
       "  'object_id': 'BIOMD0000000012',\n",
       "  'object_type': libsbml.Model},\n",
       " 'cell': {'go': ['GO:0005623'],\n",
       "  'sbo': ['SBO:0000290'],\n",
       "  'chebi': None,\n",
       "  'kegg_species': None,\n",
       "  'kegg_process': None,\n",
       "  'uniprot': None,\n",
       "  'object_id': 'cell',\n",
       "  'object_type': libsbml.Compartment},\n",
       " 'PX': {'go': None,\n",
       "  'sbo': ['SBO:0000252'],\n",
       "  'chebi': None,\n",
       "  'kegg_species': None,\n",
       "  'kegg_process': None,\n",
       "  'uniprot': ['P03023'],\n",
       "  'object_id': 'PX',\n",
       "  'object_type': libsbml.Species},\n",
       " 'PY': {'go': None,\n",
       "  'sbo': ['SBO:0000252'],\n",
       "  'chebi': None,\n",
       "  'kegg_species': None,\n",
       "  'kegg_process': None,\n",
       "  'uniprot': ['P04483'],\n",
       "  'object_id': 'PY',\n",
       "  'object_type': libsbml.Species},\n",
       " 'PZ': {'go': None,\n",
       "  'sbo': ['SBO:0000252'],\n",
       "  'chebi': None,\n",
       "  'kegg_species': None,\n",
       "  'kegg_process': None,\n",
       "  'uniprot': ['P03034'],\n",
       "  'object_id': 'PZ',\n",
       "  'object_type': libsbml.Species},\n",
       " 'X': {'go': None,\n",
       "  'sbo': ['SBO:0000250'],\n",
       "  'chebi': ['CHEBI:33699'],\n",
       "  'kegg_species': ['C00046'],\n",
       "  'kegg_process': None,\n",
       "  'uniprot': None,\n",
       "  'object_id': 'X',\n",
       "  'object_type': libsbml.Species},\n",
       " 'Y': {'go': None,\n",
       "  'sbo': ['SBO:0000250'],\n",
       "  'chebi': ['CHEBI:33699'],\n",
       "  'kegg_species': ['C00046'],\n",
       "  'kegg_process': None,\n",
       "  'uniprot': None,\n",
       "  'object_id': 'Y',\n",
       "  'object_type': libsbml.Species},\n",
       " 'Z': {'go': None,\n",
       "  'sbo': ['SBO:0000250'],\n",
       "  'chebi': ['CHEBI:33699'],\n",
       "  'kegg_species': ['C00046'],\n",
       "  'kegg_process': None,\n",
       "  'uniprot': None,\n",
       "  'object_id': 'Z',\n",
       "  'object_type': libsbml.Species},\n",
       " 'Reaction1': {'go': ['GO:0006402'],\n",
       "  'sbo': ['SBO:0000179'],\n",
       "  'chebi': None,\n",
       "  'kegg_species': None,\n",
       "  'kegg_process': None,\n",
       "  'uniprot': None,\n",
       "  'object_id': 'Reaction1',\n",
       "  'object_type': libsbml.Reaction},\n",
       " 'Reaction2': {'go': ['GO:0006402'],\n",
       "  'sbo': ['SBO:0000179'],\n",
       "  'chebi': None,\n",
       "  'kegg_species': None,\n",
       "  'kegg_process': None,\n",
       "  'uniprot': None,\n",
       "  'object_id': 'Reaction2',\n",
       "  'object_type': libsbml.Reaction},\n",
       " 'Reaction3': {'go': ['GO:0006402'],\n",
       "  'sbo': ['SBO:0000179'],\n",
       "  'chebi': None,\n",
       "  'kegg_species': None,\n",
       "  'kegg_process': None,\n",
       "  'uniprot': None,\n",
       "  'object_id': 'Reaction3',\n",
       "  'object_type': libsbml.Reaction},\n",
       " 'Reaction4': {'go': ['GO:0006412'],\n",
       "  'sbo': ['SBO:0000184'],\n",
       "  'chebi': None,\n",
       "  'kegg_species': None,\n",
       "  'kegg_process': None,\n",
       "  'uniprot': None,\n",
       "  'object_id': 'Reaction4',\n",
       "  'object_type': libsbml.Reaction},\n",
       " 'Reaction5': {'go': ['GO:0006412'],\n",
       "  'sbo': ['SBO:0000184'],\n",
       "  'chebi': None,\n",
       "  'kegg_species': None,\n",
       "  'kegg_process': None,\n",
       "  'uniprot': None,\n",
       "  'object_id': 'Reaction5',\n",
       "  'object_type': libsbml.Reaction},\n",
       " 'Reaction6': {'go': ['GO:0006412'],\n",
       "  'sbo': ['SBO:0000184'],\n",
       "  'chebi': None,\n",
       "  'kegg_species': None,\n",
       "  'kegg_process': None,\n",
       "  'uniprot': None,\n",
       "  'object_id': 'Reaction6',\n",
       "  'object_type': libsbml.Reaction},\n",
       " 'Reaction7': {'go': ['GO:0030163'],\n",
       "  'sbo': ['SBO:0000179'],\n",
       "  'chebi': None,\n",
       "  'kegg_species': None,\n",
       "  'kegg_process': None,\n",
       "  'uniprot': None,\n",
       "  'object_id': 'Reaction7',\n",
       "  'object_type': libsbml.Reaction},\n",
       " 'Reaction8': {'go': ['GO:0030163'],\n",
       "  'sbo': ['SBO:0000179'],\n",
       "  'chebi': None,\n",
       "  'kegg_species': None,\n",
       "  'kegg_process': None,\n",
       "  'uniprot': None,\n",
       "  'object_id': 'Reaction8',\n",
       "  'object_type': libsbml.Reaction},\n",
       " 'Reaction9': {'go': ['GO:0030163'],\n",
       "  'sbo': ['SBO:0000179'],\n",
       "  'chebi': None,\n",
       "  'kegg_species': None,\n",
       "  'kegg_process': None,\n",
       "  'uniprot': None,\n",
       "  'object_id': 'Reaction9',\n",
       "  'object_type': libsbml.Reaction},\n",
       " 'Reaction10': {'go': ['GO:0006351'],\n",
       "  'sbo': ['SBO:0000183'],\n",
       "  'chebi': None,\n",
       "  'kegg_species': None,\n",
       "  'kegg_process': None,\n",
       "  'uniprot': None,\n",
       "  'object_id': 'Reaction10',\n",
       "  'object_type': libsbml.Reaction},\n",
       " 'Reaction11': {'go': ['GO:0006351'],\n",
       "  'sbo': ['SBO:0000183'],\n",
       "  'chebi': None,\n",
       "  'kegg_species': None,\n",
       "  'kegg_process': None,\n",
       "  'uniprot': None,\n",
       "  'object_id': 'Reaction11',\n",
       "  'object_type': libsbml.Reaction},\n",
       " 'Reaction12': {'go': ['GO:0006351'],\n",
       "  'sbo': ['SBO:0000183'],\n",
       "  'chebi': None,\n",
       "  'kegg_species': None,\n",
       "  'kegg_process': None,\n",
       "  'uniprot': None,\n",
       "  'object_id': 'Reaction12',\n",
       "  'object_type': libsbml.Reaction}}"
      ]
     },
     "execution_count": 4,
     "metadata": {},
     "output_type": "execute_result"
    }
   ],
   "source": [
    "k.annotations"
   ]
  },
  {
   "cell_type": "code",
   "execution_count": 7,
   "id": "553383a5",
   "metadata": {},
   "outputs": [],
   "source": [
    "biomd12 = sa.SortedSBMLAnnotation(file=os.path.join(BIOMODEL_DIR, one_file))\n",
    "x_annotation = biomd12.annotations['X']\n",
    "x_analyzer = uka.NonDAGAnalyzer(term_id=['C00046'],\n",
    "                                         ontology='kegg_species',\n",
    "                                         object_type=libsbml.Species)"
   ]
  },
  {
   "cell_type": "code",
   "execution_count": 9,
   "id": "87109979",
   "metadata": {},
   "outputs": [
    {
     "data": {
      "text/plain": [
       "True"
      ]
     },
     "execution_count": 9,
     "metadata": {},
     "output_type": "execute_result"
    }
   ],
   "source": [
    "x_analyzer.getConsistency('ABC')"
   ]
  },
  {
   "cell_type": "code",
   "execution_count": 10,
   "id": "881b851f",
   "metadata": {},
   "outputs": [
    {
     "data": {
      "text/plain": [
       "True"
      ]
     },
     "execution_count": 10,
     "metadata": {},
     "output_type": "execute_result"
    }
   ],
   "source": [
    "res = [x_analyzer.getOneTermConsistency(t) for t in ['ABC']]\n",
    "all(res)"
   ]
  },
  {
   "cell_type": "code",
   "execution_count": 12,
   "id": "0e72339c",
   "metadata": {},
   "outputs": [
    {
     "data": {
      "text/plain": [
       "True"
      ]
     },
     "execution_count": 12,
     "metadata": {},
     "output_type": "execute_result"
    }
   ],
   "source": [
    "x_analyzer.getOneTermConsistency('ABC')"
   ]
  },
  {
   "cell_type": "code",
   "execution_count": 14,
   "id": "49bd8eef",
   "metadata": {},
   "outputs": [
    {
     "data": {
      "text/plain": [
       "'<!doctype html>\\n<html><head>\\n<title>KEGG GENOME: Acinetobacter baumannii ACICU</title>\\n<link type=\"text/css\" rel=\"stylesheet\" href=\"/css/gn2.css?1624024372\">\\n<link type=\"text/css\" rel=\"stylesheet\" href=\"/css/bget.css?1624024372\">\\n<link rel=\"stylesheet\" href=\"/css/bget.css?1624024372\" type=\"text/css\">\\n<meta name=\"viewport\" content=\"width=device-width, initial-scale=1.0\">\\n<link rel=\"stylesheet\" type=\"text/css\" href=\"/css/bgetm.css?1624024372\" media=\"only screen and (max-width: 768px)\">\\n<style>.kcfd{display:none;}</style>\\n<script>\\n<!--\\nvar getElementsByClassName = document.getElementsByClassName ?\\n  function (cl){\\n    return document.getElementsByClassName(cl);\\n  } :\\n  function (cl){\\n    var elms = [];\\n    var objs = document.getElementsByTagName(\\'*\\');\\n    for(var i=0;i<objs.length;i++){\\n      var obj = objs[i];\\n      if(obj.className == cl){\\n        elms.push(obj);\\n      }\\n    }\\n    return elms;\\n  };\\nfunction toggleField(clk,cl,show,hide){\\n  var objs = getElementsByClassName(cl);\\n  for(var i=0;i<objs.length;i++){\\n    var obj = objs[i];\\n    if(!obj.style.display||obj.style.display == \\'none\\'){\\n      obj.style.display = \\'block\\';\\n      clk.innerHTML = \\'&nbsp;&laquo; \\'+hide;\\n    }\\n    else{\\n      obj.style.display = \\'none\\';\\n      clk.innerHTML = \\'&nbsp;&raquo; \\'+show;\\n    }\\n  }\\n}\\nfunction toggleData(bobj,e){\\n  var id = bobj.id.replace(/[^0-9]/g,\\'\\');\\n  var dt = document.getElementById(\\'kcfd\\'+id);\\n  e.preventDefault();\\n  if(!dt.style.display||dt.style.display == \\'none\\'){\\n    document.getElementById(\\'kcfb\\'+id).innerHTML = \\'Hide\\';\\n    dt.style.display = \\'block\\';\\n  }\\n  else{\\n    document.getElementById(\\'kcfb\\'+id).innerHTML = \\'Show\\';\\n    dt.style.display = \\'none\\';\\n  }\\n}\\nfunction btn(bobj,img) {\\n  bobj.src = \"/Fig/bget/button_\" + img + \".gif\";\\n}\\nfunction btn_e(e) {\\n  e = e || event;\\n  var obj = e.target;\\n  var img = e.target.src;\\n  var img_base = img.replace(/\\\\\\\\/g,\\'/\\').replace(/(b|bd|bh)\\\\.gif$/,\\'\\');\\n  if(e.type == \\'mousedown\\'||e.type == \\'touchstart\\'){\\n    obj.src = img_base +\\'bd.gif\\';\\n  }\\n  else if(e.type == \\'mouseover\\'){\\n    obj.src = img_base +\\'bh.gif\\';\\n  }\\n  else if(e.type == \\'mouseup\\'||e.type == \\'touchend\\'){\\n    obj.src = img_base +\\'b.gif\\';\\n  }\\n  else if(e.type == \\'mouseout\\'){\\n    obj.src = img_base +\\'b.gif\\';\\n  }\\n}\\nfunction init(){\\n  for(var i=1;i<=1;i++){\\n    if(document.getElementById(\\'kcfb\\'+i)){\\n      document.getElementById(\\'kcfb\\'+i).onclick = function(e){toggleData(this,e);};\\n    }\\n  }\\n}\\nfunction Link_XtrctSeq2(form) {\\n    var dna_from;\\n    var dna_to;\\n    var dna_len;\\n    var plus_up   = Number(form.XtrctSeq_UP.value) ;\\n    var plus_down = Number(form.XtrctSeq_DOWN.value);\\n    var vector    = Number(form.VECTOR.value);\\n    var org       = form.ORG.value;\\n    var chr       = form.CHR.value;\\n    var kid       = form.KEGGID.value;\\n    var url;\\n\\n    if (plus_up == 0 && plus_down == 0) {\\n  url = \"/entry/-f+-n+n+\" + kid;\\n    }\\n    else {\\n  if (vector == 1) {\\n      dna_from  = Number(form.FROM.value)  - plus_up;\\n      dna_to    = Number(form.TO.value) + plus_down;\\n  } else {\\n      dna_from  = Number(form.FROM.value)  - plus_down;\\n      dna_to    = Number(form.TO.value) + plus_up;\\n  }\\n\\n  url = \"/dbget-bin/cut_sequence_genes.pl?FROM=\" + dna_from + \"&TO=\" + dna_to +\"&VECTOR=\" + vector + \"&ORG=\" + org;\\n  if (chr) url += \"&CHR=\" + chr;\\n    }\\n    //window.open( url, \"_self\" );\\n    location.href = url;\\n}\\nfunction go_taxonomy(form,params){\\n  for(var key in params){\\n    if(form[key]){\\n      form.setAttribute(key,params[key]);\\n    }\\n    else{\\n      var obj = document.createElement(\\'input\\');\\n      obj.setAttribute(\\'type\\',\\'hidden\\');\\n      obj.setAttribute(\\'name\\',key);\\n      obj.setAttribute(\\'value\\',params[key]);\\n      form.appendChild(obj);\\n    }\\n  }\\n  form.submit();\\n}\\nwindow.onload=function(){window.focus();init();};\\n//--->\\n</script>\\n\\n</head>\\n<body>\\n<div>\\n\\n<table border=0 cellpadding=0 cellspacing=0><tr><td>\\n<table border=0 cellpadding=0 cellspacing=0 width=\"650\"><tr><td width=70><a href=\"/kegg/kegg2.html\"><img align=\"middle\" alt=\"KEGG\" border=0 src=\"/Fig/bget/kegg1.gif\"></a></td><td>&nbsp;&nbsp;&nbsp;</td><td><a name=\"genome:T00710\"></a><font class=\"title1\">GENOME: Acinetobacter baumannii ACICU</font></td><td align=\"right\" valign=\"bottom\"><button class=\"btn\" onclick=\"javascript:void(window.open(&#39;/kegg/document/help_bget_genome.html&#39;,&#39;KEGG_Help&#39;,&#39;toolbar=no,location=no,directories=no,width=720,height=640,resizable=yes,scrollbars=yes&#39;));return false;\">Help</button></td></tr></table><table border=0 cellpadding=0 cellspacing=0><tr><td valign=\"top\">\\n<form method=\"post\" action=\"/entry/\" enctype=\"application/x-www-form-urlencoded\" name=\"form1\"><table border=0 cellpadding=1 cellspacing=0 width=\"650\">\\n<tr>\\n<td class=\"fr1\">\\n<table border=0 cellpadding=2 cellspacing=0 width=\"650\" style=\"border-bottom:#000 1px solid\">\\n\\n<tr><th class=\"th10\" align=\"left\" valign=\"middle\" style=\"border-color:#000; border-width: 1px 0px 0px 1px; border-style: solid\"><nobr>Entry</nobr></th>\\n<td class=\"td10\" style=\"border-color:#000; border-width: 1px 1px 0px 1px; border-style: solid\"><table border=\"0\" cellpadding=\"0\" cellspacing=\"0\" width=\"555\"><tr><td align=\"left\"><code><nobr>T00710&nbsp;&nbsp;&nbsp;&nbsp;&nbsp;&nbsp;&nbsp;&nbsp;&nbsp;&nbsp;&nbsp;&nbsp;Complete&nbsp;&nbsp;Genome&nbsp;&nbsp;&nbsp;&nbsp;&nbsp;&nbsp;&nbsp;&nbsp;&nbsp;&nbsp;&nbsp;&nbsp;&nbsp;&nbsp;&nbsp;&nbsp;&nbsp;&nbsp;&nbsp;&nbsp;&nbsp;&nbsp;&nbsp;&nbsp;&nbsp;&nbsp;&nbsp;&nbsp;&nbsp;&nbsp;&nbsp;&nbsp;&nbsp;<br>\\n</nobr></code></td><td align=\"right\"><br></td></tr></table></td></tr>\\n\\n\\n<tr><th class=\"th11\" align=\"left\" valign=\"top\" style=\"border-color:#000; border-width: 1px 0px 0px 1px; border-style: solid\"><nobr>Name</nobr></th>\\n<td class=\"td11\" style=\"border-color:#000; border-width: 1px 1px 0px 1px; border-style: solid\"><div style=\"width:555px;overflow-x:auto;overflow-y:hidden\"><div style=\"width:555px;overflow-x:auto;overflow-y:hidden\">abc, ACIBC, 405416<br>\\n</div></div></td></tr>\\n\\n\\n<tr><th class=\"th10\" align=\"left\" valign=\"top\" style=\"border-color:#000; border-width: 1px 0px 0px 1px; border-style: solid\"><nobr>Definition</nobr></th>\\n<td class=\"td10\" style=\"border-color:#000; border-width: 1px 1px 0px 1px; border-style: solid\"><div style=\"width:555px;overflow-x:auto;overflow-y:hidden\"><div style=\"width:555px;overflow-x:auto;overflow-y:hidden\">Acinetobacter baumannii ACICU<br>\\n</div></div></td></tr>\\n\\n\\n<tr><th class=\"th11\" align=\"left\" valign=\"top\" style=\"border-color:#000; border-width: 1px 0px 0px 1px; border-style: solid\"><nobr>Annotation</nobr></th>\\n<td class=\"td11\" style=\"border-color:#000; border-width: 1px 1px 0px 1px; border-style: solid\"><div style=\"width:555px;overflow-x:auto;overflow-y:hidden\">yes<button class=\"btn\" onclick=\"location.href=\\'/kegg-bin/show_organism?org=T00710\\';return false;\">Show organism</button></div></td></tr>\\n\\n\\n<tr><th class=\"th10\" align=\"left\" valign=\"top\" style=\"border-color:#000; border-width: 1px 0px 0px 1px; border-style: solid\"><nobr>Taxonomy</nobr></th>\\n<td class=\"td10\" style=\"border-color:#000; border-width: 1px 1px 0px 1px; border-style: solid\"><div style=\"width:555px;overflow-x:auto;overflow-y:hidden\">TAX:<a href=\"https://www.ncbi.nlm.nih.gov/Taxonomy/Browser/wwwtax.cgi?mode=Info&id=405416\">405416</a></div></td></tr>\\n\\n\\n<tr><th class=\"th11\" align=\"left\" valign=\"top\" style=\"border-color:#000; border-width: 0px 0px 0px 1px; border-style: solid\"><nobr>&nbsp;&nbsp;Lineage</nobr></th>\\n<td class=\"td11\" style=\"border-color:#000; border-width: 0px 1px 0px 1px; border-style: solid\"><div style=\"width:555px;overflow-x:auto;overflow-y:hidden\">Bacteria; Proteobacteria; Gammaproteobacteria; Pseudomonadales; Moraxellaceae; Acinetobacter; Acinetobacter calcoaceticus/baumannii complex</div><button class=\"btn\" onclick=\"location.href=\\'/brite/br08601.keg+abc\\';return false;\">Taxonomy</button></td></tr>\\n\\n\\n<tr><th class=\"th10\" align=\"left\" valign=\"top\" style=\"border-color:#000; border-width: 1px 0px 0px 1px; border-style: solid\"><nobr>Data&nbsp;source</nobr></th>\\n<td class=\"td10\" style=\"border-color:#000; border-width: 1px 1px 0px 1px; border-style: solid\"><div style=\"width:555px;overflow-x:auto;overflow-y:hidden\"><a href=\"ftp://ftp.ncbi.nlm.nih.gov/genomes/all/GCA/000/018/445/GCA_000018445.1_ASM1844v1\">GenBank</a> (Assembly:<a href=\"https://www.ncbi.nlm.nih.gov/assembly/GCA_000018445.1\">GCA_000018445.1</a>)<br>\\nBioProject:<a href=\"https://www.ncbi.nlm.nih.gov/bioproject/17827\">17827</a><br>\\n</div></td></tr>\\n\\n\\n<tr><th class=\"th11\" align=\"left\" valign=\"top\" style=\"border-color:#000; border-width: 1px 0px 0px 1px; border-style: solid\"><nobr>Keywords</nobr></th>\\n<td class=\"td11\" style=\"border-color:#000; border-width: 1px 1px 0px 1px; border-style: solid\"><div style=\"width:555px;overflow-x:auto;overflow-y:hidden\">Human pathogen<br>\\n</div></td></tr>\\n\\n\\n<tr><th class=\"th10\" align=\"left\" valign=\"top\" style=\"border-color:#000; border-width: 1px 0px 0px 1px; border-style: solid\"><nobr>Disease</nobr></th>\\n<td class=\"td10\" style=\"border-color:#000; border-width: 1px 1px 0px 1px; border-style: solid\"><table style=\"border:0;border-collapse:collapse;\"><tr><td valign=\"top\"><nobr><a href=\"/entry/H00309\">H00309</a>&nbsp;&nbsp;</nobr></td><td>Multidrug-resistant Acinetobacter infection</td></tr></table></td></tr>\\n\\n\\n<tr><th class=\"th11\" align=\"left\" valign=\"top\" style=\"border-color:#000; border-width: 1px 0px 0px 1px; border-style: solid\"><nobr>Comment</nobr></th>\\n<td class=\"td11\" style=\"border-color:#000; border-width: 1px 1px 0px 1px; border-style: solid\"><div style=\"width:555px;overflow-x:auto;overflow-y:hidden\">Epidemic multidrug-resistant strain.<br>\\nBelongs to the European clone II group and carries the plasmid-mediated blaOXA-58 gene.<br>\\nIsolated from the cerebrospinal fluid of a patient cared for at the ICU of Hospital S. Giovanni-Addolorata in Rome, Italy.<br>\\n</div></td></tr>\\n\\n\\n<tr><th class=\"th10\" align=\"left\" valign=\"top\" style=\"border-color:#000; border-width: 1px 0px 0px 1px; border-style: solid\"><nobr>Chromosome</nobr></th>\\n<td class=\"td10\" style=\"border-color:#000; border-width: 1px 1px 0px 1px; border-style: solid\"><div style=\"width:555px;overflow-x:auto;overflow-y:hidden\">Circular</div></td></tr>\\n\\n\\n<tr><th class=\"th11\" align=\"left\" valign=\"top\" style=\"border-color:#000; border-width: 0px 0px 0px 1px; border-style: solid\"><nobr>&nbsp;&nbsp;Sequence</nobr></th>\\n<td class=\"td11\" style=\"border-color:#000; border-width: 0px 1px 0px 1px; border-style: solid\"><div style=\"width:555px;overflow-x:auto;overflow-y:hidden\">GB:<a href=\"https://www.ncbi.nlm.nih.gov/nuccore/CP000863\">CP000863</a></div></td></tr>\\n\\n\\n<tr><th class=\"th10\" align=\"left\" valign=\"top\" style=\"border-color:#000; border-width: 0px 0px 0px 1px; border-style: solid\"><nobr>&nbsp;&nbsp;Length</nobr></th>\\n<td class=\"td10\" style=\"border-color:#000; border-width: 0px 1px 0px 1px; border-style: solid\"><div style=\"width:555px;overflow-x:auto;overflow-y:hidden\">3904116</div></td></tr>\\n\\n\\n<tr><th class=\"th11\" align=\"left\" valign=\"top\" style=\"border-color:#000; border-width: 1px 0px 0px 1px; border-style: solid\"><nobr>Plasmid</nobr></th>\\n<td class=\"td11\" style=\"border-color:#000; border-width: 1px 1px 0px 1px; border-style: solid\"><div style=\"width:555px;overflow-x:auto;overflow-y:hidden\">pACICU1; Circular</div></td></tr>\\n\\n\\n<tr><th class=\"th10\" align=\"left\" valign=\"top\" style=\"border-color:#000; border-width: 0px 0px 0px 1px; border-style: solid\"><nobr>&nbsp;&nbsp;Sequence</nobr></th>\\n<td class=\"td10\" style=\"border-color:#000; border-width: 0px 1px 0px 1px; border-style: solid\"><div style=\"width:555px;overflow-x:auto;overflow-y:hidden\">GB:<a href=\"https://www.ncbi.nlm.nih.gov/nuccore/CP000864\">CP000864</a></div></td></tr>\\n\\n\\n<tr><th class=\"th11\" align=\"left\" valign=\"top\" style=\"border-color:#000; border-width: 0px 0px 0px 1px; border-style: solid\"><nobr>&nbsp;&nbsp;Length</nobr></th>\\n<td class=\"td11\" style=\"border-color:#000; border-width: 0px 1px 0px 1px; border-style: solid\"><div style=\"width:555px;overflow-x:auto;overflow-y:hidden\">28279</div></td></tr>\\n\\n\\n<tr><th class=\"th10\" align=\"left\" valign=\"top\" style=\"border-color:#000; border-width: 1px 0px 0px 1px; border-style: solid\"><nobr>Plasmid</nobr></th>\\n<td class=\"td10\" style=\"border-color:#000; border-width: 1px 1px 0px 1px; border-style: solid\"><div style=\"width:555px;overflow-x:auto;overflow-y:hidden\">pACICU2; Circular</div></td></tr>\\n\\n\\n<tr><th class=\"th11\" align=\"left\" valign=\"top\" style=\"border-color:#000; border-width: 0px 0px 0px 1px; border-style: solid\"><nobr>&nbsp;&nbsp;Sequence</nobr></th>\\n<td class=\"td11\" style=\"border-color:#000; border-width: 0px 1px 0px 1px; border-style: solid\"><div style=\"width:555px;overflow-x:auto;overflow-y:hidden\">GB:<a href=\"https://www.ncbi.nlm.nih.gov/nuccore/CP000865\">CP000865</a></div></td></tr>\\n\\n\\n<tr><th class=\"th10\" align=\"left\" valign=\"top\" style=\"border-color:#000; border-width: 0px 0px 0px 1px; border-style: solid\"><nobr>&nbsp;&nbsp;Length</nobr></th>\\n<td class=\"td10\" style=\"border-color:#000; border-width: 0px 1px 0px 1px; border-style: solid\"><div style=\"width:555px;overflow-x:auto;overflow-y:hidden\">64366</div></td></tr>\\n\\n\\n<tr><th class=\"th11\" align=\"left\" valign=\"top\" style=\"border-color:#000; border-width: 1px 0px 0px 1px; border-style: solid\"><nobr>Statistics</nobr></th>\\n<td class=\"td11\" style=\"border-color:#000; border-width: 1px 1px 0px 1px; border-style: solid\"><div style=\"width:555px;overflow-x:auto;overflow-y:hidden\">Number of nucleotides:&nbsp;&nbsp;&nbsp;&nbsp;&nbsp;&nbsp;&nbsp;3996761<br>\\nNumber of protein genes:&nbsp;&nbsp;&nbsp;&nbsp;&nbsp;&nbsp;&nbsp;&nbsp;3759<br>\\nNumber of RNA genes:&nbsp;&nbsp;&nbsp;&nbsp;&nbsp;&nbsp;&nbsp;&nbsp;&nbsp;&nbsp;&nbsp;&nbsp;&nbsp;&nbsp;82<br>\\n</div></td></tr>\\n\\n\\n<tr><th class=\"th10\" align=\"left\" valign=\"top\" style=\"border-color:#000; border-width: 1px 0px 0px 1px; border-style: solid\"><nobr>Created</nobr></th>\\n<td class=\"td10\" style=\"border-color:#000; border-width: 1px 1px 0px 1px; border-style: solid\"><div style=\"width:555px;overflow-x:auto;overflow-y:hidden\">2008<br>\\n</div></td></tr>\\n\\n\\n<tr><th class=\"th11\" align=\"left\" valign=\"top\" style=\"border-color:#000; border-width: 1px 0px 0px 1px; border-style: solid\"><nobr>Reference</nobr></th>\\n<td class=\"td11\" style=\"border-color:#000; border-width: 1px 1px 0px 1px; border-style: solid\"><div style=\"width:555px;overflow-x:auto;overflow-y:hidden\">PMID:<a href=\"https://www.ncbi.nlm.nih.gov/pubmed/18411315\">18411315</a></div></td></tr>\\n\\n\\n<tr><th class=\"th10\" align=\"left\" valign=\"top\" style=\"border-color:#000; border-width: 0px 0px 0px 1px; border-style: solid\"><nobr>&nbsp;&nbsp;Authors</nobr></th>\\n<td class=\"td10\" style=\"border-color:#000; border-width: 0px 1px 0px 1px; border-style: solid\"><div style=\"width:555px;overflow-x:auto;overflow-y:hidden\">Iacono M, Villa L, Fortini D, Bordoni R, Imperi F, Bonnal RJ, Sicheritz-Ponten T, De Bellis G, Visca P, Cassone A, Carattoli A.</div></td></tr>\\n\\n\\n<tr><th class=\"th11\" align=\"left\" valign=\"top\" style=\"border-color:#000; border-width: 0px 0px 0px 1px; border-style: solid\"><nobr>&nbsp;&nbsp;Title</nobr></th>\\n<td class=\"td11\" style=\"border-color:#000; border-width: 0px 1px 0px 1px; border-style: solid\"><div style=\"width:555px;overflow-x:auto;overflow-y:hidden\">Whole-genome pyrosequencing of an epidemic multidrug-resistant Acinetobacter baumannii strain belonging to the European clone II group.</div></td></tr>\\n\\n\\n<tr><th class=\"th10\" align=\"left\" valign=\"top\" style=\"border-color:#000; border-width: 0px 0px 0px 1px; border-style: solid\"><nobr>&nbsp;&nbsp;Journal</nobr></th>\\n<td class=\"td10\" style=\"border-color:#000; border-width: 0px 1px 0px 1px; border-style: solid\"><div style=\"width:555px;overflow-x:auto;overflow-y:hidden\">Antimicrob Agents Chemother 52:2616-25 (2008)<br>DOI:<a href=\"https://doi.org/10.1128/AAC.01643-07\">10.1128/AAC.01643-07</a></div></td></tr>\\n\\n</table></td></tr></table>\\n<br></form></td><td valign=\"top\"><div class=\"aw\" style=\"margin-top:0px;\"><div class=\"fm at th10\">&nbsp;&nbsp;All links&nbsp;&nbsp;</div>\\n<div class=\"fm\"><pre class=\"fm\" style=\"margin-left:1em\">\\n<span style=\"color:#006\"><a href=\"/dbget-bin/get_linkdb?-t+1+gn:T00710\">Ontology (39)</a></span>   \\n   <a href=\"/dbget-bin/get_linkdb?-t+brite+gn:T00710\">KEGG BRITE (39)</a>   \\n<span style=\"color:#006\"><a href=\"/dbget-bin/get_linkdb?-t+2+gn:T00710\">Pathway (303)</a></span>   \\n   <a href=\"/dbget-bin/get_linkdb?-t+pathway+gn:T00710\">KEGG PATHWAY (117)</a>   \\n   <a href=\"/dbget-bin/get_linkdb?-t+module+gn:T00710\">KEGG MODULE (186)</a>   \\n<span style=\"color:#006\"><a href=\"/dbget-bin/get_linkdb?-t+4+gn:T00710\">Disease (1)</a></span>   \\n   <a href=\"/dbget-bin/get_linkdb?-t+disease+gn:T00710\">KEGG DISEASE (1)</a>   \\n<span style=\"color:#006\"><a href=\"/dbget-bin/get_linkdb?-t+8+gn:T00710\">Genome (1)</a></span>   \\n   <a href=\"/dbget-bin/get_linkdb?-t+assembly+gn:T00710\">ASSEMBLY (1)</a>   \\n<span style=\"color:#006\"><a href=\"/dbget-bin/get_linkdb?-t+9+gn:T00710\">Gene (5861)</a></span>   \\n   <a href=\"/dbget-bin/get_linkdb?-t+genes+gn:T00710\">KEGG GENES (3845)</a>   \\n   <a href=\"/dbget-bin/get_linkdb?-t+mgenes+gn:T00710\">KEGG MGENES (1340)</a>   \\n   <a href=\"/dbget-bin/get_linkdb?-t+refgene+gn:T00710\">RefGene (676)</a>   \\n<span style=\"color:#006\"><a href=\"/dbget-bin/get_linkdb?-t+11+gn:T00710\">DNA sequence (3)</a></span>   \\n   <a href=\"/dbget-bin/get_linkdb?-t+genbank+gn:T00710\">GenBank (3)</a>   \\n<span style=\"color:#006\"><a href=\"/dbget-bin/get_linkdb?-t+16+gn:T00710\">Literature (1)</a></span>   \\n   <a href=\"/dbget-bin/get_linkdb?-t+pubmed+gn:T00710\">PubMed (1)</a>   \\n<span style=\"color:#006\"><a href=\"/dbget-bin/get_linkdb?-t+17+gn:T00710\">Taxonomy (1)</a></span>   \\n   <a href=\"/dbget-bin/get_linkdb?-t+tax+gn:T00710\">TAX (1)</a>   \\n<a href=\"/dbget-bin/get_linkdb?-t+alldb+gn:T00710\">All databases (6210)</a>   \\n<br><a href=\"/dbget-bin/get_linkdb?-N+gn:T00710\">Download RDF</a>   \\n</pre>\\n</div></div>\\n</td></tr></table></td></tr></table>\\n\\n\\n<a href=\"/dbget/\">DBGET</a> integrated database retrieval system</div>\\n\\n</body>\\n</html>\\n'"
      ]
     },
     "execution_count": 14,
     "metadata": {},
     "output_type": "execute_result"
    }
   ],
   "source": [
    "r = requests.get(uka.ONT_TO_URL[x_analyzer.ontology]+'ABC')\n",
    "r.text"
   ]
  },
  {
   "cell_type": "code",
   "execution_count": 4,
   "id": "26bc333d",
   "metadata": {},
   "outputs": [
    {
     "name": "stdout",
     "output_type": "stream",
     "text": [
      "dict_keys(['BIOMD0000000012', 'cell', 'PX', 'PY', 'PZ', 'X', 'Y', 'Z', 'Reaction1', 'Reaction2', 'Reaction3', 'Reaction4', 'Reaction5', 'Reaction6', 'Reaction7', 'Reaction8', 'Reaction9', 'Reaction10', 'Reaction11', 'Reaction12'])\n",
      "{'go': None, 'sbo': ['SBO:0000252'], 'chebi': None, 'kegg_species': None, 'kegg_process': None, 'uniprot': ['P03023'], 'object_id': 'PX', 'object_type': <class 'libsbml.Species'>}\n",
      "{'go': None, 'sbo': ['SBO:0000252'], 'chebi': None, 'kegg_species': None, 'kegg_process': None, 'uniprot': ['P04483'], 'object_id': 'PY', 'object_type': <class 'libsbml.Species'>}\n",
      "{'go': None, 'sbo': ['SBO:0000252'], 'chebi': None, 'kegg_species': None, 'kegg_process': None, 'uniprot': ['P03034'], 'object_id': 'PZ', 'object_type': <class 'libsbml.Species'>}\n"
     ]
    }
   ],
   "source": [
    "print(k.annotations.keys())\n",
    "for one_k in k.annotations.keys():\n",
    "  one_anot = k.annotations[one_k]['uniprot']\n",
    "  if one_anot:\n",
    "    print(k.annotations[one_k])"
   ]
  },
  {
   "cell_type": "code",
   "execution_count": 10,
   "id": "2700e581",
   "metadata": {},
   "outputs": [
    {
     "data": {
      "text/plain": [
       "{'go': ['GO:0006402'],\n",
       " 'sbo': ['SBO:0000179'],\n",
       " 'chebi': None,\n",
       " 'kegg_species': None,\n",
       " 'kegg_process': None,\n",
       " 'uniprot': None,\n",
       " 'object_id': 'Reaction1',\n",
       " 'object_type': libsbml.Reaction}"
      ]
     },
     "execution_count": 10,
     "metadata": {},
     "output_type": "execute_result"
    }
   ],
   "source": [
    "one_anot = k.annotations['Reaction1']\n",
    "one_anot"
   ]
  },
  {
   "cell_type": "code",
   "execution_count": 6,
   "id": "f34ed384",
   "metadata": {},
   "outputs": [],
   "source": [
    "s = uka.NonDAGAnalyzer(term_id=one_anot['uniprot'], ontology='uniprot',\n",
    "               object_type=one_anot['object_type'])"
   ]
  },
  {
   "cell_type": "code",
   "execution_count": 8,
   "id": "5df4ae2e",
   "metadata": {},
   "outputs": [
    {
     "data": {
      "text/plain": [
       "False"
      ]
     },
     "execution_count": 8,
     "metadata": {},
     "output_type": "execute_result"
    }
   ],
   "source": [
    "s.getConsistency(['P03023', 'ABCDE'])"
   ]
  },
  {
   "cell_type": "code",
   "execution_count": 9,
   "id": "0d5aa726",
   "metadata": {},
   "outputs": [
    {
     "data": {
      "text/plain": [
       "1.0"
      ]
     },
     "execution_count": 9,
     "metadata": {},
     "output_type": "execute_result"
    }
   ],
   "source": [
    "float(1)"
   ]
  },
  {
   "cell_type": "code",
   "execution_count": null,
   "id": "a711ce9c",
   "metadata": {},
   "outputs": [],
   "source": []
  }
 ],
 "metadata": {
  "kernelspec": {
   "display_name": "pyo",
   "language": "python",
   "name": "pyo"
  },
  "language_info": {
   "codemirror_mode": {
    "name": "ipython",
    "version": 3
   },
   "file_extension": ".py",
   "mimetype": "text/x-python",
   "name": "python",
   "nbconvert_exporter": "python",
   "pygments_lexer": "ipython3",
   "version": "3.8.8"
  }
 },
 "nbformat": 4,
 "nbformat_minor": 5
}
