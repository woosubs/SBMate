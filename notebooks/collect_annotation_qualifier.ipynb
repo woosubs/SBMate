{
 "cells": [
  {
   "cell_type": "code",
   "execution_count": 1,
   "id": "e8d91274",
   "metadata": {},
   "outputs": [],
   "source": [
    "# Update sbml_annotation so that specificity is weighted based on qualifier\n",
    "import itertools\n",
    "import libsbml\n",
    "import numpy as np\n",
    "import pandas as pd\n",
    "import os\n",
    "import re\n",
    "import matplotlib.pyplot as plt\n",
    "import sys\n",
    "sys.path.append(os.path.join(os.getcwd(),\"\" '..'))\n",
    "from SBMate import constants as cn\n",
    "from SBMate import sbmate\n",
    "from SBMate import sbml_annotation2 as sa\n",
    "BIOMD_12 = 'BIOMD0000000012.xml'\n",
    "BIOMD_13 = 'BIOMD0000000013.xml'\n",
    "BIOMD_15 = 'BIOMD0000000015.xml'"
   ]
  },
  {
   "cell_type": "code",
   "execution_count": 2,
   "id": "cd7519fa",
   "metadata": {},
   "outputs": [],
   "source": [
    "raw_annotation = sa.RawSBMLAnnotation(BIOMD_12)"
   ]
  },
  {
   "cell_type": "code",
   "execution_count": 3,
   "id": "da7537a5",
   "metadata": {},
   "outputs": [
    {
     "name": "stdout",
     "output_type": "stream",
     "text": [
      "<class 'dict'>\n"
     ]
    }
   ],
   "source": [
    "a = dict()\n",
    "if a:\n",
    "  print(\"a is dict\")\n",
    "print(type(a))"
   ]
  },
  {
   "cell_type": "code",
   "execution_count": 4,
   "id": "b77a9154",
   "metadata": {},
   "outputs": [
    {
     "name": "stdout",
     "output_type": "stream",
     "text": [
      "ObjectAnnotation(id='BIOMD0000000012', object_type=<class 'libsbml.Model'>, annotation={'isVersionOf': ['<bqbiol:isVersionOf>\\n        <rdf:Bag>\\n          <rdf:li rdf:resource=\"http://identifiers.org/obo.go/GO:0040029\"/>\\n        </rdf:Bag>\\n      </bqbiol:isVersionOf>']})\n",
      "\n",
      "ObjectAnnotation(id='cell', object_type=<class 'libsbml.Compartment'>, annotation={'is': ['<bqbiol:is>\\n        <rdf:Bag>\\n          <rdf:li rdf:resource=\"http://identifiers.org/obo.go/GO:0005623\"/>\\n        </rdf:Bag>\\n      </bqbiol:is>']})\n",
      "\n",
      "ObjectAnnotation(id='PX', object_type=<class 'libsbml.Species'>, annotation={'is': ['<bqbiol:is>\\n        <rdf:Bag>\\n          <rdf:li rdf:resource=\"http://identifiers.org/uniprot/P03023\"/>\\n        </rdf:Bag>\\n      </bqbiol:is>']})\n",
      "\n"
     ]
    }
   ],
   "source": [
    "for one_anot in raw_annotation.str_annotation[:3]:\n",
    "    print(one_anot)\n",
    "    print()"
   ]
  },
  {
   "cell_type": "code",
   "execution_count": 5,
   "id": "070b6017",
   "metadata": {},
   "outputs": [],
   "source": [
    "processed_annotation = sa.SBMLAnnotation(BIOMD_12)"
   ]
  },
  {
   "cell_type": "code",
   "execution_count": 9,
   "id": "170682ec",
   "metadata": {},
   "outputs": [
    {
     "data": {
      "text/plain": [
       "{'go': None,\n",
       " 'sbo': ['SBO:0000252'],\n",
       " 'chebi': None,\n",
       " 'kegg_species': None,\n",
       " 'kegg_process': None,\n",
       " 'uniprot': ['P03023'],\n",
       " 'object_id': 'PX',\n",
       " 'object_type': libsbml.Species}"
      ]
     },
     "execution_count": 9,
     "metadata": {},
     "output_type": "execute_result"
    }
   ],
   "source": [
    "processed_annotation.annotations['PX']"
   ]
  },
  {
   "cell_type": "code",
   "execution_count": null,
   "id": "5882b8d8",
   "metadata": {},
   "outputs": [],
   "source": []
  },
  {
   "cell_type": "code",
   "execution_count": null,
   "id": "a129130b",
   "metadata": {},
   "outputs": [],
   "source": []
  },
  {
   "cell_type": "code",
   "execution_count": null,
   "id": "ef02d427",
   "metadata": {},
   "outputs": [],
   "source": []
  },
  {
   "cell_type": "code",
   "execution_count": null,
   "id": "46156a5f",
   "metadata": {},
   "outputs": [],
   "source": []
  },
  {
   "cell_type": "code",
   "execution_count": null,
   "id": "b6e40df1",
   "metadata": {},
   "outputs": [],
   "source": []
  }
 ],
 "metadata": {
  "kernelspec": {
   "display_name": "pyo",
   "language": "python",
   "name": "pyo"
  },
  "language_info": {
   "codemirror_mode": {
    "name": "ipython",
    "version": 3
   },
   "file_extension": ".py",
   "mimetype": "text/x-python",
   "name": "python",
   "nbconvert_exporter": "python",
   "pygments_lexer": "ipython3",
   "version": "3.8.8"
  }
 },
 "nbformat": 4,
 "nbformat_minor": 5
}
