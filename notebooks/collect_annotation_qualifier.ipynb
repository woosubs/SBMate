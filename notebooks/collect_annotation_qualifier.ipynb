{
 "cells": [
  {
   "cell_type": "code",
   "execution_count": 80,
   "id": "985673ff",
   "metadata": {},
   "outputs": [],
   "source": [
    "# Update sbml_annotation so that specificity is weighted based on qualifier\n",
    "import itertools\n",
    "import libsbml\n",
    "import networkx as nx\n",
    "import numpy as np\n",
    "import pandas as pd\n",
    "import os\n",
    "import re\n",
    "import matplotlib.pyplot as plt\n",
    "import sys\n",
    "sys.path.append(os.path.join(os.getcwd(),\"\" '..'))\n",
    "from SBMate import constants as cn\n",
    "from SBMate import metric_calculator as mc\n",
    "from SBMate import sbmate\n",
    "from SBMate import sbml_annotation as sa\n",
    "\n",
    "from SBMate import dag_analyzer as da\n",
    "from SBMate import uniprot_kegg_analyzer as uka\n",
    "BIOMD_12 = 'BIOMD0000000012.xml'\n",
    "BIOMD_13 = 'BIOMD0000000013.xml'\n",
    "BIOMD_15 = 'BIOMD0000000015.xml'\n",
    "BIOMD_970 = 'BIOMD0000000970.xml'"
   ]
  },
  {
   "cell_type": "code",
   "execution_count": 2,
   "id": "494f10af",
   "metadata": {},
   "outputs": [],
   "source": [
    "raw_annotation = sa.RawSBMLAnnotation(BIOMD_12)"
   ]
  },
  {
   "cell_type": "code",
   "execution_count": 3,
   "id": "b6773bb5",
   "metadata": {},
   "outputs": [
    {
     "name": "stdout",
     "output_type": "stream",
     "text": [
      "<class 'dict'>\n"
     ]
    }
   ],
   "source": [
    "a = dict()\n",
    "if a:\n",
    "  print(\"a is dict\")\n",
    "print(type(a))"
   ]
  },
  {
   "cell_type": "code",
   "execution_count": 4,
   "id": "ab6cdfe5",
   "metadata": {},
   "outputs": [
    {
     "name": "stdout",
     "output_type": "stream",
     "text": [
      "ObjectAnnotation(id='BIOMD0000000012', object_type=<class 'libsbml.Model'>, annotation={'isVersionOf': ['<bqbiol:isVersionOf>\\n        <rdf:Bag>\\n          <rdf:li rdf:resource=\"http://identifiers.org/obo.go/GO:0040029\"/>\\n        </rdf:Bag>\\n      </bqbiol:isVersionOf>']})\n",
      "\n",
      "ObjectAnnotation(id='cell', object_type=<class 'libsbml.Compartment'>, annotation={'is': ['<bqbiol:is>\\n        <rdf:Bag>\\n          <rdf:li rdf:resource=\"http://identifiers.org/obo.go/GO:0005623\"/>\\n        </rdf:Bag>\\n      </bqbiol:is>']})\n",
      "\n",
      "ObjectAnnotation(id='PX', object_type=<class 'libsbml.Species'>, annotation={'is': ['<bqbiol:is>\\n        <rdf:Bag>\\n          <rdf:li rdf:resource=\"http://identifiers.org/uniprot/P03023\"/>\\n        </rdf:Bag>\\n      </bqbiol:is>']})\n",
      "\n"
     ]
    }
   ],
   "source": [
    "for one_anot in raw_annotation.str_annotation[:3]:\n",
    "    print(one_anot)\n",
    "    print()"
   ]
  },
  {
   "cell_type": "code",
   "execution_count": 5,
   "id": "5afa83b1",
   "metadata": {},
   "outputs": [],
   "source": [
    "processed_annotation = sa.SBMLAnnotation(BIOMD_12)"
   ]
  },
  {
   "cell_type": "code",
   "execution_count": 6,
   "id": "be81c8a2",
   "metadata": {
    "tags": []
   },
   "outputs": [
    {
     "data": {
      "text/plain": [
       "{'go': None,\n",
       " 'sbo': ['SBO:0000252'],\n",
       " 'chebi': None,\n",
       " 'kegg_species': None,\n",
       " 'kegg_process': None,\n",
       " 'uniprot': ['P03023'],\n",
       " 'object_id': 'PX',\n",
       " 'object_type': libsbml.Species}"
      ]
     },
     "execution_count": 6,
     "metadata": {},
     "output_type": "execute_result"
    }
   ],
   "source": [
    "processed_annotation.annotations['PX']"
   ]
  },
  {
   "cell_type": "markdown",
   "id": "9a0af08a",
   "metadata": {},
   "source": [
    "### Test script (test_sbml_annotation2.py)"
   ]
  },
  {
   "cell_type": "code",
   "execution_count": 7,
   "id": "fbd48d9a",
   "metadata": {},
   "outputs": [],
   "source": [
    "reader = libsbml.SBMLReader()\n",
    "document = reader.readSBML(os.path.join(cn.TEST_DIR, BIOMD_12))\n",
    "sbml_model = document.getModel()\n",
    "raw_sbml_annotation = sa.RawSBMLAnnotation(input_file=os.path.join(cn.TEST_DIR, BIOMD_12))\n",
    "# BIOMD13 is for checking incompelte annotation \n",
    "incomplete_document = reader.readSBML(os.path.join(cn.TEST_DIR, BIOMD_15))\n",
    "incompelte_sbml_model = incomplete_document.getModel()\n",
    "incomplete_raw_sbml_annotation = sa.RawSBMLAnnotation(input_file=os.path.join(cn.TEST_DIR, BIOMD_15))"
   ]
  },
  {
   "cell_type": "code",
   "execution_count": 8,
   "id": "a832657f",
   "metadata": {},
   "outputs": [
    {
     "name": "stdout",
     "output_type": "stream",
     "text": [
      "True\n",
      "True\n",
      "True\n"
     ]
    }
   ],
   "source": [
    "# testGetSBOAnnotation\n",
    "# reaction1_sbo_annotation = raw_sbml_annotation.getSBOAnnotation(sbml_model.getReaction('Reaction1'))\n",
    "# print(reaction1_sbo_annotation.id)\n",
    "# print(reaction1_sbo_annotation.object_type)\n",
    "# print(reaction1_sbo_annotation.annotation)\n",
    "\n",
    "# testGetOntAnnotation\n",
    "reaction1_annotation = raw_sbml_annotation.getOntAnnotation(sbml_model.getReaction('Reaction1'))\n",
    "reaction1_str_annotation = '<bqbiol:isVersionOf>\\n        <rdf:Bag>\\n          <rdf:li rdf:resource=\"http://identifiers.org/obo.go/GO:0006402\"/>\\n        </rdf:Bag>\\n      </bqbiol:isVersionOf>'\n",
    "print(reaction1_annotation[0]=='Reaction1')\n",
    "print(reaction1_annotation[1]==libsbml.Reaction)\n",
    "print(reaction1_annotation[2]['isVersionOf'][0]==reaction1_str_annotation)"
   ]
  },
  {
   "cell_type": "code",
   "execution_count": 9,
   "id": "170b751d",
   "metadata": {},
   "outputs": [
    {
     "name": "stdout",
     "output_type": "stream",
     "text": [
      "True\n",
      "True\n",
      "False\n"
     ]
    }
   ],
   "source": [
    "px_annotation = raw_sbml_annotation.getOntAnnotation(sbml_model.getSpecies('PX'))\n",
    "px_str_annotation = '<bqbiol:is>\\n  <rdf:Bag>\\n    <rdf:li rdf:resource=\"http://identifiers.org/uniprot/P03023\"/>\\n  </rdf:Bag>\\n</bqbiol:is>'\n",
    "print(px_annotation.id=='PX')\n",
    "print(px_annotation.object_type==libsbml.Species)\n",
    "print(px_annotation.annotation['is'][0]==px_str_annotation)"
   ]
  },
  {
   "cell_type": "code",
   "execution_count": 10,
   "id": "4970a242",
   "metadata": {},
   "outputs": [
    {
     "name": "stdout",
     "output_type": "stream",
     "text": [
      "True\n",
      "True\n",
      "True\n"
     ]
    }
   ],
   "source": [
    "no_ont_annotation = incomplete_raw_sbml_annotation.getOntAnnotation(incompelte_sbml_model.getSpecies('ATP'))\n",
    "print(no_ont_annotation.id=='ATP')\n",
    "print(no_ont_annotation.object_type==libsbml.Species)\n",
    "print(no_ont_annotation.annotation=={}) "
   ]
  },
  {
   "cell_type": "code",
   "execution_count": 11,
   "id": "3c13b826",
   "metadata": {},
   "outputs": [],
   "source": [
    "sbml_annotation = sa.SBMLAnnotation(file=os.path.join(cn.TEST_DIR, BIOMD_12))\n",
    "input_annotation = '<bqbiol:isVersionOf>\\n  <rdf:Bag>\\n    <rdf:li rdf:resource=\"http://identifiers.org/obo.go/GO:0006402\"/>\\n  </rdf:Bag>\\n</bqbiol:isVersionOf>'\n",
    "    "
   ]
  },
  {
   "cell_type": "code",
   "execution_count": 12,
   "id": "4b2b8a28",
   "metadata": {},
   "outputs": [],
   "source": [
    "model_annotation = sbml_annotation.getAnnotationDictByQualifier('BIOMD0000000012')"
   ]
  },
  {
   "cell_type": "code",
   "execution_count": 13,
   "id": "ad666f19",
   "metadata": {},
   "outputs": [
    {
     "data": {
      "text/plain": [
       "{'isVersionOf': [('obo.go', 'GO:0040029')],\n",
       " 'object_id': 'BIOMD0000000012',\n",
       " 'object_type': libsbml.Model}"
      ]
     },
     "execution_count": 13,
     "metadata": {},
     "output_type": "execute_result"
    }
   ],
   "source": [
    "model_annotation"
   ]
  },
  {
   "cell_type": "code",
   "execution_count": 14,
   "id": "7390357f",
   "metadata": {},
   "outputs": [
    {
     "data": {
      "text/plain": [
       "{'is': [('uniprot', 'P03023'), ('sbo', 'SBO:0000252')],\n",
       " 'object_id': 'PX',\n",
       " 'object_type': libsbml.Species}"
      ]
     },
     "execution_count": 14,
     "metadata": {},
     "output_type": "execute_result"
    }
   ],
   "source": [
    "px_annotation = sbml_annotation.getAnnotationDictByQualifier('PX')\n",
    "px_annotation"
   ]
  },
  {
   "cell_type": "code",
   "execution_count": 15,
   "id": "2c5fcac9",
   "metadata": {},
   "outputs": [],
   "source": [
    "model_anot_by_ont = sbml_annotation.getAnnotationDictByOntology(model_annotation)\n",
    "px_anot_by_ont = sbml_annotation.getAnnotationDictByOntology(px_annotation)"
   ]
  },
  {
   "cell_type": "code",
   "execution_count": 16,
   "id": "5054c0f8",
   "metadata": {},
   "outputs": [
    {
     "data": {
      "text/plain": [
       "{'go': ['GO:0040029'],\n",
       " 'sbo': None,\n",
       " 'chebi': None,\n",
       " 'kegg_species': None,\n",
       " 'kegg_process': None,\n",
       " 'uniprot': None,\n",
       " 'object_id': 'BIOMD0000000012',\n",
       " 'object_type': libsbml.Model}"
      ]
     },
     "execution_count": 16,
     "metadata": {},
     "output_type": "execute_result"
    }
   ],
   "source": [
    "model_anot_by_ont"
   ]
  },
  {
   "cell_type": "code",
   "execution_count": 17,
   "id": "6c6bef91",
   "metadata": {},
   "outputs": [
    {
     "data": {
      "text/plain": [
       "{'go': None,\n",
       " 'sbo': ['SBO:0000252'],\n",
       " 'chebi': None,\n",
       " 'kegg_species': None,\n",
       " 'kegg_process': None,\n",
       " 'uniprot': ['P03023'],\n",
       " 'object_id': 'PX',\n",
       " 'object_type': libsbml.Species}"
      ]
     },
     "execution_count": 17,
     "metadata": {},
     "output_type": "execute_result"
    }
   ],
   "source": [
    "px_anot_by_ont"
   ]
  },
  {
   "cell_type": "code",
   "execution_count": 18,
   "id": "59ab3078",
   "metadata": {},
   "outputs": [
    {
     "data": {
      "text/plain": [
       "[]"
      ]
     },
     "execution_count": 18,
     "metadata": {},
     "output_type": "execute_result"
    }
   ],
   "source": [
    "sbml_annotation.getKnowledgeResourceTuple('input_annotation')"
   ]
  },
  {
   "cell_type": "markdown",
   "id": "26130e0b",
   "metadata": {},
   "source": [
    "### Work on MetricCalculator"
   ]
  },
  {
   "cell_type": "code",
   "execution_count": 19,
   "id": "1fe82665",
   "metadata": {},
   "outputs": [],
   "source": [
    "metrical = mc.MetricCalculator(annotations=sbml_annotation, model_name='BIOMD0000000012')"
   ]
  },
  {
   "cell_type": "code",
   "execution_count": 20,
   "id": "d0954282",
   "metadata": {},
   "outputs": [
    {
     "data": {
      "text/plain": [
       "<SBMate.metric_calculator.MetricCalculator at 0x7f8dd7aaa760>"
      ]
     },
     "execution_count": 20,
     "metadata": {},
     "output_type": "execute_result"
    }
   ],
   "source": [
    "metrical"
   ]
  },
  {
   "cell_type": "code",
   "execution_count": 21,
   "id": "b11a8bdb",
   "metadata": {},
   "outputs": [],
   "source": [
    "one_annotation = sa.SBMLAnnotation(file=os.path.join(cn.TEST_DIR, BIOMD_12))\n",
    "two_annotation = sa.SBMLAnnotation(file=os.path.join(cn.TEST_DIR, BIOMD_970))\n",
    "calculator = mc.MetricCalculator(annotations=one_annotation, model_name=BIOMD_12)\n",
    "none_calculator = mc.MetricCalculator(annotations=two_annotation, model_name=BIOMD_970)"
   ]
  },
  {
   "cell_type": "code",
   "execution_count": 22,
   "id": "da41c80c",
   "metadata": {},
   "outputs": [
    {
     "name": "stdout",
     "output_type": "stream",
     "text": [
      "True\n"
     ]
    }
   ],
   "source": [
    "metrics_df = calculator.calculate()\n",
    "print(metrics_df.index[0] == BIOMD_12)\n",
    "# self.assertEqual(metrics_df.shape, (1,6))\n",
    "# self.assertEqual(int(metrics_df['annotatable_elements']), 20)\n",
    "# self.assertEqual(int(metrics_df['annotated_elements']), 20)\n",
    "# self.assertEqual(float(metrics_df['coverage']), 1.0)\n",
    "# self.assertEqual(int(metrics_df['consistent_elements']), 19)\n",
    "# self.assertEqual(float(metrics_df['consistency']), 0.95)\n",
    "# self.assertEqual(float(metrics_df['specificity']), 0.88)"
   ]
  },
  {
   "cell_type": "code",
   "execution_count": 23,
   "id": "ac4e3c9a",
   "metadata": {},
   "outputs": [
    {
     "data": {
      "text/html": [
       "<div>\n",
       "<style scoped>\n",
       "    .dataframe tbody tr th:only-of-type {\n",
       "        vertical-align: middle;\n",
       "    }\n",
       "\n",
       "    .dataframe tbody tr th {\n",
       "        vertical-align: top;\n",
       "    }\n",
       "\n",
       "    .dataframe thead th {\n",
       "        text-align: right;\n",
       "    }\n",
       "</style>\n",
       "<table border=\"1\" class=\"dataframe\">\n",
       "  <thead>\n",
       "    <tr style=\"text-align: right;\">\n",
       "      <th></th>\n",
       "      <th>annotatable_elements</th>\n",
       "      <th>annotated_elements</th>\n",
       "      <th>coverage</th>\n",
       "      <th>consistent_elements</th>\n",
       "      <th>consistency</th>\n",
       "      <th>specificity</th>\n",
       "    </tr>\n",
       "  </thead>\n",
       "  <tbody>\n",
       "    <tr>\n",
       "      <th>BIOMD0000000012.xml</th>\n",
       "      <td>20</td>\n",
       "      <td>20</td>\n",
       "      <td>1.0</td>\n",
       "      <td>19</td>\n",
       "      <td>0.95</td>\n",
       "      <td>0.7</td>\n",
       "    </tr>\n",
       "  </tbody>\n",
       "</table>\n",
       "</div>"
      ],
      "text/plain": [
       "                     annotatable_elements  annotated_elements  coverage  \\\n",
       "BIOMD0000000012.xml                    20                  20       1.0   \n",
       "\n",
       "                     consistent_elements  consistency  specificity  \n",
       "BIOMD0000000012.xml                   19         0.95          0.7  "
      ]
     },
     "execution_count": 23,
     "metadata": {},
     "output_type": "execute_result"
    }
   ],
   "source": [
    "metrics_df"
   ]
  },
  {
   "cell_type": "code",
   "execution_count": 31,
   "id": "55f3f38d",
   "metadata": {},
   "outputs": [],
   "source": [
    "# Check that, whether specificity is correct; "
   ]
  },
  {
   "cell_type": "code",
   "execution_count": null,
   "id": "2afa2454",
   "metadata": {},
   "outputs": [],
   "source": []
  },
  {
   "cell_type": "code",
   "execution_count": 29,
   "id": "d87038c2",
   "metadata": {},
   "outputs": [
    {
     "name": "stdout",
     "output_type": "stream",
     "text": [
      "['BIOMD0000000012', 'cell', 'PX', 'PY', 'PZ', 'X', 'Y', 'Z', 'Reaction1', 'Reaction2', 'Reaction3', 'Reaction4', 'Reaction5', 'Reaction6', 'Reaction7', 'Reaction8', 'Reaction9', 'Reaction10', 'Reaction11', 'Reaction12']\n"
     ]
    }
   ],
   "source": [
    "print(list(sbml_annotation.annotations.keys()))"
   ]
  },
  {
   "cell_type": "code",
   "execution_count": 50,
   "id": "49885225",
   "metadata": {},
   "outputs": [
    {
     "data": {
      "text/plain": [
       "{'go': None,\n",
       " 'sbo': ['SBO:0000252'],\n",
       " 'chebi': None,\n",
       " 'kegg_species': None,\n",
       " 'kegg_process': None,\n",
       " 'uniprot': ['P03023'],\n",
       " 'object_id': 'PX',\n",
       " 'object_type': libsbml.Species}"
      ]
     },
     "execution_count": 50,
     "metadata": {},
     "output_type": "execute_result"
    }
   ],
   "source": [
    "metrical.annotations.annotations['PX']"
   ]
  },
  {
   "cell_type": "code",
   "execution_count": 33,
   "id": "d4dd8c15",
   "metadata": {},
   "outputs": [],
   "source": [
    "consistent_entitics, _ = calculator._getConsistency(list(sbml_annotation.annotations.keys()))"
   ]
  },
  {
   "cell_type": "code",
   "execution_count": 35,
   "id": "c1b6c9ee",
   "metadata": {},
   "outputs": [
    {
     "data": {
      "text/plain": [
       "dict_keys(['BIOMD0000000012', 'PX', 'PY', 'PZ', 'X', 'Y', 'Z', 'Reaction1', 'Reaction2', 'Reaction3', 'Reaction4', 'Reaction5', 'Reaction6', 'Reaction7', 'Reaction8', 'Reaction9', 'Reaction10', 'Reaction11', 'Reaction12'])"
      ]
     },
     "execution_count": 35,
     "metadata": {},
     "output_type": "execute_result"
    }
   ],
   "source": [
    "consistent_entitics.keys()"
   ]
  },
  {
   "cell_type": "code",
   "execution_count": 57,
   "id": "6e8b29d2",
   "metadata": {},
   "outputs": [
    {
     "name": "stdout",
     "output_type": "stream",
     "text": [
      "[('BIOMD0000000012', 0.35), ('PX', 1.0), ('PY', 1.0), ('PZ', 1.0), ('X', 0.65), ('Y', 0.65), ('Z', 0.65), ('Reaction1', 0.67), ('Reaction2', 0.67), ('Reaction3', 0.67), ('Reaction4', 0.7), ('Reaction5', 0.7), ('Reaction6', 0.7), ('Reaction7', 0.65), ('Reaction8', 0.65), ('Reaction9', 0.65), ('Reaction10', 0.66), ('Reaction11', 0.66), ('Reaction12', 0.66)]\n"
     ]
    }
   ],
   "source": [
    "anot_key = 'PX'\n",
    "specificities = []\n",
    "for anot_key in consistent_entitics.keys():\n",
    "  one_anot = calculator.annotations.annotations[anot_key]\n",
    "  one_anot_qualifier = calculator.annotations.annotation_by_qualifier[anot_key]\n",
    "  term_qualifier_map = calculator.getQualifierDict(one_anot_qualifier)\n",
    "  one_entity_onts = [mc.ANALYZER_DICT[key](term_id=one_anot[key],\n",
    "                                    ontology=key,\n",
    "                                    object_type=one_anot['object_type'],\n",
    "                                    qualifier_dict=term_qualifier_map) \\\n",
    "                  for key in mc.ANALYZER_DICT if one_anot[key]]\n",
    "  specificities.append((anot_key, calculator._getSpecificity({anot_key: one_entity_onts})))\n",
    "print(specificities)"
   ]
  },
  {
   "cell_type": "code",
   "execution_count": 84,
   "id": "41adf269",
   "metadata": {},
   "outputs": [
    {
     "name": "stdout",
     "output_type": "stream",
     "text": [
      "BIOMD0000000012\n",
      "{'isVersionOf': [('obo.go', 'GO:0040029')], 'object_id': 'BIOMD0000000012', 'object_type': <class 'libsbml.Model'>}\n",
      "PX\n",
      "{'is': [('uniprot', 'P03023'), ('sbo', 'SBO:0000252')], 'object_id': 'PX', 'object_type': <class 'libsbml.Species'>}\n",
      "PY\n",
      "{'is': [('uniprot', 'P04483'), ('sbo', 'SBO:0000252')], 'object_id': 'PY', 'object_type': <class 'libsbml.Species'>}\n",
      "PZ\n",
      "{'is': [('uniprot', 'P03034'), ('sbo', 'SBO:0000252')], 'object_id': 'PZ', 'object_type': <class 'libsbml.Species'>}\n",
      "X\n",
      "{'isVersionOf': [('chebi', 'CHEBI:33699'), ('kegg.compound', 'C00046')], 'is': [('sbo', 'SBO:0000250')], 'object_id': 'X', 'object_type': <class 'libsbml.Species'>}\n",
      "Y\n",
      "{'isVersionOf': [('chebi', 'CHEBI:33699'), ('kegg.compound', 'C00046')], 'is': [('sbo', 'SBO:0000250')], 'object_id': 'Y', 'object_type': <class 'libsbml.Species'>}\n",
      "Z\n",
      "{'isVersionOf': [('chebi', 'CHEBI:33699'), ('kegg.compound', 'C00046')], 'is': [('sbo', 'SBO:0000250')], 'object_id': 'Z', 'object_type': <class 'libsbml.Species'>}\n",
      "Reaction1\n",
      "{'isVersionOf': [('obo.go', 'GO:0006402')], 'is': [('sbo', 'SBO:0000179')], 'object_id': 'Reaction1', 'object_type': <class 'libsbml.Reaction'>}\n",
      "Reaction2\n",
      "{'isVersionOf': [('obo.go', 'GO:0006402')], 'is': [('sbo', 'SBO:0000179')], 'object_id': 'Reaction2', 'object_type': <class 'libsbml.Reaction'>}\n",
      "Reaction3\n",
      "{'isVersionOf': [('obo.go', 'GO:0006402')], 'is': [('sbo', 'SBO:0000179')], 'object_id': 'Reaction3', 'object_type': <class 'libsbml.Reaction'>}\n",
      "Reaction4\n",
      "{'isVersionOf': [('obo.go', 'GO:0006412')], 'is': [('sbo', 'SBO:0000184')], 'object_id': 'Reaction4', 'object_type': <class 'libsbml.Reaction'>}\n",
      "Reaction5\n",
      "{'isVersionOf': [('obo.go', 'GO:0006412')], 'is': [('sbo', 'SBO:0000184')], 'object_id': 'Reaction5', 'object_type': <class 'libsbml.Reaction'>}\n",
      "Reaction6\n",
      "{'isVersionOf': [('obo.go', 'GO:0006412')], 'is': [('sbo', 'SBO:0000184')], 'object_id': 'Reaction6', 'object_type': <class 'libsbml.Reaction'>}\n",
      "Reaction7\n",
      "{'isVersionOf': [('obo.go', 'GO:0030163')], 'is': [('sbo', 'SBO:0000179')], 'object_id': 'Reaction7', 'object_type': <class 'libsbml.Reaction'>}\n",
      "Reaction8\n",
      "{'isVersionOf': [('obo.go', 'GO:0030163')], 'is': [('sbo', 'SBO:0000179')], 'object_id': 'Reaction8', 'object_type': <class 'libsbml.Reaction'>}\n",
      "Reaction9\n",
      "{'isVersionOf': [('obo.go', 'GO:0030163')], 'is': [('sbo', 'SBO:0000179')], 'object_id': 'Reaction9', 'object_type': <class 'libsbml.Reaction'>}\n",
      "Reaction10\n",
      "{'isVersionOf': [('obo.go', 'GO:0006351')], 'is': [('sbo', 'SBO:0000183')], 'object_id': 'Reaction10', 'object_type': <class 'libsbml.Reaction'>}\n",
      "Reaction11\n",
      "{'isVersionOf': [('obo.go', 'GO:0006351')], 'is': [('sbo', 'SBO:0000183')], 'object_id': 'Reaction11', 'object_type': <class 'libsbml.Reaction'>}\n",
      "Reaction12\n",
      "{'isVersionOf': [('obo.go', 'GO:0006351')], 'is': [('sbo', 'SBO:0000183')], 'object_id': 'Reaction12', 'object_type': <class 'libsbml.Reaction'>}\n"
     ]
    }
   ],
   "source": [
    "for anot_key in consistent_entitics.keys():\n",
    "  print(anot_key)\n",
    "  print(calculator.annotations.annotation_by_qualifier[anot_key])"
   ]
  },
  {
   "cell_type": "code",
   "execution_count": 65,
   "id": "891b15d9",
   "metadata": {},
   "outputs": [
    {
     "data": {
      "text/plain": [
       "[<SBMate.dag_analyzer.DAGAnalyzer at 0x7f8dc7ff48b0>,\n",
       " <SBMate.dag_analyzer.DAGAnalyzer at 0x7f8dc7ff49a0>,\n",
       " <SBMate.uniprot_kegg_analyzer.NonDAGAnalyzer at 0x7f8dc7ff4880>]"
      ]
     },
     "execution_count": 65,
     "metadata": {},
     "output_type": "execute_result"
    }
   ],
   "source": [
    "anot_key = 'X'\n",
    "one_anot = calculator.annotations.annotations[anot_key]\n",
    "one_anot_qualifier = calculator.annotations.annotation_by_qualifier[anot_key]\n",
    "term_qualifier_map = calculator.getQualifierDict(one_anot_qualifier)\n",
    "one_entity_onts = [mc.ANALYZER_DICT[key](term_id=one_anot[key],\n",
    "                                    ontology=key,\n",
    "                                    object_type=one_anot['object_type'],\n",
    "                                    qualifier_dict=term_qualifier_map) \\\n",
    "                  for key in mc.ANALYZER_DICT if one_anot[key]]\n",
    "one_entity_onts"
   ]
  },
  {
   "cell_type": "code",
   "execution_count": 66,
   "id": "53e18ada",
   "metadata": {},
   "outputs": [
    {
     "data": {
      "text/plain": [
       "{'SBO:0000250': 'is', 'CHEBI:33699': 'isVersionOf', 'C00046': 'isVersionOf'}"
      ]
     },
     "execution_count": 66,
     "metadata": {},
     "output_type": "execute_result"
    }
   ],
   "source": [
    "term_qualifier_map"
   ]
  },
  {
   "cell_type": "code",
   "execution_count": 76,
   "id": "b973f96b",
   "metadata": {},
   "outputs": [
    {
     "name": "stdout",
     "output_type": "stream",
     "text": [
      "1.0\n",
      "1.0\n",
      "0.8829901743817397\n",
      "0.44149508719086983\n",
      "0.5\n"
     ]
    }
   ],
   "source": [
    "one_sub_ent_onts = one_entity_onts[0]\n",
    "one_sub_ent_onts.consistent\n",
    "print(one_sub_ent_onts.getOneTermSpecificity('SBO:0000250'))\n",
    "print(one_sub_ent_onts.getSpecificity(['SBO:0000250']))\n",
    "\n",
    "\n",
    "one_sub_ent_onts = one_entity_onts[1]\n",
    "one_sub_ent_onts.consistent\n",
    "print(one_sub_ent_onts.getOneTermSpecificity('CHEBI:33699'))\n",
    "print(one_sub_ent_onts.getSpecificity(['CHEBI:33699']))\n",
    "\n",
    "one_sub_ent_onts = one_entity_onts[2]\n",
    "one_sub_ent_onts.consistent\n",
    "print(one_sub_ent_onts.getSpecificity(['C00046']))"
   ]
  },
  {
   "cell_type": "code",
   "execution_count": 79,
   "id": "a73255eb",
   "metadata": {},
   "outputs": [
    {
     "data": {
      "text/plain": [
       "0.6466666666666666"
      ]
     },
     "execution_count": 79,
     "metadata": {},
     "output_type": "execute_result"
    }
   ],
   "source": [
    "np.mean([1, 0.5, 0.44])"
   ]
  },
  {
   "cell_type": "code",
   "execution_count": null,
   "id": "47e68abc",
   "metadata": {},
   "outputs": [],
   "source": [
    "# Testing Analyzers, using the new Specificity rule. "
   ]
  },
  {
   "cell_type": "code",
   "execution_count": 98,
   "id": "9695b84d",
   "metadata": {},
   "outputs": [
    {
     "name": "stdout",
     "output_type": "stream",
     "text": [
      "True\n",
      "True\n",
      "True\n",
      "Calculate consistency first!\n",
      "True\n"
     ]
    }
   ],
   "source": [
    "# DAG analyzer\n",
    "sbml_annotation = sa.SBMLAnnotation(file=os.path.join(cn.TEST_DIR, BIOMD_12))\n",
    "reaction1_annotation = sbml_annotation.annotations['Reaction1']\n",
    "reaction1_analyzer = da.DAGAnalyzer(term_id=['GO:0006402'],\n",
    "                                         ontology='go',\n",
    "                                         object_type=libsbml.Reaction,\n",
    "                                         qualifier_dict={'GO:0006402': 'isVersionOf'})\n",
    "\n",
    "# def testFindRoot(self):\n",
    "# print(reaction1_analyzer.findRoot(inp_term='GO:0006402') == 'GO:0008150')\n",
    "# print(reaction1_analyzer.findRoot(inp_term='SBO:000123') == None)\n",
    "\n",
    "# def testGetConsistency(self):\n",
    "# print(reaction1_analyzer.getConsistency(inp_term=1.0))\n",
    "# print(reaction1_analyzer.getConsistency(inp_term=['GO:0006402', 1]))\n",
    "# print(reaction1_analyzer.getConsistency(inp_term=['GO:0006402']))\n",
    "# print(reaction1_analyzer.getConsistency(inp_term=['GO:0110165']))\n",
    "\n",
    "# def testGetOneTermSpecificity(self):\n",
    "# dummy_analyzer = da.DAGAnalyzer(term_id=['SBO:0006402'],\n",
    "#                                 ontology='go',\n",
    "#                                 object_type=libsbml.Reaction,\n",
    "#                                 qualifier_dict={'SBO:0006402': 'is'})\n",
    "# # should return None if term is inconsistent\n",
    "# print(dummy_analyzer.getOneTermSpecificity('SBO:0006402') == None)\n",
    "# print(np.round(reaction1_analyzer.getOneTermSpecificity('GO:0006402'), 2) == 0.67)\n",
    "\n",
    "# def testGetSpecificity(self):\n",
    "dummy_analyzer1 = da.DAGAnalyzer(term_id=['SBO:0006402'],\n",
    "                                 ontology='go',\n",
    "                                 object_type=libsbml.Reaction,\n",
    "                                qualifier_dict={'SBO:0006402': 'is'})\n",
    "dummy_analyzer2 = da.DAGAnalyzer(term_id=['GO:0006402'],\n",
    "                                 ontology='go',\n",
    "                                 object_type=libsbml.Reaction,\n",
    "                                qualifier_dict={'GO:0006402': 'isVersionOf'})\n",
    "# should return None if term is inconsistent\n",
    "print(dummy_analyzer1.getSpecificity(['SBO:0006402']) == None)\n",
    "print(np.round(dummy_analyzer2.getSpecificity('GO:0006402'), 2) == 0.34)\n",
    "print(np.round(dummy_analyzer2.getSpecificity(['GO:0006402']), 2) == 0.34)\n",
    "print(dummy_analyzer2.getSpecificity(['GO:0006402', 'SBO:12345'])== None)"
   ]
  },
  {
   "cell_type": "code",
   "execution_count": 105,
   "id": "93809afc",
   "metadata": {},
   "outputs": [
    {
     "name": "stdout",
     "output_type": "stream",
     "text": [
      "None None\n",
      "0.5 1.0\n",
      "1.0 1.0\n"
     ]
    }
   ],
   "source": [
    "# Non-DAG analyzer\n",
    "biomd12 = sa.SBMLAnnotation(file=os.path.join(cn.TEST_DIR, BIOMD_12))\n",
    "px_annotation = biomd12.annotations['PX']\n",
    "px_analyzer = uka.NonDAGAnalyzer(term_id=['P03023'],\n",
    "                                 ontology='uniprot',\n",
    "                                 object_type=libsbml.Species,\n",
    "                                 qualifier_dict={'P03023': 'is'})\n",
    "x_annotation = biomd12.annotations['X']\n",
    "x_analyzer = uka.NonDAGAnalyzer(term_id=['C00046'],\n",
    "                                ontology='kegg_species',\n",
    "                                object_type=libsbml.Species,\n",
    "                                qualifier_dict={'C00046': 'isVersionOf'})\n",
    "\n",
    "\n",
    "#   def testGetOneTermConsistency(self):\n",
    "# print(x_analyzer.getOneTermConsistency('C00046'))\n",
    "# print(x_analyzer.getOneTermConsistency('GO:12345'))\n",
    "# print(px_analyzer.getOneTermConsistency('P03023'))\n",
    "# print(px_analyzer.getOneTermConsistency('GO:12345'))  \n",
    "\n",
    "#   def testGetConsistency(self):\n",
    "# print(x_analyzer.getConsistency(1.0))\n",
    "# print(x_analyzer.getConsistency('GO:ABC'))\n",
    "# print(x_analyzer.getConsistency(['C00046']))\n",
    "# print(x_analyzer.getConsistency(['C00046', 1.0]))\n",
    "# print(x_analyzer.getConsistency(['C00046', 'GO:ABC']))\n",
    "\n",
    "#   def testGetSpecificity(self):\n",
    "wrong_analyzer = uka.NonDAGAnalyzer(term_id=['GO:12345'],\n",
    "                                    ontology='kegg_species',\n",
    "                                    object_type=libsbml.Species,\n",
    "                                    qualifier_dict={'GO:12345': 'is'})\n",
    "print(wrong_analyzer.getSpecificity('GO:12345'), None)\n",
    "print(x_analyzer.getSpecificity(['C00046']), 1.0)\n",
    "print(px_analyzer.getSpecificity(['P03023']), 1.0)"
   ]
  },
  {
   "cell_type": "code",
   "execution_count": 115,
   "id": "e783a6bd",
   "metadata": {},
   "outputs": [
    {
     "name": "stdout",
     "output_type": "stream",
     "text": [
      "0.7 0.88\n",
      "None None\n"
     ]
    }
   ],
   "source": [
    "# Test for metric_calculator\n",
    "one_annotation = sa.SBMLAnnotation(file=os.path.join(cn.TEST_DIR, BIOMD_12))\n",
    "two_annotation = sa.SBMLAnnotation(file=os.path.join(cn.TEST_DIR, BIOMD_970))\n",
    "calculator = mc.MetricCalculator(annotations=one_annotation, model_name=BIOMD_12)\n",
    "none_calculator = mc.MetricCalculator(annotations=two_annotation, model_name=BIOMD_970)\n",
    "\n",
    "# def testCalculate(self):\n",
    "# metrics_df = calculator.calculate()\n",
    "# print(metrics_df.index[0], BIOMD_12)\n",
    "# print(metrics_df.shape, (1,6))\n",
    "# print(int(metrics_df['annotatable_elements']), 20)\n",
    "# print(int(metrics_df['annotated_elements']), 20)\n",
    "# print(float(metrics_df['coverage']), 1.0)\n",
    "# print(int(metrics_df['consistent_elements']), 19)\n",
    "# print(float(metrics_df['consistency']), 0.95)\n",
    "# print(float(metrics_df['specificity']), 0.70)\n",
    "# print(float(metrics_df['specificity']) == 0.70)\n",
    "# #\n",
    "# non_metrics_df = none_calculator.calculate()\n",
    "# print(non_metrics_df.index[0], BIOMD_970)\n",
    "# print(non_metrics_df.shape, (1,6))\n",
    "# print(int(non_metrics_df['annotatable_elements']), 10)\n",
    "# print(non_metrics_df['annotated_elements'][0], None)\n",
    "# print(float(non_metrics_df['coverage']), 0.0)\n",
    "# print(non_metrics_df['consistent_elements'][0], None)\n",
    "# print(non_metrics_df['consistency'][0], None)\n",
    "# print(non_metrics_df['specificity'][0], None)\n",
    "\n",
    "# def testMkDataframe(self):\n",
    "# df = calculator.mkDataframe({'one_val': 10})\n",
    "# print(df.shape, (1,1))\n",
    "# print(df.index[0], BIOMD_12)\n",
    "# print(int(df['one_val']), 10)\n",
    "\n",
    "# def testGetCoverage(self):\n",
    "# annotated_entities, coverage = calculator._getCoverage()\n",
    "# print(len(annotated_entities), 20)\n",
    "# print(coverage, 1.0)\n",
    "# print(set(annotated_entities) == set(one_annotation.annotations.keys()))\n",
    "# #\n",
    "# none_annotated_entities, none_coverage = none_calculator._getCoverage()\n",
    "# print(none_annotated_entities, [])\n",
    "# print(none_coverage, 0.0)\n",
    "\n",
    "# def testGetConsistency(self):\n",
    "# annotated_entities, coverage = calculator._getCoverage()\n",
    "# consistent_entities, consistency = calculator._getConsistency(annotated_entities)\n",
    "# print(len(consistent_entities), 19)\n",
    "# print(consistency, 0.95)\n",
    "# print('cell' in set(consistent_entities))\n",
    "# #\n",
    "# none_annotated_entities, none_coverage = none_calculator._getCoverage()\n",
    "# none_consistent_entities, none_consistency = none_calculator._getConsistency(none_annotated_entities)\n",
    "# print(none_consistent_entities, None)\n",
    "# print(none_consistency, None)\n",
    "\n",
    "# def testGetSpecificity(self):\n",
    "annotated_entities, coverage = calculator._getCoverage()\n",
    "consistent_entities, consistency = calculator._getConsistency(annotated_entities)\n",
    "specificity = calculator._getSpecificity(consistent_entities) \n",
    "print(specificity, 0.88)\n",
    "#\n",
    "none_annotated_entities, none_coverage = none_calculator._getCoverage()\n",
    "none_consistent_entities, none_consistency = none_calculator._getConsistency(none_annotated_entities)\n",
    "none_specificity = none_calculator._getSpecificity(none_consistent_entities)\n",
    "print(none_specificity, None)"
   ]
  },
  {
   "cell_type": "code",
   "execution_count": null,
   "id": "8205df4c",
   "metadata": {},
   "outputs": [],
   "source": []
  },
  {
   "cell_type": "code",
   "execution_count": null,
   "id": "eadf4705",
   "metadata": {},
   "outputs": [],
   "source": []
  }
 ],
 "metadata": {
  "kernelspec": {
   "display_name": "pyo",
   "language": "python",
   "name": "pyo"
  },
  "language_info": {
   "codemirror_mode": {
    "name": "ipython",
    "version": 3
   },
   "file_extension": ".py",
   "mimetype": "text/x-python",
   "name": "python",
   "nbconvert_exporter": "python",
   "pygments_lexer": "ipython3",
   "version": "3.8.8"
  }
 },
 "nbformat": 4,
 "nbformat_minor": 5
}
