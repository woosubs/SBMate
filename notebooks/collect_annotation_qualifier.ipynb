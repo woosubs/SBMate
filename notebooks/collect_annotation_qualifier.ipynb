{
 "cells": [
  {
   "cell_type": "code",
   "execution_count": 1,
   "id": "e22b01c7",
   "metadata": {},
   "outputs": [],
   "source": [
    "# Update sbml_annotation so that specificity is weighted based on qualifier\n",
    "import itertools\n",
    "import libsbml\n",
    "import numpy as np\n",
    "import pandas as pd\n",
    "import os\n",
    "import re\n",
    "import matplotlib.pyplot as plt\n",
    "import sys\n",
    "sys.path.append(os.path.join(os.getcwd(),\"\" '..'))\n",
    "from SBMate import constants as cn\n",
    "from SBMate import sbmate\n",
    "from SBMate import sbml_annotation2 as sa\n",
    "BIOMD_12 = 'BIOMD0000000012.xml'\n",
    "BIOMD_13 = 'BIOMD0000000013.xml'\n",
    "BIOMD_15 = 'BIOMD0000000015.xml'"
   ]
  },
  {
   "cell_type": "code",
   "execution_count": 2,
   "id": "6c723776",
   "metadata": {},
   "outputs": [],
   "source": [
    "raw_annotation = sa.RawSBMLAnnotation(BIOMD_12)"
   ]
  },
  {
   "cell_type": "code",
   "execution_count": 3,
   "id": "c5dfc530",
   "metadata": {},
   "outputs": [
    {
     "name": "stdout",
     "output_type": "stream",
     "text": [
      "<class 'dict'>\n"
     ]
    }
   ],
   "source": [
    "a = dict()\n",
    "if a:\n",
    "  print(\"a is dict\")\n",
    "print(type(a))"
   ]
  },
  {
   "cell_type": "code",
   "execution_count": 4,
   "id": "e4293da4",
   "metadata": {},
   "outputs": [
    {
     "name": "stdout",
     "output_type": "stream",
     "text": [
      "ObjectAnnotation(id='BIOMD0000000012', object_type=<class 'libsbml.Model'>, annotation={'isVersionOf': ['<bqbiol:isVersionOf>\\n        <rdf:Bag>\\n          <rdf:li rdf:resource=\"http://identifiers.org/obo.go/GO:0040029\"/>\\n        </rdf:Bag>\\n      </bqbiol:isVersionOf>']})\n",
      "\n",
      "ObjectAnnotation(id='cell', object_type=<class 'libsbml.Compartment'>, annotation={'is': ['<bqbiol:is>\\n        <rdf:Bag>\\n          <rdf:li rdf:resource=\"http://identifiers.org/obo.go/GO:0005623\"/>\\n        </rdf:Bag>\\n      </bqbiol:is>']})\n",
      "\n",
      "ObjectAnnotation(id='PX', object_type=<class 'libsbml.Species'>, annotation={'is': ['<bqbiol:is>\\n        <rdf:Bag>\\n          <rdf:li rdf:resource=\"http://identifiers.org/uniprot/P03023\"/>\\n        </rdf:Bag>\\n      </bqbiol:is>']})\n",
      "\n"
     ]
    }
   ],
   "source": [
    "for one_anot in raw_annotation.str_annotation[:3]:\n",
    "    print(one_anot)\n",
    "    print()"
   ]
  },
  {
   "cell_type": "code",
   "execution_count": 5,
   "id": "50dc14a6",
   "metadata": {},
   "outputs": [],
   "source": [
    "processed_annotation = sa.SBMLAnnotation(BIOMD_12)"
   ]
  },
  {
   "cell_type": "code",
   "execution_count": 6,
   "id": "5549f671",
   "metadata": {
    "tags": []
   },
   "outputs": [
    {
     "data": {
      "text/plain": [
       "{'go': None,\n",
       " 'sbo': ['SBO:0000252'],\n",
       " 'chebi': None,\n",
       " 'kegg_species': None,\n",
       " 'kegg_process': None,\n",
       " 'uniprot': ['P03023'],\n",
       " 'object_id': 'PX',\n",
       " 'object_type': libsbml.Species}"
      ]
     },
     "execution_count": 6,
     "metadata": {},
     "output_type": "execute_result"
    }
   ],
   "source": [
    "processed_annotation.annotations['PX']"
   ]
  },
  {
   "cell_type": "markdown",
   "id": "e67ed0d5",
   "metadata": {},
   "source": [
    "### Test script (test_sbml_annotation2.py)"
   ]
  },
  {
   "cell_type": "code",
   "execution_count": 7,
   "id": "1127f98b",
   "metadata": {},
   "outputs": [],
   "source": [
    "reader = libsbml.SBMLReader()\n",
    "document = reader.readSBML(os.path.join(cn.TEST_DIR, BIOMD_12))\n",
    "sbml_model = document.getModel()\n",
    "raw_sbml_annotation = sa.RawSBMLAnnotation(input_file=os.path.join(cn.TEST_DIR, BIOMD_12))\n",
    "# BIOMD13 is for checking incompelte annotation \n",
    "incomplete_document = reader.readSBML(os.path.join(cn.TEST_DIR, BIOMD_15))\n",
    "incompelte_sbml_model = incomplete_document.getModel()\n",
    "incomplete_raw_sbml_annotation = sa.RawSBMLAnnotation(input_file=os.path.join(cn.TEST_DIR, BIOMD_15))"
   ]
  },
  {
   "cell_type": "code",
   "execution_count": 8,
   "id": "3a3b6c1d",
   "metadata": {},
   "outputs": [
    {
     "name": "stdout",
     "output_type": "stream",
     "text": [
      "True\n",
      "True\n",
      "True\n"
     ]
    }
   ],
   "source": [
    "# testGetSBOAnnotation\n",
    "# reaction1_sbo_annotation = raw_sbml_annotation.getSBOAnnotation(sbml_model.getReaction('Reaction1'))\n",
    "# print(reaction1_sbo_annotation.id)\n",
    "# print(reaction1_sbo_annotation.object_type)\n",
    "# print(reaction1_sbo_annotation.annotation)\n",
    "\n",
    "# testGetOntAnnotation\n",
    "reaction1_annotation = raw_sbml_annotation.getOntAnnotation(sbml_model.getReaction('Reaction1'))\n",
    "reaction1_str_annotation = '<bqbiol:isVersionOf>\\n        <rdf:Bag>\\n          <rdf:li rdf:resource=\"http://identifiers.org/obo.go/GO:0006402\"/>\\n        </rdf:Bag>\\n      </bqbiol:isVersionOf>'\n",
    "print(reaction1_annotation[0]=='Reaction1')\n",
    "print(reaction1_annotation[1]==libsbml.Reaction)\n",
    "print(reaction1_annotation[2]['isVersionOf'][0]==reaction1_str_annotation)"
   ]
  },
  {
   "cell_type": "code",
   "execution_count": 9,
   "id": "5f9168cf",
   "metadata": {},
   "outputs": [
    {
     "name": "stdout",
     "output_type": "stream",
     "text": [
      "True\n",
      "True\n",
      "False\n"
     ]
    }
   ],
   "source": [
    "px_annotation = raw_sbml_annotation.getOntAnnotation(sbml_model.getSpecies('PX'))\n",
    "px_str_annotation = '<bqbiol:is>\\n  <rdf:Bag>\\n    <rdf:li rdf:resource=\"http://identifiers.org/uniprot/P03023\"/>\\n  </rdf:Bag>\\n</bqbiol:is>'\n",
    "print(px_annotation.id=='PX')\n",
    "print(px_annotation.object_type==libsbml.Species)\n",
    "print(px_annotation.annotation['is'][0]==px_str_annotation)"
   ]
  },
  {
   "cell_type": "code",
   "execution_count": 10,
   "id": "f120f401",
   "metadata": {},
   "outputs": [
    {
     "name": "stdout",
     "output_type": "stream",
     "text": [
      "True\n",
      "True\n",
      "True\n"
     ]
    }
   ],
   "source": [
    "no_ont_annotation = incomplete_raw_sbml_annotation.getOntAnnotation(incompelte_sbml_model.getSpecies('ATP'))\n",
    "print(no_ont_annotation.id=='ATP')\n",
    "print(no_ont_annotation.object_type==libsbml.Species)\n",
    "print(no_ont_annotation.annotation=={}) "
   ]
  },
  {
   "cell_type": "code",
   "execution_count": 11,
   "id": "e438c67a",
   "metadata": {},
   "outputs": [],
   "source": [
    "sbml_annotation = sa.SBMLAnnotation(file=os.path.join(cn.TEST_DIR, BIOMD_12))\n",
    "input_annotation = '<bqbiol:isVersionOf>\\n  <rdf:Bag>\\n    <rdf:li rdf:resource=\"http://identifiers.org/obo.go/GO:0006402\"/>\\n  </rdf:Bag>\\n</bqbiol:isVersionOf>'\n",
    "    "
   ]
  },
  {
   "cell_type": "code",
   "execution_count": 13,
   "id": "479292b7",
   "metadata": {},
   "outputs": [],
   "source": [
    "model_annotation = sbml_annotation.getAnnotationDictByQualifier('BIOMD0000000012')"
   ]
  },
  {
   "cell_type": "code",
   "execution_count": 14,
   "id": "e4f0e8ea",
   "metadata": {},
   "outputs": [
    {
     "data": {
      "text/plain": [
       "{'isVersionOf': [('obo.go', 'GO:0040029')],\n",
       " 'object_id': 'BIOMD0000000012',\n",
       " 'object_type': libsbml.Model}"
      ]
     },
     "execution_count": 14,
     "metadata": {},
     "output_type": "execute_result"
    }
   ],
   "source": [
    "model_annotation"
   ]
  },
  {
   "cell_type": "code",
   "execution_count": 17,
   "id": "d04aa51b",
   "metadata": {},
   "outputs": [
    {
     "data": {
      "text/plain": [
       "{'is': [('uniprot', 'P03023'), ('sbo', 'SBO:0000252')],\n",
       " 'object_id': 'PX',\n",
       " 'object_type': libsbml.Species}"
      ]
     },
     "execution_count": 17,
     "metadata": {},
     "output_type": "execute_result"
    }
   ],
   "source": [
    "px_annotation = sbml_annotation.getAnnotationDictByQualifier('PX')\n",
    "px_annotation"
   ]
  },
  {
   "cell_type": "code",
   "execution_count": 19,
   "id": "5f59a9e7",
   "metadata": {},
   "outputs": [],
   "source": [
    "model_anot_by_ont = sbml_annotation.getAnnotationDictByOntology(model_annotation)\n",
    "px_anot_by_ont = sbml_annotation.getAnnotationDictByOntology(px_annotation)"
   ]
  },
  {
   "cell_type": "code",
   "execution_count": 20,
   "id": "955da82f",
   "metadata": {},
   "outputs": [
    {
     "data": {
      "text/plain": [
       "{'go': ['GO:0040029'],\n",
       " 'sbo': None,\n",
       " 'chebi': None,\n",
       " 'kegg_species': None,\n",
       " 'kegg_process': None,\n",
       " 'uniprot': None,\n",
       " 'object_id': 'BIOMD0000000012',\n",
       " 'object_type': libsbml.Model}"
      ]
     },
     "execution_count": 20,
     "metadata": {},
     "output_type": "execute_result"
    }
   ],
   "source": [
    "model_anot_by_ont"
   ]
  },
  {
   "cell_type": "code",
   "execution_count": 21,
   "id": "4ce60769",
   "metadata": {},
   "outputs": [
    {
     "data": {
      "text/plain": [
       "{'go': None,\n",
       " 'sbo': ['SBO:0000252'],\n",
       " 'chebi': None,\n",
       " 'kegg_species': None,\n",
       " 'kegg_process': None,\n",
       " 'uniprot': ['P03023'],\n",
       " 'object_id': 'PX',\n",
       " 'object_type': libsbml.Species}"
      ]
     },
     "execution_count": 21,
     "metadata": {},
     "output_type": "execute_result"
    }
   ],
   "source": [
    "px_anot_by_ont"
   ]
  },
  {
   "cell_type": "code",
   "execution_count": 22,
   "id": "88b4c4f3",
   "metadata": {},
   "outputs": [
    {
     "data": {
      "text/plain": [
       "[('obo.go', 'GO:0006402')]"
      ]
     },
     "execution_count": 22,
     "metadata": {},
     "output_type": "execute_result"
    }
   ],
   "source": [
    "sbml_annotation.getKnowledgeResourceTuple(input_annotation)"
   ]
  },
  {
   "cell_type": "code",
   "execution_count": null,
   "id": "71564a2f",
   "metadata": {},
   "outputs": [],
   "source": []
  }
 ],
 "metadata": {
  "kernelspec": {
   "display_name": "pyo",
   "language": "python",
   "name": "pyo"
  },
  "language_info": {
   "codemirror_mode": {
    "name": "ipython",
    "version": 3
   },
   "file_extension": ".py",
   "mimetype": "text/x-python",
   "name": "python",
   "nbconvert_exporter": "python",
   "pygments_lexer": "ipython3",
   "version": "3.8.8"
  }
 },
 "nbformat": 4,
 "nbformat_minor": 5
}
