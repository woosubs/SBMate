{
 "cells": [
  {
   "cell_type": "code",
   "execution_count": 80,
   "id": "b5caeb06",
   "metadata": {},
   "outputs": [],
   "source": [
    "# Update sbml_annotation so that specificity is weighted based on qualifier\n",
    "import itertools\n",
    "import libsbml\n",
    "import networkx as nx\n",
    "import numpy as np\n",
    "import pandas as pd\n",
    "import os\n",
    "import re\n",
    "import matplotlib.pyplot as plt\n",
    "import sys\n",
    "sys.path.append(os.path.join(os.getcwd(),\"\" '..'))\n",
    "from SBMate import constants as cn\n",
    "from SBMate import metric_calculator as mc\n",
    "from SBMate import sbmate\n",
    "from SBMate import sbml_annotation as sa\n",
    "\n",
    "from SBMate import dag_analyzer as da\n",
    "from SBMate import uniprot_kegg_analyzer as uka\n",
    "BIOMD_12 = 'BIOMD0000000012.xml'\n",
    "BIOMD_13 = 'BIOMD0000000013.xml'\n",
    "BIOMD_15 = 'BIOMD0000000015.xml'\n",
    "BIOMD_970 = 'BIOMD0000000970.xml'"
   ]
  },
  {
   "cell_type": "code",
   "execution_count": 2,
   "id": "80fb0d9f",
   "metadata": {},
   "outputs": [],
   "source": [
    "raw_annotation = sa.RawSBMLAnnotation(BIOMD_12)"
   ]
  },
  {
   "cell_type": "code",
   "execution_count": 3,
   "id": "a58b7508",
   "metadata": {},
   "outputs": [
    {
     "name": "stdout",
     "output_type": "stream",
     "text": [
      "<class 'dict'>\n"
     ]
    }
   ],
   "source": [
    "a = dict()\n",
    "if a:\n",
    "  print(\"a is dict\")\n",
    "print(type(a))"
   ]
  },
  {
   "cell_type": "code",
   "execution_count": 4,
   "id": "ade23c42",
   "metadata": {},
   "outputs": [
    {
     "name": "stdout",
     "output_type": "stream",
     "text": [
      "ObjectAnnotation(id='BIOMD0000000012', object_type=<class 'libsbml.Model'>, annotation={'isVersionOf': ['<bqbiol:isVersionOf>\\n        <rdf:Bag>\\n          <rdf:li rdf:resource=\"http://identifiers.org/obo.go/GO:0040029\"/>\\n        </rdf:Bag>\\n      </bqbiol:isVersionOf>']})\n",
      "\n",
      "ObjectAnnotation(id='cell', object_type=<class 'libsbml.Compartment'>, annotation={'is': ['<bqbiol:is>\\n        <rdf:Bag>\\n          <rdf:li rdf:resource=\"http://identifiers.org/obo.go/GO:0005623\"/>\\n        </rdf:Bag>\\n      </bqbiol:is>']})\n",
      "\n",
      "ObjectAnnotation(id='PX', object_type=<class 'libsbml.Species'>, annotation={'is': ['<bqbiol:is>\\n        <rdf:Bag>\\n          <rdf:li rdf:resource=\"http://identifiers.org/uniprot/P03023\"/>\\n        </rdf:Bag>\\n      </bqbiol:is>']})\n",
      "\n"
     ]
    }
   ],
   "source": [
    "for one_anot in raw_annotation.str_annotation[:3]:\n",
    "    print(one_anot)\n",
    "    print()"
   ]
  },
  {
   "cell_type": "code",
   "execution_count": 5,
   "id": "855bd695",
   "metadata": {},
   "outputs": [],
   "source": [
    "processed_annotation = sa.SBMLAnnotation(BIOMD_12)"
   ]
  },
  {
   "cell_type": "code",
   "execution_count": 6,
   "id": "160175dc",
   "metadata": {
    "tags": []
   },
   "outputs": [
    {
     "data": {
      "text/plain": [
       "{'go': None,\n",
       " 'sbo': ['SBO:0000252'],\n",
       " 'chebi': None,\n",
       " 'kegg_species': None,\n",
       " 'kegg_process': None,\n",
       " 'uniprot': ['P03023'],\n",
       " 'object_id': 'PX',\n",
       " 'object_type': libsbml.Species}"
      ]
     },
     "execution_count": 6,
     "metadata": {},
     "output_type": "execute_result"
    }
   ],
   "source": [
    "processed_annotation.annotations['PX']"
   ]
  },
  {
   "cell_type": "markdown",
   "id": "0a320af6",
   "metadata": {},
   "source": [
    "### Test script (test_sbml_annotation2.py)"
   ]
  },
  {
   "cell_type": "code",
   "execution_count": 7,
   "id": "59cf1603",
   "metadata": {},
   "outputs": [],
   "source": [
    "reader = libsbml.SBMLReader()\n",
    "document = reader.readSBML(os.path.join(cn.TEST_DIR, BIOMD_12))\n",
    "sbml_model = document.getModel()\n",
    "raw_sbml_annotation = sa.RawSBMLAnnotation(input_file=os.path.join(cn.TEST_DIR, BIOMD_12))\n",
    "# BIOMD13 is for checking incompelte annotation \n",
    "incomplete_document = reader.readSBML(os.path.join(cn.TEST_DIR, BIOMD_15))\n",
    "incompelte_sbml_model = incomplete_document.getModel()\n",
    "incomplete_raw_sbml_annotation = sa.RawSBMLAnnotation(input_file=os.path.join(cn.TEST_DIR, BIOMD_15))"
   ]
  },
  {
   "cell_type": "code",
   "execution_count": 8,
   "id": "ef3d2d88",
   "metadata": {},
   "outputs": [
    {
     "name": "stdout",
     "output_type": "stream",
     "text": [
      "True\n",
      "True\n",
      "True\n"
     ]
    }
   ],
   "source": [
    "# testGetSBOAnnotation\n",
    "# reaction1_sbo_annotation = raw_sbml_annotation.getSBOAnnotation(sbml_model.getReaction('Reaction1'))\n",
    "# print(reaction1_sbo_annotation.id)\n",
    "# print(reaction1_sbo_annotation.object_type)\n",
    "# print(reaction1_sbo_annotation.annotation)\n",
    "\n",
    "# testGetOntAnnotation\n",
    "reaction1_annotation = raw_sbml_annotation.getOntAnnotation(sbml_model.getReaction('Reaction1'))\n",
    "reaction1_str_annotation = '<bqbiol:isVersionOf>\\n        <rdf:Bag>\\n          <rdf:li rdf:resource=\"http://identifiers.org/obo.go/GO:0006402\"/>\\n        </rdf:Bag>\\n      </bqbiol:isVersionOf>'\n",
    "print(reaction1_annotation[0]=='Reaction1')\n",
    "print(reaction1_annotation[1]==libsbml.Reaction)\n",
    "print(reaction1_annotation[2]['isVersionOf'][0]==reaction1_str_annotation)"
   ]
  },
  {
   "cell_type": "code",
   "execution_count": 9,
   "id": "82f6e151",
   "metadata": {},
   "outputs": [
    {
     "name": "stdout",
     "output_type": "stream",
     "text": [
      "True\n",
      "True\n",
      "False\n"
     ]
    }
   ],
   "source": [
    "px_annotation = raw_sbml_annotation.getOntAnnotation(sbml_model.getSpecies('PX'))\n",
    "px_str_annotation = '<bqbiol:is>\\n  <rdf:Bag>\\n    <rdf:li rdf:resource=\"http://identifiers.org/uniprot/P03023\"/>\\n  </rdf:Bag>\\n</bqbiol:is>'\n",
    "print(px_annotation.id=='PX')\n",
    "print(px_annotation.object_type==libsbml.Species)\n",
    "print(px_annotation.annotation['is'][0]==px_str_annotation)"
   ]
  },
  {
   "cell_type": "code",
   "execution_count": 10,
   "id": "2bd8c493",
   "metadata": {},
   "outputs": [
    {
     "name": "stdout",
     "output_type": "stream",
     "text": [
      "True\n",
      "True\n",
      "True\n"
     ]
    }
   ],
   "source": [
    "no_ont_annotation = incomplete_raw_sbml_annotation.getOntAnnotation(incompelte_sbml_model.getSpecies('ATP'))\n",
    "print(no_ont_annotation.id=='ATP')\n",
    "print(no_ont_annotation.object_type==libsbml.Species)\n",
    "print(no_ont_annotation.annotation=={}) "
   ]
  },
  {
   "cell_type": "code",
   "execution_count": 11,
   "id": "213f6e04",
   "metadata": {},
   "outputs": [],
   "source": [
    "sbml_annotation = sa.SBMLAnnotation(file=os.path.join(cn.TEST_DIR, BIOMD_12))\n",
    "input_annotation = '<bqbiol:isVersionOf>\\n  <rdf:Bag>\\n    <rdf:li rdf:resource=\"http://identifiers.org/obo.go/GO:0006402\"/>\\n  </rdf:Bag>\\n</bqbiol:isVersionOf>'\n",
    "    "
   ]
  },
  {
   "cell_type": "code",
   "execution_count": 12,
   "id": "92e1e3f7",
   "metadata": {},
   "outputs": [],
   "source": [
    "model_annotation = sbml_annotation.getAnnotationDictByQualifier('BIOMD0000000012')"
   ]
  },
  {
   "cell_type": "code",
   "execution_count": 13,
   "id": "1c49316c",
   "metadata": {},
   "outputs": [
    {
     "data": {
      "text/plain": [
       "{'isVersionOf': [('obo.go', 'GO:0040029')],\n",
       " 'object_id': 'BIOMD0000000012',\n",
       " 'object_type': libsbml.Model}"
      ]
     },
     "execution_count": 13,
     "metadata": {},
     "output_type": "execute_result"
    }
   ],
   "source": [
    "model_annotation"
   ]
  },
  {
   "cell_type": "code",
   "execution_count": 14,
   "id": "88a919ce",
   "metadata": {},
   "outputs": [
    {
     "data": {
      "text/plain": [
       "{'is': [('uniprot', 'P03023'), ('sbo', 'SBO:0000252')],\n",
       " 'object_id': 'PX',\n",
       " 'object_type': libsbml.Species}"
      ]
     },
     "execution_count": 14,
     "metadata": {},
     "output_type": "execute_result"
    }
   ],
   "source": [
    "px_annotation = sbml_annotation.getAnnotationDictByQualifier('PX')\n",
    "px_annotation"
   ]
  },
  {
   "cell_type": "code",
   "execution_count": 15,
   "id": "06e3e01b",
   "metadata": {},
   "outputs": [],
   "source": [
    "model_anot_by_ont = sbml_annotation.getAnnotationDictByOntology(model_annotation)\n",
    "px_anot_by_ont = sbml_annotation.getAnnotationDictByOntology(px_annotation)"
   ]
  },
  {
   "cell_type": "code",
   "execution_count": 16,
   "id": "f3abd9eb",
   "metadata": {},
   "outputs": [
    {
     "data": {
      "text/plain": [
       "{'go': ['GO:0040029'],\n",
       " 'sbo': None,\n",
       " 'chebi': None,\n",
       " 'kegg_species': None,\n",
       " 'kegg_process': None,\n",
       " 'uniprot': None,\n",
       " 'object_id': 'BIOMD0000000012',\n",
       " 'object_type': libsbml.Model}"
      ]
     },
     "execution_count": 16,
     "metadata": {},
     "output_type": "execute_result"
    }
   ],
   "source": [
    "model_anot_by_ont"
   ]
  },
  {
   "cell_type": "code",
   "execution_count": 17,
   "id": "a5919023",
   "metadata": {},
   "outputs": [
    {
     "data": {
      "text/plain": [
       "{'go': None,\n",
       " 'sbo': ['SBO:0000252'],\n",
       " 'chebi': None,\n",
       " 'kegg_species': None,\n",
       " 'kegg_process': None,\n",
       " 'uniprot': ['P03023'],\n",
       " 'object_id': 'PX',\n",
       " 'object_type': libsbml.Species}"
      ]
     },
     "execution_count": 17,
     "metadata": {},
     "output_type": "execute_result"
    }
   ],
   "source": [
    "px_anot_by_ont"
   ]
  },
  {
   "cell_type": "code",
   "execution_count": 18,
   "id": "ff296ead",
   "metadata": {},
   "outputs": [
    {
     "data": {
      "text/plain": [
       "[]"
      ]
     },
     "execution_count": 18,
     "metadata": {},
     "output_type": "execute_result"
    }
   ],
   "source": [
    "sbml_annotation.getKnowledgeResourceTuple('input_annotation')"
   ]
  },
  {
   "cell_type": "markdown",
   "id": "c0b5c5dd",
   "metadata": {},
   "source": [
    "### Work on MetricCalculator"
   ]
  },
  {
   "cell_type": "code",
   "execution_count": 19,
   "id": "040897d7",
   "metadata": {},
   "outputs": [],
   "source": [
    "metrical = mc.MetricCalculator(annotations=sbml_annotation, model_name='BIOMD0000000012')"
   ]
  },
  {
   "cell_type": "code",
   "execution_count": 20,
   "id": "40e84dea",
   "metadata": {},
   "outputs": [
    {
     "data": {
      "text/plain": [
       "<SBMate.metric_calculator.MetricCalculator at 0x7f8dd7aaa760>"
      ]
     },
     "execution_count": 20,
     "metadata": {},
     "output_type": "execute_result"
    }
   ],
   "source": [
    "metrical"
   ]
  },
  {
   "cell_type": "code",
   "execution_count": 21,
   "id": "0bfaf71c",
   "metadata": {},
   "outputs": [],
   "source": [
    "one_annotation = sa.SBMLAnnotation(file=os.path.join(cn.TEST_DIR, BIOMD_12))\n",
    "two_annotation = sa.SBMLAnnotation(file=os.path.join(cn.TEST_DIR, BIOMD_970))\n",
    "calculator = mc.MetricCalculator(annotations=one_annotation, model_name=BIOMD_12)\n",
    "none_calculator = mc.MetricCalculator(annotations=two_annotation, model_name=BIOMD_970)"
   ]
  },
  {
   "cell_type": "code",
   "execution_count": 22,
   "id": "c742574f",
   "metadata": {},
   "outputs": [
    {
     "name": "stdout",
     "output_type": "stream",
     "text": [
      "True\n"
     ]
    }
   ],
   "source": [
    "metrics_df = calculator.calculate()\n",
    "print(metrics_df.index[0] == BIOMD_12)\n",
    "# self.assertEqual(metrics_df.shape, (1,6))\n",
    "# self.assertEqual(int(metrics_df['annotatable_elements']), 20)\n",
    "# self.assertEqual(int(metrics_df['annotated_elements']), 20)\n",
    "# self.assertEqual(float(metrics_df['coverage']), 1.0)\n",
    "# self.assertEqual(int(metrics_df['consistent_elements']), 19)\n",
    "# self.assertEqual(float(metrics_df['consistency']), 0.95)\n",
    "# self.assertEqual(float(metrics_df['specificity']), 0.88)"
   ]
  },
  {
   "cell_type": "code",
   "execution_count": 23,
   "id": "b7bc73ed",
   "metadata": {},
   "outputs": [
    {
     "data": {
      "text/html": [
       "<div>\n",
       "<style scoped>\n",
       "    .dataframe tbody tr th:only-of-type {\n",
       "        vertical-align: middle;\n",
       "    }\n",
       "\n",
       "    .dataframe tbody tr th {\n",
       "        vertical-align: top;\n",
       "    }\n",
       "\n",
       "    .dataframe thead th {\n",
       "        text-align: right;\n",
       "    }\n",
       "</style>\n",
       "<table border=\"1\" class=\"dataframe\">\n",
       "  <thead>\n",
       "    <tr style=\"text-align: right;\">\n",
       "      <th></th>\n",
       "      <th>annotatable_elements</th>\n",
       "      <th>annotated_elements</th>\n",
       "      <th>coverage</th>\n",
       "      <th>consistent_elements</th>\n",
       "      <th>consistency</th>\n",
       "      <th>specificity</th>\n",
       "    </tr>\n",
       "  </thead>\n",
       "  <tbody>\n",
       "    <tr>\n",
       "      <th>BIOMD0000000012.xml</th>\n",
       "      <td>20</td>\n",
       "      <td>20</td>\n",
       "      <td>1.0</td>\n",
       "      <td>19</td>\n",
       "      <td>0.95</td>\n",
       "      <td>0.7</td>\n",
       "    </tr>\n",
       "  </tbody>\n",
       "</table>\n",
       "</div>"
      ],
      "text/plain": [
       "                     annotatable_elements  annotated_elements  coverage  \\\n",
       "BIOMD0000000012.xml                    20                  20       1.0   \n",
       "\n",
       "                     consistent_elements  consistency  specificity  \n",
       "BIOMD0000000012.xml                   19         0.95          0.7  "
      ]
     },
     "execution_count": 23,
     "metadata": {},
     "output_type": "execute_result"
    }
   ],
   "source": [
    "metrics_df"
   ]
  },
  {
   "cell_type": "code",
   "execution_count": 31,
   "id": "d2199eea",
   "metadata": {},
   "outputs": [],
   "source": [
    "# Check that, whether specificity is correct; "
   ]
  },
  {
   "cell_type": "code",
   "execution_count": null,
   "id": "755e2dec",
   "metadata": {},
   "outputs": [],
   "source": []
  },
  {
   "cell_type": "code",
   "execution_count": 29,
   "id": "e35b158f",
   "metadata": {},
   "outputs": [
    {
     "name": "stdout",
     "output_type": "stream",
     "text": [
      "['BIOMD0000000012', 'cell', 'PX', 'PY', 'PZ', 'X', 'Y', 'Z', 'Reaction1', 'Reaction2', 'Reaction3', 'Reaction4', 'Reaction5', 'Reaction6', 'Reaction7', 'Reaction8', 'Reaction9', 'Reaction10', 'Reaction11', 'Reaction12']\n"
     ]
    }
   ],
   "source": [
    "print(list(sbml_annotation.annotations.keys()))"
   ]
  },
  {
   "cell_type": "code",
   "execution_count": 50,
   "id": "a94bf76f",
   "metadata": {},
   "outputs": [
    {
     "data": {
      "text/plain": [
       "{'go': None,\n",
       " 'sbo': ['SBO:0000252'],\n",
       " 'chebi': None,\n",
       " 'kegg_species': None,\n",
       " 'kegg_process': None,\n",
       " 'uniprot': ['P03023'],\n",
       " 'object_id': 'PX',\n",
       " 'object_type': libsbml.Species}"
      ]
     },
     "execution_count": 50,
     "metadata": {},
     "output_type": "execute_result"
    }
   ],
   "source": [
    "metrical.annotations.annotations['PX']"
   ]
  },
  {
   "cell_type": "code",
   "execution_count": 33,
   "id": "131b7069",
   "metadata": {},
   "outputs": [],
   "source": [
    "consistent_entitics, _ = calculator._getConsistency(list(sbml_annotation.annotations.keys()))"
   ]
  },
  {
   "cell_type": "code",
   "execution_count": 35,
   "id": "3d5a1c94",
   "metadata": {},
   "outputs": [
    {
     "data": {
      "text/plain": [
       "dict_keys(['BIOMD0000000012', 'PX', 'PY', 'PZ', 'X', 'Y', 'Z', 'Reaction1', 'Reaction2', 'Reaction3', 'Reaction4', 'Reaction5', 'Reaction6', 'Reaction7', 'Reaction8', 'Reaction9', 'Reaction10', 'Reaction11', 'Reaction12'])"
      ]
     },
     "execution_count": 35,
     "metadata": {},
     "output_type": "execute_result"
    }
   ],
   "source": [
    "consistent_entitics.keys()"
   ]
  },
  {
   "cell_type": "code",
   "execution_count": 57,
   "id": "cea6d267",
   "metadata": {},
   "outputs": [
    {
     "name": "stdout",
     "output_type": "stream",
     "text": [
      "[('BIOMD0000000012', 0.35), ('PX', 1.0), ('PY', 1.0), ('PZ', 1.0), ('X', 0.65), ('Y', 0.65), ('Z', 0.65), ('Reaction1', 0.67), ('Reaction2', 0.67), ('Reaction3', 0.67), ('Reaction4', 0.7), ('Reaction5', 0.7), ('Reaction6', 0.7), ('Reaction7', 0.65), ('Reaction8', 0.65), ('Reaction9', 0.65), ('Reaction10', 0.66), ('Reaction11', 0.66), ('Reaction12', 0.66)]\n"
     ]
    }
   ],
   "source": [
    "anot_key = 'PX'\n",
    "specificities = []\n",
    "for anot_key in consistent_entitics.keys():\n",
    "  one_anot = calculator.annotations.annotations[anot_key]\n",
    "  one_anot_qualifier = calculator.annotations.annotation_by_qualifier[anot_key]\n",
    "  term_qualifier_map = calculator.getQualifierDict(one_anot_qualifier)\n",
    "  one_entity_onts = [mc.ANALYZER_DICT[key](term_id=one_anot[key],\n",
    "                                    ontology=key,\n",
    "                                    object_type=one_anot['object_type'],\n",
    "                                    qualifier_dict=term_qualifier_map) \\\n",
    "                  for key in mc.ANALYZER_DICT if one_anot[key]]\n",
    "  specificities.append((anot_key, calculator._getSpecificity({anot_key: one_entity_onts})))\n",
    "print(specificities)"
   ]
  },
  {
   "cell_type": "code",
   "execution_count": 84,
   "id": "a0903896",
   "metadata": {},
   "outputs": [
    {
     "name": "stdout",
     "output_type": "stream",
     "text": [
      "BIOMD0000000012\n",
      "{'isVersionOf': [('obo.go', 'GO:0040029')], 'object_id': 'BIOMD0000000012', 'object_type': <class 'libsbml.Model'>}\n",
      "PX\n",
      "{'is': [('uniprot', 'P03023'), ('sbo', 'SBO:0000252')], 'object_id': 'PX', 'object_type': <class 'libsbml.Species'>}\n",
      "PY\n",
      "{'is': [('uniprot', 'P04483'), ('sbo', 'SBO:0000252')], 'object_id': 'PY', 'object_type': <class 'libsbml.Species'>}\n",
      "PZ\n",
      "{'is': [('uniprot', 'P03034'), ('sbo', 'SBO:0000252')], 'object_id': 'PZ', 'object_type': <class 'libsbml.Species'>}\n",
      "X\n",
      "{'isVersionOf': [('chebi', 'CHEBI:33699'), ('kegg.compound', 'C00046')], 'is': [('sbo', 'SBO:0000250')], 'object_id': 'X', 'object_type': <class 'libsbml.Species'>}\n",
      "Y\n",
      "{'isVersionOf': [('chebi', 'CHEBI:33699'), ('kegg.compound', 'C00046')], 'is': [('sbo', 'SBO:0000250')], 'object_id': 'Y', 'object_type': <class 'libsbml.Species'>}\n",
      "Z\n",
      "{'isVersionOf': [('chebi', 'CHEBI:33699'), ('kegg.compound', 'C00046')], 'is': [('sbo', 'SBO:0000250')], 'object_id': 'Z', 'object_type': <class 'libsbml.Species'>}\n",
      "Reaction1\n",
      "{'isVersionOf': [('obo.go', 'GO:0006402')], 'is': [('sbo', 'SBO:0000179')], 'object_id': 'Reaction1', 'object_type': <class 'libsbml.Reaction'>}\n",
      "Reaction2\n",
      "{'isVersionOf': [('obo.go', 'GO:0006402')], 'is': [('sbo', 'SBO:0000179')], 'object_id': 'Reaction2', 'object_type': <class 'libsbml.Reaction'>}\n",
      "Reaction3\n",
      "{'isVersionOf': [('obo.go', 'GO:0006402')], 'is': [('sbo', 'SBO:0000179')], 'object_id': 'Reaction3', 'object_type': <class 'libsbml.Reaction'>}\n",
      "Reaction4\n",
      "{'isVersionOf': [('obo.go', 'GO:0006412')], 'is': [('sbo', 'SBO:0000184')], 'object_id': 'Reaction4', 'object_type': <class 'libsbml.Reaction'>}\n",
      "Reaction5\n",
      "{'isVersionOf': [('obo.go', 'GO:0006412')], 'is': [('sbo', 'SBO:0000184')], 'object_id': 'Reaction5', 'object_type': <class 'libsbml.Reaction'>}\n",
      "Reaction6\n",
      "{'isVersionOf': [('obo.go', 'GO:0006412')], 'is': [('sbo', 'SBO:0000184')], 'object_id': 'Reaction6', 'object_type': <class 'libsbml.Reaction'>}\n",
      "Reaction7\n",
      "{'isVersionOf': [('obo.go', 'GO:0030163')], 'is': [('sbo', 'SBO:0000179')], 'object_id': 'Reaction7', 'object_type': <class 'libsbml.Reaction'>}\n",
      "Reaction8\n",
      "{'isVersionOf': [('obo.go', 'GO:0030163')], 'is': [('sbo', 'SBO:0000179')], 'object_id': 'Reaction8', 'object_type': <class 'libsbml.Reaction'>}\n",
      "Reaction9\n",
      "{'isVersionOf': [('obo.go', 'GO:0030163')], 'is': [('sbo', 'SBO:0000179')], 'object_id': 'Reaction9', 'object_type': <class 'libsbml.Reaction'>}\n",
      "Reaction10\n",
      "{'isVersionOf': [('obo.go', 'GO:0006351')], 'is': [('sbo', 'SBO:0000183')], 'object_id': 'Reaction10', 'object_type': <class 'libsbml.Reaction'>}\n",
      "Reaction11\n",
      "{'isVersionOf': [('obo.go', 'GO:0006351')], 'is': [('sbo', 'SBO:0000183')], 'object_id': 'Reaction11', 'object_type': <class 'libsbml.Reaction'>}\n",
      "Reaction12\n",
      "{'isVersionOf': [('obo.go', 'GO:0006351')], 'is': [('sbo', 'SBO:0000183')], 'object_id': 'Reaction12', 'object_type': <class 'libsbml.Reaction'>}\n"
     ]
    }
   ],
   "source": [
    "for anot_key in consistent_entitics.keys():\n",
    "  print(anot_key)\n",
    "  print(calculator.annotations.annotation_by_qualifier[anot_key])"
   ]
  },
  {
   "cell_type": "code",
   "execution_count": 65,
   "id": "15947e53",
   "metadata": {},
   "outputs": [
    {
     "data": {
      "text/plain": [
       "[<SBMate.dag_analyzer.DAGAnalyzer at 0x7f8dc7ff48b0>,\n",
       " <SBMate.dag_analyzer.DAGAnalyzer at 0x7f8dc7ff49a0>,\n",
       " <SBMate.uniprot_kegg_analyzer.NonDAGAnalyzer at 0x7f8dc7ff4880>]"
      ]
     },
     "execution_count": 65,
     "metadata": {},
     "output_type": "execute_result"
    }
   ],
   "source": [
    "anot_key = 'X'\n",
    "one_anot = calculator.annotations.annotations[anot_key]\n",
    "one_anot_qualifier = calculator.annotations.annotation_by_qualifier[anot_key]\n",
    "term_qualifier_map = calculator.getQualifierDict(one_anot_qualifier)\n",
    "one_entity_onts = [mc.ANALYZER_DICT[key](term_id=one_anot[key],\n",
    "                                    ontology=key,\n",
    "                                    object_type=one_anot['object_type'],\n",
    "                                    qualifier_dict=term_qualifier_map) \\\n",
    "                  for key in mc.ANALYZER_DICT if one_anot[key]]\n",
    "one_entity_onts"
   ]
  },
  {
   "cell_type": "code",
   "execution_count": 66,
   "id": "1772b6eb",
   "metadata": {},
   "outputs": [
    {
     "data": {
      "text/plain": [
       "{'SBO:0000250': 'is', 'CHEBI:33699': 'isVersionOf', 'C00046': 'isVersionOf'}"
      ]
     },
     "execution_count": 66,
     "metadata": {},
     "output_type": "execute_result"
    }
   ],
   "source": [
    "term_qualifier_map"
   ]
  },
  {
   "cell_type": "code",
   "execution_count": 76,
   "id": "5042d05d",
   "metadata": {},
   "outputs": [
    {
     "name": "stdout",
     "output_type": "stream",
     "text": [
      "1.0\n",
      "1.0\n",
      "0.8829901743817397\n",
      "0.44149508719086983\n",
      "0.5\n"
     ]
    }
   ],
   "source": [
    "one_sub_ent_onts = one_entity_onts[0]\n",
    "one_sub_ent_onts.consistent\n",
    "print(one_sub_ent_onts.getOneTermSpecificity('SBO:0000250'))\n",
    "print(one_sub_ent_onts.getSpecificity(['SBO:0000250']))\n",
    "\n",
    "\n",
    "one_sub_ent_onts = one_entity_onts[1]\n",
    "one_sub_ent_onts.consistent\n",
    "print(one_sub_ent_onts.getOneTermSpecificity('CHEBI:33699'))\n",
    "print(one_sub_ent_onts.getSpecificity(['CHEBI:33699']))\n",
    "\n",
    "one_sub_ent_onts = one_entity_onts[2]\n",
    "one_sub_ent_onts.consistent\n",
    "print(one_sub_ent_onts.getSpecificity(['C00046']))"
   ]
  },
  {
   "cell_type": "code",
   "execution_count": 79,
   "id": "5711b1f8",
   "metadata": {},
   "outputs": [
    {
     "data": {
      "text/plain": [
       "0.6466666666666666"
      ]
     },
     "execution_count": 79,
     "metadata": {},
     "output_type": "execute_result"
    }
   ],
   "source": [
    "np.mean([1, 0.5, 0.44])"
   ]
  },
  {
   "cell_type": "code",
   "execution_count": null,
   "id": "fa3709ee",
   "metadata": {},
   "outputs": [],
   "source": [
    "# Testing Analyzers, using the new Specificity rule. "
   ]
  },
  {
   "cell_type": "code",
   "execution_count": 98,
   "id": "74453b21",
   "metadata": {},
   "outputs": [
    {
     "name": "stdout",
     "output_type": "stream",
     "text": [
      "True\n",
      "True\n",
      "True\n",
      "Calculate consistency first!\n",
      "True\n"
     ]
    }
   ],
   "source": [
    "# DAG analyzer\n",
    "sbml_annotation = sa.SBMLAnnotation(file=os.path.join(cn.TEST_DIR, BIOMD_12))\n",
    "reaction1_annotation = sbml_annotation.annotations['Reaction1']\n",
    "reaction1_analyzer = da.DAGAnalyzer(term_id=['GO:0006402'],\n",
    "                                         ontology='go',\n",
    "                                         object_type=libsbml.Reaction,\n",
    "                                         qualifier_dict={'GO:0006402': 'isVersionOf'})\n",
    "\n",
    "# def testFindRoot(self):\n",
    "# print(reaction1_analyzer.findRoot(inp_term='GO:0006402') == 'GO:0008150')\n",
    "# print(reaction1_analyzer.findRoot(inp_term='SBO:000123') == None)\n",
    "\n",
    "# def testGetConsistency(self):\n",
    "# print(reaction1_analyzer.getConsistency(inp_term=1.0))\n",
    "# print(reaction1_analyzer.getConsistency(inp_term=['GO:0006402', 1]))\n",
    "# print(reaction1_analyzer.getConsistency(inp_term=['GO:0006402']))\n",
    "# print(reaction1_analyzer.getConsistency(inp_term=['GO:0110165']))\n",
    "\n",
    "# def testGetOneTermSpecificity(self):\n",
    "# dummy_analyzer = da.DAGAnalyzer(term_id=['SBO:0006402'],\n",
    "#                                 ontology='go',\n",
    "#                                 object_type=libsbml.Reaction,\n",
    "#                                 qualifier_dict={'SBO:0006402': 'is'})\n",
    "# # should return None if term is inconsistent\n",
    "# print(dummy_analyzer.getOneTermSpecificity('SBO:0006402') == None)\n",
    "# print(np.round(reaction1_analyzer.getOneTermSpecificity('GO:0006402'), 2) == 0.67)\n",
    "\n",
    "# def testGetSpecificity(self):\n",
    "dummy_analyzer1 = da.DAGAnalyzer(term_id=['SBO:0006402'],\n",
    "                                 ontology='go',\n",
    "                                 object_type=libsbml.Reaction,\n",
    "                                qualifier_dict={'SBO:0006402': 'is'})\n",
    "dummy_analyzer2 = da.DAGAnalyzer(term_id=['GO:0006402'],\n",
    "                                 ontology='go',\n",
    "                                 object_type=libsbml.Reaction,\n",
    "                                qualifier_dict={'GO:0006402': 'isVersionOf'})\n",
    "# should return None if term is inconsistent\n",
    "print(dummy_analyzer1.getSpecificity(['SBO:0006402']) == None)\n",
    "print(np.round(dummy_analyzer2.getSpecificity('GO:0006402'), 2) == 0.34)\n",
    "print(np.round(dummy_analyzer2.getSpecificity(['GO:0006402']), 2) == 0.34)\n",
    "print(dummy_analyzer2.getSpecificity(['GO:0006402', 'SBO:12345'])== None)"
   ]
  },
  {
   "cell_type": "code",
   "execution_count": 105,
   "id": "3dc83a4d",
   "metadata": {},
   "outputs": [
    {
     "name": "stdout",
     "output_type": "stream",
     "text": [
      "None None\n",
      "0.5 1.0\n",
      "1.0 1.0\n"
     ]
    }
   ],
   "source": [
    "# Non-DAG analyzer\n",
    "biomd12 = sa.SBMLAnnotation(file=os.path.join(cn.TEST_DIR, BIOMD_12))\n",
    "px_annotation = biomd12.annotations['PX']\n",
    "px_analyzer = uka.NonDAGAnalyzer(term_id=['P03023'],\n",
    "                                 ontology='uniprot',\n",
    "                                 object_type=libsbml.Species,\n",
    "                                 qualifier_dict={'P03023': 'is'})\n",
    "x_annotation = biomd12.annotations['X']\n",
    "x_analyzer = uka.NonDAGAnalyzer(term_id=['C00046'],\n",
    "                                ontology='kegg_species',\n",
    "                                object_type=libsbml.Species,\n",
    "                                qualifier_dict={'C00046': 'isVersionOf'})\n",
    "\n",
    "\n",
    "#   def testGetOneTermConsistency(self):\n",
    "# print(x_analyzer.getOneTermConsistency('C00046'))\n",
    "# print(x_analyzer.getOneTermConsistency('GO:12345'))\n",
    "# print(px_analyzer.getOneTermConsistency('P03023'))\n",
    "# print(px_analyzer.getOneTermConsistency('GO:12345'))  \n",
    "\n",
    "#   def testGetConsistency(self):\n",
    "# print(x_analyzer.getConsistency(1.0))\n",
    "# print(x_analyzer.getConsistency('GO:ABC'))\n",
    "# print(x_analyzer.getConsistency(['C00046']))\n",
    "# print(x_analyzer.getConsistency(['C00046', 1.0]))\n",
    "# print(x_analyzer.getConsistency(['C00046', 'GO:ABC']))\n",
    "\n",
    "#   def testGetSpecificity(self):\n",
    "wrong_analyzer = uka.NonDAGAnalyzer(term_id=['GO:12345'],\n",
    "                                    ontology='kegg_species',\n",
    "                                    object_type=libsbml.Species,\n",
    "                                    qualifier_dict={'GO:12345': 'is'})\n",
    "print(wrong_analyzer.getSpecificity('GO:12345'), None)\n",
    "print(x_analyzer.getSpecificity(['C00046']), 1.0)\n",
    "print(px_analyzer.getSpecificity(['P03023']), 1.0)"
   ]
  },
  {
   "cell_type": "code",
   "execution_count": 115,
   "id": "7c5248a1",
   "metadata": {},
   "outputs": [
    {
     "name": "stdout",
     "output_type": "stream",
     "text": [
      "0.7 0.88\n",
      "None None\n"
     ]
    }
   ],
   "source": [
    "# Test for metric_calculator\n",
    "one_annotation = sa.SBMLAnnotation(file=os.path.join(cn.TEST_DIR, BIOMD_12))\n",
    "two_annotation = sa.SBMLAnnotation(file=os.path.join(cn.TEST_DIR, BIOMD_970))\n",
    "calculator = mc.MetricCalculator(annotations=one_annotation, model_name=BIOMD_12)\n",
    "none_calculator = mc.MetricCalculator(annotations=two_annotation, model_name=BIOMD_970)\n",
    "\n",
    "# def testCalculate(self):\n",
    "# metrics_df = calculator.calculate()\n",
    "# print(metrics_df.index[0], BIOMD_12)\n",
    "# print(metrics_df.shape, (1,6))\n",
    "# print(int(metrics_df['annotatable_elements']), 20)\n",
    "# print(int(metrics_df['annotated_elements']), 20)\n",
    "# print(float(metrics_df['coverage']), 1.0)\n",
    "# print(int(metrics_df['consistent_elements']), 19)\n",
    "# print(float(metrics_df['consistency']), 0.95)\n",
    "# print(float(metrics_df['specificity']), 0.70)\n",
    "# print(float(metrics_df['specificity']) == 0.70)\n",
    "# #\n",
    "# non_metrics_df = none_calculator.calculate()\n",
    "# print(non_metrics_df.index[0], BIOMD_970)\n",
    "# print(non_metrics_df.shape, (1,6))\n",
    "# print(int(non_metrics_df['annotatable_elements']), 10)\n",
    "# print(non_metrics_df['annotated_elements'][0], None)\n",
    "# print(float(non_metrics_df['coverage']), 0.0)\n",
    "# print(non_metrics_df['consistent_elements'][0], None)\n",
    "# print(non_metrics_df['consistency'][0], None)\n",
    "# print(non_metrics_df['specificity'][0], None)\n",
    "\n",
    "# def testMkDataframe(self):\n",
    "# df = calculator.mkDataframe({'one_val': 10})\n",
    "# print(df.shape, (1,1))\n",
    "# print(df.index[0], BIOMD_12)\n",
    "# print(int(df['one_val']), 10)\n",
    "\n",
    "# def testGetCoverage(self):\n",
    "# annotated_entities, coverage = calculator._getCoverage()\n",
    "# print(len(annotated_entities), 20)\n",
    "# print(coverage, 1.0)\n",
    "# print(set(annotated_entities) == set(one_annotation.annotations.keys()))\n",
    "# #\n",
    "# none_annotated_entities, none_coverage = none_calculator._getCoverage()\n",
    "# print(none_annotated_entities, [])\n",
    "# print(none_coverage, 0.0)\n",
    "\n",
    "# def testGetConsistency(self):\n",
    "# annotated_entities, coverage = calculator._getCoverage()\n",
    "# consistent_entities, consistency = calculator._getConsistency(annotated_entities)\n",
    "# print(len(consistent_entities), 19)\n",
    "# print(consistency, 0.95)\n",
    "# print('cell' in set(consistent_entities))\n",
    "# #\n",
    "# none_annotated_entities, none_coverage = none_calculator._getCoverage()\n",
    "# none_consistent_entities, none_consistency = none_calculator._getConsistency(none_annotated_entities)\n",
    "# print(none_consistent_entities, None)\n",
    "# print(none_consistency, None)\n",
    "\n",
    "# def testGetSpecificity(self):\n",
    "annotated_entities, coverage = calculator._getCoverage()\n",
    "consistent_entities, consistency = calculator._getConsistency(annotated_entities)\n",
    "specificity = calculator._getSpecificity(consistent_entities) \n",
    "print(specificity, 0.88)\n",
    "#\n",
    "none_annotated_entities, none_coverage = none_calculator._getCoverage()\n",
    "none_consistent_entities, none_consistency = none_calculator._getConsistency(none_annotated_entities)\n",
    "none_specificity = none_calculator._getSpecificity(none_consistent_entities)\n",
    "print(none_specificity, None)"
   ]
  },
  {
   "cell_type": "code",
   "execution_count": 166,
   "id": "c5408df2",
   "metadata": {},
   "outputs": [],
   "source": [
    "# # test sbmate.py\n",
    "# setup\n",
    "import copy \n",
    "\n",
    "BIOMD_12 = 'BIOMD0000000012.xml'\n",
    "BIOMD_13 = 'BIOMD0000000013.xml'\n",
    "RESULT_REPORT_ENTRIES = [\n",
    "    \"annotatable_elements: 20\",\n",
    "    \"annotated_elements: 20\",\n",
    "    \"coverage: 1.0\",\n",
    "    \"consistent_elements: 19\",\n",
    "    \"consistency: 0.9\",\n",
    "    \"specificity: 0.7\",\n",
    "    BIOMD_12,\n",
    "    ]\n",
    "IGNORE_TEST = False\n",
    "IS_PLOT = False\n",
    "MODEL_FILE = os.path.join(cn.TEST_DIR, BIOMD_12)\n",
    "MODEL_FILE2 = os.path.join(cn.TEST_DIR, BIOMD_13)\n",
    "ANNOTATION_METRICS = sbmate.AnnotationMetrics(MODEL_FILE)\n",
    "\n",
    "METRIC_NAMES = [\n",
    "    'annotatable_elements',\n",
    "    'annotated_elements',\n",
    "    'coverage',\n",
    "    'consistent_elements',\n",
    "    'consistency',\n",
    "    'specificity',\n",
    "    ]\n",
    "\n",
    "def checkReport(report=None):\n",
    "  if report is None:\n",
    "    report = annotation_metrics._getMetricsReport()\n",
    "  report = annotation_metrics._getMetricsReport()\n",
    "  trues = [e in report for e in RESULT_REPORT_ENTRIES]\n",
    "  print(all(trues))"
   ]
  },
  {
   "cell_type": "code",
   "execution_count": 167,
   "id": "59efd2a2",
   "metadata": {},
   "outputs": [
    {
     "name": "stdout",
     "output_type": "stream",
     "text": [
      "True\n"
     ]
    }
   ],
   "source": [
    "print(all([True, True]))"
   ]
  },
  {
   "cell_type": "code",
   "execution_count": 168,
   "id": "10325cc1",
   "metadata": {},
   "outputs": [
    {
     "name": "stdout",
     "output_type": "stream",
     "text": [
      "None None\n",
      "None None\n"
     ]
    }
   ],
   "source": [
    "#   def setUp(self):\t\n",
    "annotation_metrics = copy.deepcopy(ANNOTATION_METRICS)\n",
    "no_annotation_metrics = sbmate.AnnotationMetrics()\n",
    "\n",
    "#   def testInit(self):\n",
    "df = annotation_metrics.metrics_df\n",
    "print(no_annotation_metrics.annotations, None)\n",
    "print(no_annotation_metrics.metrics_df, None)"
   ]
  },
  {
   "cell_type": "code",
   "execution_count": 169,
   "id": "68422abe",
   "metadata": {},
   "outputs": [
    {
     "data": {
      "text/html": [
       "<div>\n",
       "<style scoped>\n",
       "    .dataframe tbody tr th:only-of-type {\n",
       "        vertical-align: middle;\n",
       "    }\n",
       "\n",
       "    .dataframe tbody tr th {\n",
       "        vertical-align: top;\n",
       "    }\n",
       "\n",
       "    .dataframe thead th {\n",
       "        text-align: right;\n",
       "    }\n",
       "</style>\n",
       "<table border=\"1\" class=\"dataframe\">\n",
       "  <thead>\n",
       "    <tr style=\"text-align: right;\">\n",
       "      <th></th>\n",
       "      <th>annotatable_elements</th>\n",
       "      <th>annotated_elements</th>\n",
       "      <th>coverage</th>\n",
       "      <th>consistent_elements</th>\n",
       "      <th>consistency</th>\n",
       "      <th>specificity</th>\n",
       "    </tr>\n",
       "  </thead>\n",
       "  <tbody>\n",
       "    <tr>\n",
       "      <th>BIOMD0000000012.xml</th>\n",
       "      <td>20</td>\n",
       "      <td>20</td>\n",
       "      <td>1.0</td>\n",
       "      <td>19</td>\n",
       "      <td>0.95</td>\n",
       "      <td>0.7</td>\n",
       "    </tr>\n",
       "  </tbody>\n",
       "</table>\n",
       "</div>"
      ],
      "text/plain": [
       "                     annotatable_elements  annotated_elements  coverage  \\\n",
       "BIOMD0000000012.xml                    20                  20       1.0   \n",
       "\n",
       "                     consistent_elements  consistency  specificity  \n",
       "BIOMD0000000012.xml                   19         0.95          0.7  "
      ]
     },
     "execution_count": 169,
     "metadata": {},
     "output_type": "execute_result"
    }
   ],
   "source": [
    "annotation_metrics.metrics_df"
   ]
  },
  {
   "cell_type": "code",
   "execution_count": 162,
   "id": "8b698d60",
   "metadata": {},
   "outputs": [],
   "source": [
    "report = annotation_metrics._getMetricsReport()"
   ]
  },
  {
   "cell_type": "code",
   "execution_count": 163,
   "id": "ad3346be",
   "metadata": {},
   "outputs": [],
   "source": [
    "trues = [e in report for e in RESULT_REPORT_ENTRIES]\n",
    "# self.assertTrue(all(trues))"
   ]
  },
  {
   "cell_type": "code",
   "execution_count": 164,
   "id": "ede2b44d",
   "metadata": {},
   "outputs": [
    {
     "data": {
      "text/plain": [
       "[True, True, True, True, True, False, True]"
      ]
     },
     "execution_count": 164,
     "metadata": {},
     "output_type": "execute_result"
    }
   ],
   "source": [
    "trues"
   ]
  },
  {
   "cell_type": "code",
   "execution_count": 170,
   "id": "d3ddf7aa",
   "metadata": {},
   "outputs": [
    {
     "data": {
      "text/plain": [
       "['annotatable_elements: 20',\n",
       " 'annotated_elements: 20',\n",
       " 'coverage: 1.0',\n",
       " 'consistent_elements: 19',\n",
       " 'consistency: 0.9',\n",
       " 'specificity: 0.7',\n",
       " 'BIOMD0000000012.xml']"
      ]
     },
     "execution_count": 170,
     "metadata": {},
     "output_type": "execute_result"
    }
   ],
   "source": [
    "RESULT_REPORT_ENTRIES"
   ]
  },
  {
   "cell_type": "code",
   "execution_count": 178,
   "id": "ee860c9a",
   "metadata": {},
   "outputs": [
    {
     "name": "stdout",
     "output_type": "stream",
     "text": [
      "True\n",
      "(1, 6) (1, 6)\n",
      "20 20\n",
      "20 20\n",
      "1.0 1.0\n",
      "19 19\n",
      "0.95 0.95\n",
      "0.7 0.7\n"
     ]
    }
   ],
   "source": [
    "#   def testTwoClasses(self):\n",
    "#     if IGNORE_TEST:\n",
    "#       return\n",
    "# annotation_metrics = sbmate.AnnotationMetrics(MODEL_FILE,\n",
    "#                                               metric_calculator_classes=[mc.MetricCalculator])\n",
    "# df = annotation_metrics.metrics_df\n",
    "# lst = df.columns.tolist()\n",
    "# for name in METRIC_NAMES:\n",
    "#   print(lst.count(name), 2)\n",
    "\n",
    "#   def basicChecks(self, df):\n",
    "# print(df.shape, (1,6))\n",
    "# print(df.index[0], BIOMD_12)\n",
    "# print(int(df['annotatable_elements']), 20)\n",
    "# print(int(df['annotated_elements']), 20)\n",
    "# print(float(df['coverage']), 1.0)\n",
    "# print(int(df['consistent_elements']), 19)\n",
    "# print(float(df['consistency']), 0.95)\n",
    "# print(float(df['specificity']), 0.70)\n",
    "\n",
    "#   def testGetMetrics(self):\n",
    "# res_report = sbmate.AnnotationMetrics.getMetrics(MODEL_FILE,\n",
    "#     output=\"report\")\n",
    "# checkReport(report=res_report)\n",
    "\n",
    "# res_df = annotation_metrics.getMetrics(MODEL_FILE,\n",
    "#     output=\"table\")\n",
    "# print(res_df.shape, (1,6))\n",
    "# print(int(res_df['annotatable_elements']), 20)\n",
    "# print(int(res_df['annotated_elements']), 20)\n",
    "# print(float(res_df['coverage']), 1.0)\n",
    "# print(int(res_df['consistent_elements']), 19)\n",
    "# print(float(res_df['consistency']), 0.95)\n",
    "# print(float(res_df['specificity']), 0.7) \n",
    "\n",
    "# res_df2 = annotation_metrics.getMetrics([MODEL_FILE, MODEL_FILE2], \n",
    "#                                               output=\"table\")\n",
    "# print(res_df2.shape, (2,6))\n",
    "# print(list(res_df2.columns), METRIC_NAMES)\n",
    "# print(list(res_df2.loc[BIOMD_12,:]) ==\n",
    "#                  [20, 20, 1.0, 19, 0.95, 0.7])\n",
    "# print(list(res_df2.loc[BIOMD_13,:]) ==\n",
    "#                  [51, 51, 1.0, 51, 1.00, 0.93])\n",
    "    \n",
    "res_report =  annotation_metrics.getMetrics(MODEL_FILE,\n",
    "    output=\"report\")\n",
    "print(res_report == annotation_metrics._getMetricsReport())\n",
    "# with self.assertRaises(ValueError) as context: \n",
    "#   self.annotation_metrics.getMetrics(123, output=\"table\")\n",
    "# with self.assertRaises(ValueError) as context: \n",
    "#   self.annotation_metrics.getMetrics([123, 'abc'], output=\"table\")\n",
    "\n",
    "# with self.assertRaisesRegex(ValueError, \"Should be a valid file name.\"): \n",
    "#   self.annotation_metrics.getMetrics(123, output=\"table\")  \n",
    "# with self.assertRaisesRegex(ValueError, \"Should be a valid file name.\"): \n",
    "#   self.annotation_metrics.getMetrics([123, 'abc'], output=\"table\")  \n",
    "\n",
    "\n",
    "\n",
    "#   def testGetMetricsReport(self):\n",
    "#     if IGNORE_TEST:\n",
    "#         return\n",
    "#     self.checkReport()\n",
    "\n",
    "#   def testMetricsTable(self):\n",
    "#     if IGNORE_TEST:\n",
    "#       return\n",
    "df = annotation_metrics.metrics_df\n",
    "print(df.shape, (1,6))\n",
    "print(int(df['annotatable_elements']), 20)\n",
    "print(int(df['annotated_elements']), 20)\n",
    "print(float(df['coverage']), 1.0)\n",
    "print(int(df['consistent_elements']), 19)\n",
    "print(float(df['consistency']), 0.95)\n",
    "print(float(df['specificity']), 0.7)"
   ]
  },
  {
   "cell_type": "code",
   "execution_count": 153,
   "id": "dfb893eb",
   "metadata": {},
   "outputs": [
    {
     "data": {
      "text/plain": [
       "'Summary of Metrics (BIOMD0000000012.xml)\\n----------------------\\nannotatable_elements: 20\\nannotated_elements: 20\\ncoverage: 1.0\\nconsistent_elements: 19\\nconsistency: 0.95\\nspecificity: 0.7\\n----------------------\\n'"
      ]
     },
     "execution_count": 153,
     "metadata": {},
     "output_type": "execute_result"
    }
   ],
   "source": [
    "annotation_metrics.getMetrics(MODEL_FILE,\n",
    "    output=\"report\")"
   ]
  },
  {
   "cell_type": "code",
   "execution_count": 161,
   "id": "e7470fb4",
   "metadata": {},
   "outputs": [
    {
     "name": "stdout",
     "output_type": "stream",
     "text": [
      "Summary of Metrics (BIOMD0000000012.xml)\n",
      "----------------------\n",
      "annotatable_elements: 20\n",
      "annotated_elements: 20\n",
      "coverage: 1.0\n",
      "consistent_elements: 19\n",
      "consistency: 0.95\n",
      "specificity: 0.7\n",
      "----------------------\n",
      "\n"
     ]
    }
   ],
   "source": [
    "print(res_report)"
   ]
  },
  {
   "cell_type": "code",
   "execution_count": null,
   "id": "26747afa",
   "metadata": {},
   "outputs": [],
   "source": []
  }
 ],
 "metadata": {
  "kernelspec": {
   "display_name": "pyo",
   "language": "python",
   "name": "pyo"
  },
  "language_info": {
   "codemirror_mode": {
    "name": "ipython",
    "version": 3
   },
   "file_extension": ".py",
   "mimetype": "text/x-python",
   "name": "python",
   "nbconvert_exporter": "python",
   "pygments_lexer": "ipython3",
   "version": "3.8.8"
  }
 },
 "nbformat": 4,
 "nbformat_minor": 5
}
