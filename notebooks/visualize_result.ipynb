{
 "cells": [
  {
   "cell_type": "code",
   "execution_count": 9,
   "id": "ac933c7f",
   "metadata": {},
   "outputs": [],
   "source": [
    "import numpy as np\n",
    "import pandas as pd\n",
    "import os\n",
    "import sys\n",
    "\n",
    "import matplotlib.pyplot as plt"
   ]
  },
  {
   "cell_type": "code",
   "execution_count": 7,
   "id": "85d71435",
   "metadata": {},
   "outputs": [],
   "source": [
    "df = pd.read_csv(os.path.join(os.getcwd(), 'comb_table.csv'), index_col=0)"
   ]
  },
  {
   "cell_type": "code",
   "execution_count": 8,
   "id": "6d1b54e3",
   "metadata": {},
   "outputs": [
    {
     "data": {
      "text/html": [
       "<div>\n",
       "<style scoped>\n",
       "    .dataframe tbody tr th:only-of-type {\n",
       "        vertical-align: middle;\n",
       "    }\n",
       "\n",
       "    .dataframe tbody tr th {\n",
       "        vertical-align: top;\n",
       "    }\n",
       "\n",
       "    .dataframe thead th {\n",
       "        text-align: right;\n",
       "    }\n",
       "</style>\n",
       "<table border=\"1\" class=\"dataframe\">\n",
       "  <thead>\n",
       "    <tr style=\"text-align: right;\">\n",
       "      <th></th>\n",
       "      <th>annotatable_entities</th>\n",
       "      <th>annotated_entities</th>\n",
       "      <th>coverage</th>\n",
       "      <th>consistent_entities</th>\n",
       "      <th>consistency</th>\n",
       "      <th>specificity</th>\n",
       "    </tr>\n",
       "  </thead>\n",
       "  <tbody>\n",
       "    <tr>\n",
       "      <th>BIOMD0000000634.xml</th>\n",
       "      <td>183</td>\n",
       "      <td>20.0</td>\n",
       "      <td>0.11</td>\n",
       "      <td>19.0</td>\n",
       "      <td>0.95</td>\n",
       "      <td>0.97</td>\n",
       "    </tr>\n",
       "    <tr>\n",
       "      <th>BIOMD0000000152.xml</th>\n",
       "      <td>186</td>\n",
       "      <td>92.0</td>\n",
       "      <td>0.49</td>\n",
       "      <td>92.0</td>\n",
       "      <td>1.00</td>\n",
       "      <td>0.85</td>\n",
       "    </tr>\n",
       "    <tr>\n",
       "      <th>BIOMD0000000146.xml</th>\n",
       "      <td>72</td>\n",
       "      <td>43.0</td>\n",
       "      <td>0.60</td>\n",
       "      <td>42.0</td>\n",
       "      <td>0.98</td>\n",
       "      <td>0.63</td>\n",
       "    </tr>\n",
       "    <tr>\n",
       "      <th>BIOMD0000000620.xml</th>\n",
       "      <td>57</td>\n",
       "      <td>9.0</td>\n",
       "      <td>0.16</td>\n",
       "      <td>8.0</td>\n",
       "      <td>0.89</td>\n",
       "      <td>0.97</td>\n",
       "    </tr>\n",
       "    <tr>\n",
       "      <th>BIOMD0000000608.xml</th>\n",
       "      <td>194</td>\n",
       "      <td>1.0</td>\n",
       "      <td>0.01</td>\n",
       "      <td>1.0</td>\n",
       "      <td>1.00</td>\n",
       "      <td>0.51</td>\n",
       "    </tr>\n",
       "  </tbody>\n",
       "</table>\n",
       "</div>"
      ],
      "text/plain": [
       "                     annotatable_entities  annotated_entities  coverage  \\\n",
       "BIOMD0000000634.xml                   183                20.0      0.11   \n",
       "BIOMD0000000152.xml                   186                92.0      0.49   \n",
       "BIOMD0000000146.xml                    72                43.0      0.60   \n",
       "BIOMD0000000620.xml                    57                 9.0      0.16   \n",
       "BIOMD0000000608.xml                   194                 1.0      0.01   \n",
       "\n",
       "                     consistent_entities  consistency  specificity  \n",
       "BIOMD0000000634.xml                 19.0         0.95         0.97  \n",
       "BIOMD0000000152.xml                 92.0         1.00         0.85  \n",
       "BIOMD0000000146.xml                 42.0         0.98         0.63  \n",
       "BIOMD0000000620.xml                  8.0         0.89         0.97  \n",
       "BIOMD0000000608.xml                  1.0         1.00         0.51  "
      ]
     },
     "execution_count": 8,
     "metadata": {},
     "output_type": "execute_result"
    }
   ],
   "source": [
    "df.head()"
   ]
  },
  {
   "cell_type": "code",
   "execution_count": 38,
   "id": "c34d9d35",
   "metadata": {},
   "outputs": [
    {
     "data": {
      "text/plain": [
       "(array([642., 162.,  91.,  36.,  23.,  12.,  12.,   3.,   1.,   0.,   0.,\n",
       "          2.,   2.,   1.,   1.,   0.,   0.,   2.,   0.,   0.,   0.,   1.,\n",
       "          1.,   0.,   0.,   0.,   0.,   2.,   0.,   1.,   0.,   0.,   0.,\n",
       "          0.,   2.,   0.,   0.,   0.,   0.,   1.,   0.,   1.,   0.,   0.,\n",
       "          0.,   0.,   0.,   0.,   0.,   1.]),\n",
       " array([   2.  ,   36.16,   70.32,  104.48,  138.64,  172.8 ,  206.96,\n",
       "         241.12,  275.28,  309.44,  343.6 ,  377.76,  411.92,  446.08,\n",
       "         480.24,  514.4 ,  548.56,  582.72,  616.88,  651.04,  685.2 ,\n",
       "         719.36,  753.52,  787.68,  821.84,  856.  ,  890.16,  924.32,\n",
       "         958.48,  992.64, 1026.8 , 1060.96, 1095.12, 1129.28, 1163.44,\n",
       "        1197.6 , 1231.76, 1265.92, 1300.08, 1334.24, 1368.4 , 1402.56,\n",
       "        1436.72, 1470.88, 1505.04, 1539.2 , 1573.36, 1607.52, 1641.68,\n",
       "        1675.84, 1710.  ]),\n",
       " <BarContainer object of 50 artists>)"
      ]
     },
     "execution_count": 38,
     "metadata": {},
     "output_type": "execute_result"
    },
    {
     "data": {
      "image/png": "[encoded data removed]",
      "text/plain": [
       "<Figure size 720x576 with 1 Axes>"
      ]
     },
     "metadata": {
      "needs_background": "light"
     },
     "output_type": "display_data"
    }
   ],
   "source": [
    "plt.rcParams[\"figure.figsize\"] = (10,8)\n",
    "plt.hist(df.annotatable_entities, bins=50, color='grey', edgecolor='k', fill=True)"
   ]
  },
  {
   "cell_type": "code",
   "execution_count": 96,
   "id": "e7364c4d",
   "metadata": {},
   "outputs": [],
   "source": [
    "coverage = df.coverage"
   ]
  },
  {
   "cell_type": "code",
   "execution_count": 99,
   "id": "cb13da5f",
   "metadata": {},
   "outputs": [
    {
     "name": "stdout",
     "output_type": "stream",
     "text": [
      "90\n",
      "145\n"
     ]
    }
   ],
   "source": [
    "print(len(coverage[coverage==0.0]))\n",
    "print(len(coverage[coverage==1.0]))"
   ]
  },
  {
   "cell_type": "code",
   "execution_count": null,
   "id": "bbc7e190",
   "metadata": {},
   "outputs": [],
   "source": []
  },
  {
   "cell_type": "code",
   "execution_count": null,
   "id": "7070305d",
   "metadata": {},
   "outputs": [],
   "source": []
  },
  {
   "cell_type": "code",
   "execution_count": 39,
   "id": "a74ca968",
   "metadata": {},
   "outputs": [
    {
     "data": {
      "text/plain": [
       "(array([ 98.,  14.,   5.,  14.,   7.,  10.,   8.,   9.,  12.,   9.,  12.,\n",
       "         13.,  17.,  18.,  17.,  19.,  15.,  10.,   8.,  18.,  22.,   8.,\n",
       "         15.,  10.,  13.,  47.,  13.,  15.,  20.,  11.,  22.,   8.,  18.,\n",
       "         18.,  23.,  10.,  17.,  14.,  14.,  17.,  23.,   6.,  31.,  20.,\n",
       "         23.,  14.,  23.,   9.,  29., 154.]),\n",
       " array([0.  , 0.02, 0.04, 0.06, 0.08, 0.1 , 0.12, 0.14, 0.16, 0.18, 0.2 ,\n",
       "        0.22, 0.24, 0.26, 0.28, 0.3 , 0.32, 0.34, 0.36, 0.38, 0.4 , 0.42,\n",
       "        0.44, 0.46, 0.48, 0.5 , 0.52, 0.54, 0.56, 0.58, 0.6 , 0.62, 0.64,\n",
       "        0.66, 0.68, 0.7 , 0.72, 0.74, 0.76, 0.78, 0.8 , 0.82, 0.84, 0.86,\n",
       "        0.88, 0.9 , 0.92, 0.94, 0.96, 0.98, 1.  ]),\n",
       " <BarContainer object of 50 artists>)"
      ]
     },
     "execution_count": 39,
     "metadata": {},
     "output_type": "execute_result"
    },
    {
     "data": {
      "image/png": "[encoded data removed]",
      "text/plain": [
       "<Figure size 720x576 with 1 Axes>"
      ]
     },
     "metadata": {
      "needs_background": "light"
     },
     "output_type": "display_data"
    }
   ],
   "source": [
    "plt.hist(df.coverage, bins=50, edgecolor='k', fill=True)"
   ]
  },
  {
   "cell_type": "code",
   "execution_count": 65,
   "id": "027567af",
   "metadata": {},
   "outputs": [],
   "source": [
    "consis_val = []\n",
    "for i in df.consistency:\n",
    "  if i==np.nan:\n",
    "    print(i)"
   ]
  },
  {
   "cell_type": "code",
   "execution_count": 103,
   "id": "74fe8f65",
   "metadata": {},
   "outputs": [
    {
     "data": {
      "text/html": [
       "<div>\n",
       "<style scoped>\n",
       "    .dataframe tbody tr th:only-of-type {\n",
       "        vertical-align: middle;\n",
       "    }\n",
       "\n",
       "    .dataframe tbody tr th {\n",
       "        vertical-align: top;\n",
       "    }\n",
       "\n",
       "    .dataframe thead th {\n",
       "        text-align: right;\n",
       "    }\n",
       "</style>\n",
       "<table border=\"1\" class=\"dataframe\">\n",
       "  <thead>\n",
       "    <tr style=\"text-align: right;\">\n",
       "      <th></th>\n",
       "      <th>annotatable_entities</th>\n",
       "      <th>annotated_entities</th>\n",
       "      <th>coverage</th>\n",
       "      <th>consistent_entities</th>\n",
       "      <th>consistency</th>\n",
       "      <th>specificity</th>\n",
       "    </tr>\n",
       "  </thead>\n",
       "  <tbody>\n",
       "    <tr>\n",
       "      <th>BIOMD0000000595.xml</th>\n",
       "      <td>1710</td>\n",
       "      <td>5.0</td>\n",
       "      <td>0.0</td>\n",
       "      <td>5.0</td>\n",
       "      <td>1.0</td>\n",
       "      <td>0.96</td>\n",
       "    </tr>\n",
       "    <tr>\n",
       "      <th>BIOMD0000000588.xml</th>\n",
       "      <td>236</td>\n",
       "      <td>1.0</td>\n",
       "      <td>0.0</td>\n",
       "      <td>1.0</td>\n",
       "      <td>1.0</td>\n",
       "      <td>1.00</td>\n",
       "    </tr>\n",
       "  </tbody>\n",
       "</table>\n",
       "</div>"
      ],
      "text/plain": [
       "                     annotatable_entities  annotated_entities  coverage  \\\n",
       "BIOMD0000000595.xml                  1710                 5.0       0.0   \n",
       "BIOMD0000000588.xml                   236                 1.0       0.0   \n",
       "\n",
       "                     consistent_entities  consistency  specificity  \n",
       "BIOMD0000000595.xml                  5.0          1.0         0.96  \n",
       "BIOMD0000000588.xml                  1.0          1.0         1.00  "
      ]
     },
     "execution_count": 103,
     "metadata": {},
     "output_type": "execute_result"
    }
   ],
   "source": [
    "k = df[df['coverage']==0.0]\n",
    "kk = k[k['consistency'].notnull()]\n",
    "kk"
   ]
  },
  {
   "cell_type": "code",
   "execution_count": 110,
   "id": "e25a33a9",
   "metadata": {},
   "outputs": [
    {
     "name": "stdout",
     "output_type": "stream",
     "text": [
      "145\n",
      "90\n"
     ]
    }
   ],
   "source": [
    "print(len(coverage[coverage==1.0]))\n",
    "print(len(coverage[coverage==0.0]))"
   ]
  },
  {
   "cell_type": "code",
   "execution_count": 106,
   "id": "27c1eedb",
   "metadata": {},
   "outputs": [
    {
     "name": "stdout",
     "output_type": "stream",
     "text": [
      "912\n"
     ]
    },
    {
     "data": {
      "text/plain": [
       "(array([  4.,   0.,   0.,   0.,   0.,   0.,   0.,   0.,   1.,   0.,   3.,\n",
       "          0.,   2.,   0.,   0.,   0.,   5.,   0.,   0.,   0.,   0.,   2.,\n",
       "          0.,   0.,   1.,  23.,   0.,   0.,   3.,   0.,   2.,   1.,   0.,\n",
       "          9.,   1.,   3.,   2.,  16.,   1.,   5.,  11.,  16.,   7.,  12.,\n",
       "         28.,  32.,  75.,  31.,  69., 547.]),\n",
       " array([0.  , 0.02, 0.04, 0.06, 0.08, 0.1 , 0.12, 0.14, 0.16, 0.18, 0.2 ,\n",
       "        0.22, 0.24, 0.26, 0.28, 0.3 , 0.32, 0.34, 0.36, 0.38, 0.4 , 0.42,\n",
       "        0.44, 0.46, 0.48, 0.5 , 0.52, 0.54, 0.56, 0.58, 0.6 , 0.62, 0.64,\n",
       "        0.66, 0.68, 0.7 , 0.72, 0.74, 0.76, 0.78, 0.8 , 0.82, 0.84, 0.86,\n",
       "        0.88, 0.9 , 0.92, 0.94, 0.96, 0.98, 1.  ]),\n",
       " <BarContainer object of 50 artists>)"
      ]
     },
     "execution_count": 106,
     "metadata": {},
     "output_type": "execute_result"
    },
    {
     "data": {
      "image/png": "[encoded data removed]",
      "text/plain": [
       "<Figure size 720x576 with 1 Axes>"
      ]
     },
     "metadata": {
      "needs_background": "light"
     },
     "output_type": "display_data"
    }
   ],
   "source": [
    "consistency = df.consistency[df['consistency'].notnull()]\n",
    "print(len(consistency))\n",
    "plt.hist(consistency, bins=50, edgecolor='k', fill=True)"
   ]
  },
  {
   "cell_type": "code",
   "execution_count": 93,
   "id": "f11e67d4",
   "metadata": {},
   "outputs": [],
   "source": [
    "consis_df = df[df['consistency']==0.0]\n",
    "#speci_df = consis_df[consis_df['specificity'].isnull()]"
   ]
  },
  {
   "cell_type": "code",
   "execution_count": 94,
   "id": "ecdb9284",
   "metadata": {},
   "outputs": [
    {
     "data": {
      "text/html": [
       "<div>\n",
       "<style scoped>\n",
       "    .dataframe tbody tr th:only-of-type {\n",
       "        vertical-align: middle;\n",
       "    }\n",
       "\n",
       "    .dataframe tbody tr th {\n",
       "        vertical-align: top;\n",
       "    }\n",
       "\n",
       "    .dataframe thead th {\n",
       "        text-align: right;\n",
       "    }\n",
       "</style>\n",
       "<table border=\"1\" class=\"dataframe\">\n",
       "  <thead>\n",
       "    <tr style=\"text-align: right;\">\n",
       "      <th></th>\n",
       "      <th>annotatable_entities</th>\n",
       "      <th>annotated_entities</th>\n",
       "      <th>coverage</th>\n",
       "      <th>consistent_entities</th>\n",
       "      <th>consistency</th>\n",
       "      <th>specificity</th>\n",
       "    </tr>\n",
       "  </thead>\n",
       "  <tbody>\n",
       "    <tr>\n",
       "      <th>BIOMD0000000583.xml</th>\n",
       "      <td>58</td>\n",
       "      <td>1.0</td>\n",
       "      <td>0.02</td>\n",
       "      <td>NaN</td>\n",
       "      <td>0.0</td>\n",
       "      <td>NaN</td>\n",
       "    </tr>\n",
       "    <tr>\n",
       "      <th>BIOMD0000000729.xml</th>\n",
       "      <td>12</td>\n",
       "      <td>1.0</td>\n",
       "      <td>0.08</td>\n",
       "      <td>NaN</td>\n",
       "      <td>0.0</td>\n",
       "      <td>NaN</td>\n",
       "    </tr>\n",
       "    <tr>\n",
       "      <th>BIOMD0000000714.xml</th>\n",
       "      <td>16</td>\n",
       "      <td>1.0</td>\n",
       "      <td>0.06</td>\n",
       "      <td>NaN</td>\n",
       "      <td>0.0</td>\n",
       "      <td>NaN</td>\n",
       "    </tr>\n",
       "    <tr>\n",
       "      <th>BIOMD0000000670.xml</th>\n",
       "      <td>5</td>\n",
       "      <td>1.0</td>\n",
       "      <td>0.20</td>\n",
       "      <td>NaN</td>\n",
       "      <td>0.0</td>\n",
       "      <td>NaN</td>\n",
       "    </tr>\n",
       "  </tbody>\n",
       "</table>\n",
       "</div>"
      ],
      "text/plain": [
       "                     annotatable_entities  annotated_entities  coverage  \\\n",
       "BIOMD0000000583.xml                    58                 1.0      0.02   \n",
       "BIOMD0000000729.xml                    12                 1.0      0.08   \n",
       "BIOMD0000000714.xml                    16                 1.0      0.06   \n",
       "BIOMD0000000670.xml                     5                 1.0      0.20   \n",
       "\n",
       "                     consistent_entities  consistency  specificity  \n",
       "BIOMD0000000583.xml                  NaN          0.0          NaN  \n",
       "BIOMD0000000729.xml                  NaN          0.0          NaN  \n",
       "BIOMD0000000714.xml                  NaN          0.0          NaN  \n",
       "BIOMD0000000670.xml                  NaN          0.0          NaN  "
      ]
     },
     "execution_count": 94,
     "metadata": {},
     "output_type": "execute_result"
    }
   ],
   "source": [
    "consis_df"
   ]
  },
  {
   "cell_type": "code",
   "execution_count": 112,
   "id": "0be06e05",
   "metadata": {},
   "outputs": [
    {
     "name": "stdout",
     "output_type": "stream",
     "text": [
      "105\n",
      "1\n"
     ]
    }
   ],
   "source": [
    "print(len(specificity[specificity==1.0]))\n",
    "print(len(specificity[specificity==min(specificity)]))"
   ]
  },
  {
   "cell_type": "code",
   "execution_count": 111,
   "id": "04e89a2a",
   "metadata": {},
   "outputs": [
    {
     "data": {
      "text/plain": [
       "0.17"
      ]
     },
     "execution_count": 111,
     "metadata": {},
     "output_type": "execute_result"
    }
   ],
   "source": [
    "min(specificity)"
   ]
  },
  {
   "cell_type": "code",
   "execution_count": 82,
   "id": "a8b9ec4a",
   "metadata": {},
   "outputs": [
    {
     "name": "stdout",
     "output_type": "stream",
     "text": [
      "908\n"
     ]
    },
    {
     "data": {
      "text/plain": [
       "(array([  2.,   0.,   0.,   0.,   0.,   0.,   0.,   0.,   2.,   1.,   0.,\n",
       "          0.,   2.,   2.,   0.,   3.,   5.,   0.,   2.,   2.,   2.,   1.,\n",
       "         10.,   3.,   7.,   7.,   6.,  13.,  16.,   5.,  22.,  25.,   7.,\n",
       "         29.,  32.,  15.,  52.,  44.,  27.,  39.,  35.,  21.,  51.,  44.,\n",
       "         14.,  33.,  63.,  55.,  70., 139.]),\n",
       " array([0.17  , 0.1866, 0.2032, 0.2198, 0.2364, 0.253 , 0.2696, 0.2862,\n",
       "        0.3028, 0.3194, 0.336 , 0.3526, 0.3692, 0.3858, 0.4024, 0.419 ,\n",
       "        0.4356, 0.4522, 0.4688, 0.4854, 0.502 , 0.5186, 0.5352, 0.5518,\n",
       "        0.5684, 0.585 , 0.6016, 0.6182, 0.6348, 0.6514, 0.668 , 0.6846,\n",
       "        0.7012, 0.7178, 0.7344, 0.751 , 0.7676, 0.7842, 0.8008, 0.8174,\n",
       "        0.834 , 0.8506, 0.8672, 0.8838, 0.9004, 0.917 , 0.9336, 0.9502,\n",
       "        0.9668, 0.9834, 1.    ]),\n",
       " <BarContainer object of 50 artists>)"
      ]
     },
     "execution_count": 82,
     "metadata": {},
     "output_type": "execute_result"
    },
    {
     "data": {
      "image/png": "[encoded data removed]",
      "text/plain": [
       "<Figure size 720x576 with 1 Axes>"
      ]
     },
     "metadata": {
      "needs_background": "light"
     },
     "output_type": "display_data"
    }
   ],
   "source": [
    "specificity = df.specificity[df['specificity'].notnull()]\n",
    "print(len(specificity))\n",
    "plt.hist(specificity, bins=50, edgecolor='k', fill=True)"
   ]
  },
  {
   "cell_type": "code",
   "execution_count": null,
   "id": "d8f4eec4",
   "metadata": {},
   "outputs": [],
   "source": []
  }
 ],
 "metadata": {
  "kernelspec": {
   "display_name": "pyo",
   "language": "python",
   "name": "pyo"
  },
  "language_info": {
   "codemirror_mode": {
    "name": "ipython",
    "version": 3
   },
   "file_extension": ".py",
   "mimetype": "text/x-python",
   "name": "python",
   "nbconvert_exporter": "python",
   "pygments_lexer": "ipython3",
   "version": "3.8.8"
  }
 },
 "nbformat": 4,
 "nbformat_minor": 5
}
